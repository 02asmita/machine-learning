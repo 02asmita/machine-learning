{
 "cells": [
  {
   "cell_type": "markdown",
   "metadata": {},
   "source": [
    "# 5. Model the Solution"
   ]
  },
  {
   "cell_type": "markdown",
   "metadata": {
    "collapsed": true
   },
   "source": [
    "### Preprocessing to get the tidy dataframe"
   ]
  },
  {
   "cell_type": "code",
   "execution_count": 56,
   "metadata": {
    "collapsed": true
   },
   "outputs": [],
   "source": [
    "# Import the library we need, which is Pandas and Matplotlib\n",
    "import pandas as pd\n",
    "import numpy as np\n",
    "import matplotlib.pyplot as plt\n",
    "%matplotlib inline\n",
    "\n",
    "# Import statsmodel\n",
    "import statsmodels.api as sm\n",
    "import statsmodels.formula.api as smf"
   ]
  },
  {
   "cell_type": "code",
   "execution_count": 2,
   "metadata": {
    "collapsed": true
   },
   "outputs": [],
   "source": [
    "# Set some parameters to get good visuals - style to ggplot and size to 15,10\n",
    "plt.style.use('ggplot')\n",
    "plt.rcParams['figure.figsize'] = (15, 10)"
   ]
  },
  {
   "cell_type": "code",
   "execution_count": 3,
   "metadata": {
    "collapsed": true
   },
   "outputs": [],
   "source": [
    "# Read the csv file of Monthwise Quantity and Price csv file we have.\n",
    "df = pd.read_csv('MonthWiseMarketArrivals_clean.csv')"
   ]
  },
  {
   "cell_type": "code",
   "execution_count": 4,
   "metadata": {
    "collapsed": false
   },
   "outputs": [],
   "source": [
    "# Changing the date column to a Time Interval columnn\n",
    "df.date = pd.DatetimeIndex(df.date)"
   ]
  },
  {
   "cell_type": "code",
   "execution_count": 5,
   "metadata": {
    "collapsed": false
   },
   "outputs": [],
   "source": [
    "# Change the index to the date column\n",
    "df.index = pd.PeriodIndex(df.date, freq='M')"
   ]
  },
  {
   "cell_type": "code",
   "execution_count": 6,
   "metadata": {
    "collapsed": false
   },
   "outputs": [],
   "source": [
    "# Sort the data frame by date\n",
    "df = df.sort_values(by = \"date\")"
   ]
  },
  {
   "cell_type": "code",
   "execution_count": 7,
   "metadata": {
    "collapsed": false
   },
   "outputs": [
    {
     "data": {
      "text/html": [
       "<div>\n",
       "<table border=\"1\" class=\"dataframe\">\n",
       "  <thead>\n",
       "    <tr style=\"text-align: right;\">\n",
       "      <th></th>\n",
       "      <th>market</th>\n",
       "      <th>month</th>\n",
       "      <th>year</th>\n",
       "      <th>quantity</th>\n",
       "      <th>priceMin</th>\n",
       "      <th>priceMax</th>\n",
       "      <th>priceMod</th>\n",
       "      <th>state</th>\n",
       "      <th>city</th>\n",
       "      <th>date</th>\n",
       "    </tr>\n",
       "  </thead>\n",
       "  <tbody>\n",
       "    <tr>\n",
       "      <th>1996-01</th>\n",
       "      <td>LASALGAON(MS)</td>\n",
       "      <td>January</td>\n",
       "      <td>1996</td>\n",
       "      <td>225063</td>\n",
       "      <td>160</td>\n",
       "      <td>257</td>\n",
       "      <td>226</td>\n",
       "      <td>MS</td>\n",
       "      <td>LASALGAON</td>\n",
       "      <td>1996-01-01</td>\n",
       "    </tr>\n",
       "    <tr>\n",
       "      <th>1996-02</th>\n",
       "      <td>LASALGAON(MS)</td>\n",
       "      <td>February</td>\n",
       "      <td>1996</td>\n",
       "      <td>196164</td>\n",
       "      <td>133</td>\n",
       "      <td>229</td>\n",
       "      <td>186</td>\n",
       "      <td>MS</td>\n",
       "      <td>LASALGAON</td>\n",
       "      <td>1996-02-01</td>\n",
       "    </tr>\n",
       "    <tr>\n",
       "      <th>1996-03</th>\n",
       "      <td>LASALGAON(MS)</td>\n",
       "      <td>March</td>\n",
       "      <td>1996</td>\n",
       "      <td>178992</td>\n",
       "      <td>155</td>\n",
       "      <td>274</td>\n",
       "      <td>243</td>\n",
       "      <td>MS</td>\n",
       "      <td>LASALGAON</td>\n",
       "      <td>1996-03-01</td>\n",
       "    </tr>\n",
       "    <tr>\n",
       "      <th>1996-04</th>\n",
       "      <td>LASALGAON(MS)</td>\n",
       "      <td>April</td>\n",
       "      <td>1996</td>\n",
       "      <td>192592</td>\n",
       "      <td>136</td>\n",
       "      <td>279</td>\n",
       "      <td>254</td>\n",
       "      <td>MS</td>\n",
       "      <td>LASALGAON</td>\n",
       "      <td>1996-04-01</td>\n",
       "    </tr>\n",
       "    <tr>\n",
       "      <th>1996-05</th>\n",
       "      <td>LASALGAON(MS)</td>\n",
       "      <td>May</td>\n",
       "      <td>1996</td>\n",
       "      <td>237574</td>\n",
       "      <td>154</td>\n",
       "      <td>312</td>\n",
       "      <td>269</td>\n",
       "      <td>MS</td>\n",
       "      <td>LASALGAON</td>\n",
       "      <td>1996-05-01</td>\n",
       "    </tr>\n",
       "  </tbody>\n",
       "</table>\n",
       "</div>"
      ],
      "text/plain": [
       "                market     month  year  quantity  priceMin  priceMax  \\\n",
       "1996-01  LASALGAON(MS)   January  1996    225063       160       257   \n",
       "1996-02  LASALGAON(MS)  February  1996    196164       133       229   \n",
       "1996-03  LASALGAON(MS)     March  1996    178992       155       274   \n",
       "1996-04  LASALGAON(MS)     April  1996    192592       136       279   \n",
       "1996-05  LASALGAON(MS)       May  1996    237574       154       312   \n",
       "\n",
       "         priceMod state       city       date  \n",
       "1996-01       226    MS  LASALGAON 1996-01-01  \n",
       "1996-02       186    MS  LASALGAON 1996-02-01  \n",
       "1996-03       243    MS  LASALGAON 1996-03-01  \n",
       "1996-04       254    MS  LASALGAON 1996-04-01  \n",
       "1996-05       269    MS  LASALGAON 1996-05-01  "
      ]
     },
     "execution_count": 7,
     "metadata": {},
     "output_type": "execute_result"
    }
   ],
   "source": [
    "df.head()"
   ]
  },
  {
   "cell_type": "markdown",
   "metadata": {},
   "source": [
    "### PRINCIPLE: Correlation\n",
    "\n",
    "Correlation refers to any of a broad class of statistical relationships involving dependence, though in common usage it most often refers to the extent to which two variables have a linear relationship with each other.\n",
    "\n",
    "![](../img/corr.svg)"
   ]
  },
  {
   "cell_type": "code",
   "execution_count": 8,
   "metadata": {
    "collapsed": false
   },
   "outputs": [],
   "source": [
    "dfBang = df.loc[df.city == \"BANGALORE\"].copy()"
   ]
  },
  {
   "cell_type": "code",
   "execution_count": 9,
   "metadata": {
    "collapsed": false
   },
   "outputs": [
    {
     "data": {
      "text/html": [
       "<div>\n",
       "<table border=\"1\" class=\"dataframe\">\n",
       "  <thead>\n",
       "    <tr style=\"text-align: right;\">\n",
       "      <th></th>\n",
       "      <th>market</th>\n",
       "      <th>month</th>\n",
       "      <th>year</th>\n",
       "      <th>quantity</th>\n",
       "      <th>priceMin</th>\n",
       "      <th>priceMax</th>\n",
       "      <th>priceMod</th>\n",
       "      <th>state</th>\n",
       "      <th>city</th>\n",
       "      <th>date</th>\n",
       "    </tr>\n",
       "  </thead>\n",
       "  <tbody>\n",
       "    <tr>\n",
       "      <th>2004-01</th>\n",
       "      <td>BANGALORE</td>\n",
       "      <td>January</td>\n",
       "      <td>2004</td>\n",
       "      <td>227832</td>\n",
       "      <td>916</td>\n",
       "      <td>1066</td>\n",
       "      <td>991</td>\n",
       "      <td>KNT</td>\n",
       "      <td>BANGALORE</td>\n",
       "      <td>2004-01-01</td>\n",
       "    </tr>\n",
       "    <tr>\n",
       "      <th>2004-02</th>\n",
       "      <td>BANGALORE</td>\n",
       "      <td>February</td>\n",
       "      <td>2004</td>\n",
       "      <td>225133</td>\n",
       "      <td>741</td>\n",
       "      <td>870</td>\n",
       "      <td>793</td>\n",
       "      <td>KNT</td>\n",
       "      <td>BANGALORE</td>\n",
       "      <td>2004-02-01</td>\n",
       "    </tr>\n",
       "    <tr>\n",
       "      <th>2004-03</th>\n",
       "      <td>BANGALORE</td>\n",
       "      <td>March</td>\n",
       "      <td>2004</td>\n",
       "      <td>221952</td>\n",
       "      <td>527</td>\n",
       "      <td>586</td>\n",
       "      <td>556</td>\n",
       "      <td>KNT</td>\n",
       "      <td>BANGALORE</td>\n",
       "      <td>2004-03-01</td>\n",
       "    </tr>\n",
       "    <tr>\n",
       "      <th>2004-04</th>\n",
       "      <td>BANGALORE</td>\n",
       "      <td>April</td>\n",
       "      <td>2004</td>\n",
       "      <td>185150</td>\n",
       "      <td>419</td>\n",
       "      <td>518</td>\n",
       "      <td>465</td>\n",
       "      <td>KNT</td>\n",
       "      <td>BANGALORE</td>\n",
       "      <td>2004-04-01</td>\n",
       "    </tr>\n",
       "    <tr>\n",
       "      <th>2004-05</th>\n",
       "      <td>BANGALORE</td>\n",
       "      <td>May</td>\n",
       "      <td>2004</td>\n",
       "      <td>137390</td>\n",
       "      <td>400</td>\n",
       "      <td>516</td>\n",
       "      <td>455</td>\n",
       "      <td>KNT</td>\n",
       "      <td>BANGALORE</td>\n",
       "      <td>2004-05-01</td>\n",
       "    </tr>\n",
       "  </tbody>\n",
       "</table>\n",
       "</div>"
      ],
      "text/plain": [
       "            market     month  year  quantity  priceMin  priceMax  priceMod  \\\n",
       "2004-01  BANGALORE   January  2004    227832       916      1066       991   \n",
       "2004-02  BANGALORE  February  2004    225133       741       870       793   \n",
       "2004-03  BANGALORE     March  2004    221952       527       586       556   \n",
       "2004-04  BANGALORE     April  2004    185150       419       518       465   \n",
       "2004-05  BANGALORE       May  2004    137390       400       516       455   \n",
       "\n",
       "        state       city       date  \n",
       "2004-01   KNT  BANGALORE 2004-01-01  \n",
       "2004-02   KNT  BANGALORE 2004-02-01  \n",
       "2004-03   KNT  BANGALORE 2004-03-01  \n",
       "2004-04   KNT  BANGALORE 2004-04-01  \n",
       "2004-05   KNT  BANGALORE 2004-05-01  "
      ]
     },
     "execution_count": 9,
     "metadata": {},
     "output_type": "execute_result"
    }
   ],
   "source": [
    "dfBang.head()"
   ]
  },
  {
   "cell_type": "code",
   "execution_count": 10,
   "metadata": {
    "collapsed": false
   },
   "outputs": [
    {
     "data": {
      "text/html": [
       "<div>\n",
       "<table border=\"1\" class=\"dataframe\">\n",
       "  <thead>\n",
       "    <tr style=\"text-align: right;\">\n",
       "      <th></th>\n",
       "      <th>year</th>\n",
       "      <th>quantity</th>\n",
       "      <th>priceMin</th>\n",
       "      <th>priceMax</th>\n",
       "      <th>priceMod</th>\n",
       "    </tr>\n",
       "  </thead>\n",
       "  <tbody>\n",
       "    <tr>\n",
       "      <th>year</th>\n",
       "      <td>1.000000</td>\n",
       "      <td>0.305041</td>\n",
       "      <td>0.220870</td>\n",
       "      <td>0.631430</td>\n",
       "      <td>0.613692</td>\n",
       "    </tr>\n",
       "    <tr>\n",
       "      <th>quantity</th>\n",
       "      <td>0.305041</td>\n",
       "      <td>1.000000</td>\n",
       "      <td>0.122583</td>\n",
       "      <td>0.473275</td>\n",
       "      <td>0.414971</td>\n",
       "    </tr>\n",
       "    <tr>\n",
       "      <th>priceMin</th>\n",
       "      <td>0.220870</td>\n",
       "      <td>0.122583</td>\n",
       "      <td>1.000000</td>\n",
       "      <td>0.687350</td>\n",
       "      <td>0.776268</td>\n",
       "    </tr>\n",
       "    <tr>\n",
       "      <th>priceMax</th>\n",
       "      <td>0.631430</td>\n",
       "      <td>0.473275</td>\n",
       "      <td>0.687350</td>\n",
       "      <td>1.000000</td>\n",
       "      <td>0.975743</td>\n",
       "    </tr>\n",
       "    <tr>\n",
       "      <th>priceMod</th>\n",
       "      <td>0.613692</td>\n",
       "      <td>0.414971</td>\n",
       "      <td>0.776268</td>\n",
       "      <td>0.975743</td>\n",
       "      <td>1.000000</td>\n",
       "    </tr>\n",
       "  </tbody>\n",
       "</table>\n",
       "</div>"
      ],
      "text/plain": [
       "              year  quantity  priceMin  priceMax  priceMod\n",
       "year      1.000000  0.305041  0.220870  0.631430  0.613692\n",
       "quantity  0.305041  1.000000  0.122583  0.473275  0.414971\n",
       "priceMin  0.220870  0.122583  1.000000  0.687350  0.776268\n",
       "priceMax  0.631430  0.473275  0.687350  1.000000  0.975743\n",
       "priceMod  0.613692  0.414971  0.776268  0.975743  1.000000"
      ]
     },
     "execution_count": 10,
     "metadata": {},
     "output_type": "execute_result"
    }
   ],
   "source": [
    "dfBang.corr()"
   ]
  },
  {
   "cell_type": "code",
   "execution_count": 11,
   "metadata": {
    "collapsed": true
   },
   "outputs": [],
   "source": [
    "pd.set_option('precision', 2)"
   ]
  },
  {
   "cell_type": "code",
   "execution_count": 12,
   "metadata": {
    "collapsed": false
   },
   "outputs": [
    {
     "data": {
      "text/html": [
       "<div>\n",
       "<table border=\"1\" class=\"dataframe\">\n",
       "  <thead>\n",
       "    <tr style=\"text-align: right;\">\n",
       "      <th></th>\n",
       "      <th>year</th>\n",
       "      <th>quantity</th>\n",
       "      <th>priceMin</th>\n",
       "      <th>priceMax</th>\n",
       "      <th>priceMod</th>\n",
       "    </tr>\n",
       "  </thead>\n",
       "  <tbody>\n",
       "    <tr>\n",
       "      <th>year</th>\n",
       "      <td>1.00</td>\n",
       "      <td>0.31</td>\n",
       "      <td>0.22</td>\n",
       "      <td>0.63</td>\n",
       "      <td>0.61</td>\n",
       "    </tr>\n",
       "    <tr>\n",
       "      <th>quantity</th>\n",
       "      <td>0.31</td>\n",
       "      <td>1.00</td>\n",
       "      <td>0.12</td>\n",
       "      <td>0.47</td>\n",
       "      <td>0.41</td>\n",
       "    </tr>\n",
       "    <tr>\n",
       "      <th>priceMin</th>\n",
       "      <td>0.22</td>\n",
       "      <td>0.12</td>\n",
       "      <td>1.00</td>\n",
       "      <td>0.69</td>\n",
       "      <td>0.78</td>\n",
       "    </tr>\n",
       "    <tr>\n",
       "      <th>priceMax</th>\n",
       "      <td>0.63</td>\n",
       "      <td>0.47</td>\n",
       "      <td>0.69</td>\n",
       "      <td>1.00</td>\n",
       "      <td>0.98</td>\n",
       "    </tr>\n",
       "    <tr>\n",
       "      <th>priceMod</th>\n",
       "      <td>0.61</td>\n",
       "      <td>0.41</td>\n",
       "      <td>0.78</td>\n",
       "      <td>0.98</td>\n",
       "      <td>1.00</td>\n",
       "    </tr>\n",
       "  </tbody>\n",
       "</table>\n",
       "</div>"
      ],
      "text/plain": [
       "          year  quantity  priceMin  priceMax  priceMod\n",
       "year      1.00      0.31      0.22      0.63      0.61\n",
       "quantity  0.31      1.00      0.12      0.47      0.41\n",
       "priceMin  0.22      0.12      1.00      0.69      0.78\n",
       "priceMax  0.63      0.47      0.69      1.00      0.98\n",
       "priceMod  0.61      0.41      0.78      0.98      1.00"
      ]
     },
     "execution_count": 12,
     "metadata": {},
     "output_type": "execute_result"
    }
   ],
   "source": [
    "dfBang.corr()"
   ]
  },
  {
   "cell_type": "code",
   "execution_count": 13,
   "metadata": {
    "collapsed": false
   },
   "outputs": [
    {
     "data": {
      "text/plain": [
       "array([[<matplotlib.axes._subplots.AxesSubplot object at 0x117c4def0>,\n",
       "        <matplotlib.axes._subplots.AxesSubplot object at 0x117e815f8>,\n",
       "        <matplotlib.axes._subplots.AxesSubplot object at 0x117bc39b0>,\n",
       "        <matplotlib.axes._subplots.AxesSubplot object at 0x117b913c8>,\n",
       "        <matplotlib.axes._subplots.AxesSubplot object at 0x117e3a7f0>],\n",
       "       [<matplotlib.axes._subplots.AxesSubplot object at 0x117783fd0>,\n",
       "        <matplotlib.axes._subplots.AxesSubplot object at 0x117b467b8>,\n",
       "        <matplotlib.axes._subplots.AxesSubplot object at 0x11a22a588>,\n",
       "        <matplotlib.axes._subplots.AxesSubplot object at 0x117b9f550>,\n",
       "        <matplotlib.axes._subplots.AxesSubplot object at 0x11a2a9ba8>],\n",
       "       [<matplotlib.axes._subplots.AxesSubplot object at 0x11a5361d0>,\n",
       "        <matplotlib.axes._subplots.AxesSubplot object at 0x11a575278>,\n",
       "        <matplotlib.axes._subplots.AxesSubplot object at 0x11a5bdd30>,\n",
       "        <matplotlib.axes._subplots.AxesSubplot object at 0x11a600080>,\n",
       "        <matplotlib.axes._subplots.AxesSubplot object at 0x11a648d30>],\n",
       "       [<matplotlib.axes._subplots.AxesSubplot object at 0x11a684e48>,\n",
       "        <matplotlib.axes._subplots.AxesSubplot object at 0x11a6cce80>,\n",
       "        <matplotlib.axes._subplots.AxesSubplot object at 0x11a707e48>,\n",
       "        <matplotlib.axes._subplots.AxesSubplot object at 0x11a75d198>,\n",
       "        <matplotlib.axes._subplots.AxesSubplot object at 0x11a7a5780>],\n",
       "       [<matplotlib.axes._subplots.AxesSubplot object at 0x11a7e1f98>,\n",
       "        <matplotlib.axes._subplots.AxesSubplot object at 0x11a92f5c0>,\n",
       "        <matplotlib.axes._subplots.AxesSubplot object at 0x11a9710b8>,\n",
       "        <matplotlib.axes._subplots.AxesSubplot object at 0x11a9bab70>,\n",
       "        <matplotlib.axes._subplots.AxesSubplot object at 0x11a9f5d68>]], dtype=object)"
      ]
     },
     "execution_count": 13,
     "metadata": {},
     "output_type": "execute_result"
    },
    {
     "data": {
      "image/png": "[encoded data removed]",
      "text/plain": [
       "<matplotlib.figure.Figure at 0x117c4d9b0>"
      ]
     },
     "metadata": {},
     "output_type": "display_data"
    }
   ],
   "source": [
    "from pandas.tools.plotting import scatter_matrix\n",
    "scatter_matrix(dfBang, figsize=(15, 15), diagonal='kde', s = 50)"
   ]
  },
  {
   "cell_type": "markdown",
   "metadata": {},
   "source": [
    "## Question 3: Can we forecast the price of Onion in Bangalore?"
   ]
  },
  {
   "cell_type": "code",
   "execution_count": 14,
   "metadata": {
    "collapsed": false
   },
   "outputs": [
    {
     "data": {
      "text/plain": [
       "<matplotlib.axes._subplots.AxesSubplot at 0x11a61d940>"
      ]
     },
     "execution_count": 14,
     "metadata": {},
     "output_type": "execute_result"
    },
    {
     "data": {
      "image/png": "[encoded data removed]",
      "text/plain": [
       "<matplotlib.figure.Figure at 0x117c4db38>"
      ]
     },
     "metadata": {},
     "output_type": "display_data"
    }
   ],
   "source": [
    "dfBang.priceMod.plot()"
   ]
  },
  {
   "cell_type": "markdown",
   "metadata": {},
   "source": [
    "### Linear Trend Model\n",
    "\n",
    "Let us start by plotting a linear trend model between price and time"
   ]
  },
  {
   "cell_type": "code",
   "execution_count": 16,
   "metadata": {
    "collapsed": false
   },
   "outputs": [
    {
     "data": {
      "text/plain": [
       "market              object\n",
       "month               object\n",
       "year                 int64\n",
       "quantity             int64\n",
       "priceMin             int64\n",
       "priceMax             int64\n",
       "priceMod             int64\n",
       "state               object\n",
       "city                object\n",
       "date        datetime64[ns]\n",
       "dtype: object"
      ]
     },
     "execution_count": 16,
     "metadata": {},
     "output_type": "execute_result"
    }
   ],
   "source": [
    "df.dtypes"
   ]
  },
  {
   "cell_type": "code",
   "execution_count": 21,
   "metadata": {
    "collapsed": false
   },
   "outputs": [
    {
     "data": {
      "text/plain": [
       "Timestamp('2004-01-01 00:00:00')"
      ]
     },
     "execution_count": 21,
     "metadata": {},
     "output_type": "execute_result"
    }
   ],
   "source": [
    "# What is the starting month of our data\n",
    "dfBang.date.min()"
   ]
  },
  {
   "cell_type": "code",
   "execution_count": 22,
   "metadata": {
    "collapsed": false
   },
   "outputs": [],
   "source": [
    "# Convert date in datetimedelta figure starting from zero\n",
    "dfBang[\"timeIndex\"] = dfBang.date - dfBang.date.min()"
   ]
  },
  {
   "cell_type": "code",
   "execution_count": 23,
   "metadata": {
    "collapsed": false
   },
   "outputs": [
    {
     "data": {
      "text/html": [
       "<div>\n",
       "<table border=\"1\" class=\"dataframe\">\n",
       "  <thead>\n",
       "    <tr style=\"text-align: right;\">\n",
       "      <th></th>\n",
       "      <th>market</th>\n",
       "      <th>month</th>\n",
       "      <th>year</th>\n",
       "      <th>quantity</th>\n",
       "      <th>priceMin</th>\n",
       "      <th>priceMax</th>\n",
       "      <th>priceMod</th>\n",
       "      <th>state</th>\n",
       "      <th>city</th>\n",
       "      <th>date</th>\n",
       "      <th>timeIndex</th>\n",
       "    </tr>\n",
       "  </thead>\n",
       "  <tbody>\n",
       "    <tr>\n",
       "      <th>2004-01</th>\n",
       "      <td>BANGALORE</td>\n",
       "      <td>January</td>\n",
       "      <td>2004</td>\n",
       "      <td>227832</td>\n",
       "      <td>916</td>\n",
       "      <td>1066</td>\n",
       "      <td>991</td>\n",
       "      <td>KNT</td>\n",
       "      <td>BANGALORE</td>\n",
       "      <td>2004-01-01</td>\n",
       "      <td>0 days</td>\n",
       "    </tr>\n",
       "    <tr>\n",
       "      <th>2004-02</th>\n",
       "      <td>BANGALORE</td>\n",
       "      <td>February</td>\n",
       "      <td>2004</td>\n",
       "      <td>225133</td>\n",
       "      <td>741</td>\n",
       "      <td>870</td>\n",
       "      <td>793</td>\n",
       "      <td>KNT</td>\n",
       "      <td>BANGALORE</td>\n",
       "      <td>2004-02-01</td>\n",
       "      <td>31 days</td>\n",
       "    </tr>\n",
       "    <tr>\n",
       "      <th>2004-03</th>\n",
       "      <td>BANGALORE</td>\n",
       "      <td>March</td>\n",
       "      <td>2004</td>\n",
       "      <td>221952</td>\n",
       "      <td>527</td>\n",
       "      <td>586</td>\n",
       "      <td>556</td>\n",
       "      <td>KNT</td>\n",
       "      <td>BANGALORE</td>\n",
       "      <td>2004-03-01</td>\n",
       "      <td>60 days</td>\n",
       "    </tr>\n",
       "    <tr>\n",
       "      <th>2004-04</th>\n",
       "      <td>BANGALORE</td>\n",
       "      <td>April</td>\n",
       "      <td>2004</td>\n",
       "      <td>185150</td>\n",
       "      <td>419</td>\n",
       "      <td>518</td>\n",
       "      <td>465</td>\n",
       "      <td>KNT</td>\n",
       "      <td>BANGALORE</td>\n",
       "      <td>2004-04-01</td>\n",
       "      <td>91 days</td>\n",
       "    </tr>\n",
       "    <tr>\n",
       "      <th>2004-05</th>\n",
       "      <td>BANGALORE</td>\n",
       "      <td>May</td>\n",
       "      <td>2004</td>\n",
       "      <td>137390</td>\n",
       "      <td>400</td>\n",
       "      <td>516</td>\n",
       "      <td>455</td>\n",
       "      <td>KNT</td>\n",
       "      <td>BANGALORE</td>\n",
       "      <td>2004-05-01</td>\n",
       "      <td>121 days</td>\n",
       "    </tr>\n",
       "  </tbody>\n",
       "</table>\n",
       "</div>"
      ],
      "text/plain": [
       "            market     month  year  quantity  priceMin  priceMax  priceMod  \\\n",
       "2004-01  BANGALORE   January  2004    227832       916      1066       991   \n",
       "2004-02  BANGALORE  February  2004    225133       741       870       793   \n",
       "2004-03  BANGALORE     March  2004    221952       527       586       556   \n",
       "2004-04  BANGALORE     April  2004    185150       419       518       465   \n",
       "2004-05  BANGALORE       May  2004    137390       400       516       455   \n",
       "\n",
       "        state       city       date  timeIndex  \n",
       "2004-01   KNT  BANGALORE 2004-01-01     0 days  \n",
       "2004-02   KNT  BANGALORE 2004-02-01    31 days  \n",
       "2004-03   KNT  BANGALORE 2004-03-01    60 days  \n",
       "2004-04   KNT  BANGALORE 2004-04-01    91 days  \n",
       "2004-05   KNT  BANGALORE 2004-05-01   121 days  "
      ]
     },
     "execution_count": 23,
     "metadata": {},
     "output_type": "execute_result"
    }
   ],
   "source": [
    "dfBang.head()"
   ]
  },
  {
   "cell_type": "code",
   "execution_count": 25,
   "metadata": {
    "collapsed": false
   },
   "outputs": [
    {
     "data": {
      "text/plain": [
       "market              object\n",
       "month               object\n",
       "year                 int64\n",
       "quantity             int64\n",
       "priceMin             int64\n",
       "priceMax             int64\n",
       "priceMod             int64\n",
       "state               object\n",
       "city                object\n",
       "date        datetime64[ns]\n",
       "dtype: object"
      ]
     },
     "execution_count": 25,
     "metadata": {},
     "output_type": "execute_result"
    }
   ],
   "source": [
    "df.dtypes"
   ]
  },
  {
   "cell_type": "code",
   "execution_count": 26,
   "metadata": {
    "collapsed": true
   },
   "outputs": [],
   "source": [
    "# Convert to months using the timedelta function\n",
    "dfBang[\"timeIndex\"] =  dfBang[\"timeIndex\"]/np.timedelta64(1, 'M')"
   ]
  },
  {
   "cell_type": "code",
   "execution_count": 27,
   "metadata": {
    "collapsed": false
   },
   "outputs": [
    {
     "data": {
      "text/plain": [
       "2004-01    0.00\n",
       "2004-02    1.02\n",
       "2004-03    1.97\n",
       "2004-04    2.99\n",
       "2004-05    3.98\n",
       "Freq: M, Name: timeIndex, dtype: float64"
      ]
     },
     "execution_count": 27,
     "metadata": {},
     "output_type": "execute_result"
    }
   ],
   "source": [
    "dfBang.timeIndex.head()"
   ]
  },
  {
   "cell_type": "code",
   "execution_count": 29,
   "metadata": {
    "collapsed": true
   },
   "outputs": [],
   "source": [
    "# Round the number to 0\n",
    "dfBang[\"timeIndex\"] = dfBang[\"timeIndex\"].round(0)"
   ]
  },
  {
   "cell_type": "code",
   "execution_count": 30,
   "metadata": {
    "collapsed": false
   },
   "outputs": [
    {
     "data": {
      "text/plain": [
       "2004-01    0\n",
       "2004-02    1\n",
       "2004-03    2\n",
       "2004-04    3\n",
       "2004-05    4\n",
       "Freq: M, Name: timeIndex, dtype: float64"
      ]
     },
     "execution_count": 30,
     "metadata": {},
     "output_type": "execute_result"
    }
   ],
   "source": [
    "dfBang.timeIndex.head()"
   ]
  },
  {
   "cell_type": "code",
   "execution_count": 32,
   "metadata": {
    "collapsed": false
   },
   "outputs": [
    {
     "data": {
      "text/plain": [
       "<matplotlib.axes._subplots.AxesSubplot at 0x11c601cf8>"
      ]
     },
     "execution_count": 32,
     "metadata": {},
     "output_type": "execute_result"
    },
    {
     "data": {
      "image/png": "[encoded data removed]",
      "text/plain": [
       "<matplotlib.figure.Figure at 0x11c60c7f0>"
      ]
     },
     "metadata": {},
     "output_type": "display_data"
    }
   ],
   "source": [
    "dfBang.plot(kind = 'line', y = 'priceMod', x = 'timeIndex')"
   ]
  },
  {
   "cell_type": "markdown",
   "metadata": {},
   "source": [
    "For prediction we will slice the data in train and test datasets. We will take the first 120 months as training data and then predict the value on the balance months to find the prediction accuracy"
   ]
  },
  {
   "cell_type": "code",
   "execution_count": 38,
   "metadata": {
    "collapsed": false
   },
   "outputs": [
    {
     "data": {
      "text/html": [
       "<div>\n",
       "<table border=\"1\" class=\"dataframe\">\n",
       "  <thead>\n",
       "    <tr style=\"text-align: right;\">\n",
       "      <th></th>\n",
       "      <th>market</th>\n",
       "      <th>month</th>\n",
       "      <th>year</th>\n",
       "      <th>quantity</th>\n",
       "      <th>priceMin</th>\n",
       "      <th>priceMax</th>\n",
       "      <th>priceMod</th>\n",
       "      <th>state</th>\n",
       "      <th>city</th>\n",
       "      <th>date</th>\n",
       "      <th>timeIndex</th>\n",
       "    </tr>\n",
       "  </thead>\n",
       "  <tbody>\n",
       "    <tr>\n",
       "      <th>2004-01</th>\n",
       "      <td>BANGALORE</td>\n",
       "      <td>January</td>\n",
       "      <td>2004</td>\n",
       "      <td>227832</td>\n",
       "      <td>916</td>\n",
       "      <td>1066</td>\n",
       "      <td>991</td>\n",
       "      <td>KNT</td>\n",
       "      <td>BANGALORE</td>\n",
       "      <td>2004-01-01</td>\n",
       "      <td>0</td>\n",
       "    </tr>\n",
       "    <tr>\n",
       "      <th>2004-02</th>\n",
       "      <td>BANGALORE</td>\n",
       "      <td>February</td>\n",
       "      <td>2004</td>\n",
       "      <td>225133</td>\n",
       "      <td>741</td>\n",
       "      <td>870</td>\n",
       "      <td>793</td>\n",
       "      <td>KNT</td>\n",
       "      <td>BANGALORE</td>\n",
       "      <td>2004-02-01</td>\n",
       "      <td>1</td>\n",
       "    </tr>\n",
       "    <tr>\n",
       "      <th>2004-03</th>\n",
       "      <td>BANGALORE</td>\n",
       "      <td>March</td>\n",
       "      <td>2004</td>\n",
       "      <td>221952</td>\n",
       "      <td>527</td>\n",
       "      <td>586</td>\n",
       "      <td>556</td>\n",
       "      <td>KNT</td>\n",
       "      <td>BANGALORE</td>\n",
       "      <td>2004-03-01</td>\n",
       "      <td>2</td>\n",
       "    </tr>\n",
       "    <tr>\n",
       "      <th>2004-04</th>\n",
       "      <td>BANGALORE</td>\n",
       "      <td>April</td>\n",
       "      <td>2004</td>\n",
       "      <td>185150</td>\n",
       "      <td>419</td>\n",
       "      <td>518</td>\n",
       "      <td>465</td>\n",
       "      <td>KNT</td>\n",
       "      <td>BANGALORE</td>\n",
       "      <td>2004-04-01</td>\n",
       "      <td>3</td>\n",
       "    </tr>\n",
       "    <tr>\n",
       "      <th>2004-05</th>\n",
       "      <td>BANGALORE</td>\n",
       "      <td>May</td>\n",
       "      <td>2004</td>\n",
       "      <td>137390</td>\n",
       "      <td>400</td>\n",
       "      <td>516</td>\n",
       "      <td>455</td>\n",
       "      <td>KNT</td>\n",
       "      <td>BANGALORE</td>\n",
       "      <td>2004-05-01</td>\n",
       "      <td>4</td>\n",
       "    </tr>\n",
       "  </tbody>\n",
       "</table>\n",
       "</div>"
      ],
      "text/plain": [
       "            market     month  year  quantity  priceMin  priceMax  priceMod  \\\n",
       "2004-01  BANGALORE   January  2004    227832       916      1066       991   \n",
       "2004-02  BANGALORE  February  2004    225133       741       870       793   \n",
       "2004-03  BANGALORE     March  2004    221952       527       586       556   \n",
       "2004-04  BANGALORE     April  2004    185150       419       518       465   \n",
       "2004-05  BANGALORE       May  2004    137390       400       516       455   \n",
       "\n",
       "        state       city       date  timeIndex  \n",
       "2004-01   KNT  BANGALORE 2004-01-01          0  \n",
       "2004-02   KNT  BANGALORE 2004-02-01          1  \n",
       "2004-03   KNT  BANGALORE 2004-03-01          2  \n",
       "2004-04   KNT  BANGALORE 2004-04-01          3  \n",
       "2004-05   KNT  BANGALORE 2004-05-01          4  "
      ]
     },
     "execution_count": 38,
     "metadata": {},
     "output_type": "execute_result"
    }
   ],
   "source": [
    "dfBang.head()"
   ]
  },
  {
   "cell_type": "code",
   "execution_count": 65,
   "metadata": {
    "collapsed": false
   },
   "outputs": [
    {
     "data": {
      "text/html": [
       "<div>\n",
       "<table border=\"1\" class=\"dataframe\">\n",
       "  <thead>\n",
       "    <tr style=\"text-align: right;\">\n",
       "      <th></th>\n",
       "      <th>priceMod</th>\n",
       "      <th>timeIndex</th>\n",
       "    </tr>\n",
       "  </thead>\n",
       "  <tbody>\n",
       "    <tr>\n",
       "      <th>2013-08</th>\n",
       "      <td>3319</td>\n",
       "      <td>115</td>\n",
       "    </tr>\n",
       "    <tr>\n",
       "      <th>2013-09</th>\n",
       "      <td>3196</td>\n",
       "      <td>116</td>\n",
       "    </tr>\n",
       "    <tr>\n",
       "      <th>2013-10</th>\n",
       "      <td>3430</td>\n",
       "      <td>117</td>\n",
       "    </tr>\n",
       "    <tr>\n",
       "      <th>2013-11</th>\n",
       "      <td>2709</td>\n",
       "      <td>118</td>\n",
       "    </tr>\n",
       "    <tr>\n",
       "      <th>2013-12</th>\n",
       "      <td>1504</td>\n",
       "      <td>119</td>\n",
       "    </tr>\n",
       "  </tbody>\n",
       "</table>\n",
       "</div>"
      ],
      "text/plain": [
       "         priceMod  timeIndex\n",
       "2013-08      3319        115\n",
       "2013-09      3196        116\n",
       "2013-10      3430        117\n",
       "2013-11      2709        118\n",
       "2013-12      1504        119"
      ]
     },
     "execution_count": 65,
     "metadata": {},
     "output_type": "execute_result"
    }
   ],
   "source": [
    "# We want the first 120 rows and the 6th (priceMod) and 10th (timeIndex) columns\n",
    "train = dfBang.iloc[:120, [6, 10]]\n",
    "train.tail()"
   ]
  },
  {
   "cell_type": "code",
   "execution_count": 68,
   "metadata": {
    "collapsed": false
   },
   "outputs": [
    {
     "data": {
      "text/html": [
       "<div>\n",
       "<table border=\"1\" class=\"dataframe\">\n",
       "  <thead>\n",
       "    <tr style=\"text-align: right;\">\n",
       "      <th></th>\n",
       "      <th>priceMod</th>\n",
       "      <th>timeIndex</th>\n",
       "    </tr>\n",
       "  </thead>\n",
       "  <tbody>\n",
       "    <tr>\n",
       "      <th>2014-01</th>\n",
       "      <td>1094</td>\n",
       "      <td>120</td>\n",
       "    </tr>\n",
       "    <tr>\n",
       "      <th>2014-02</th>\n",
       "      <td>797</td>\n",
       "      <td>121</td>\n",
       "    </tr>\n",
       "    <tr>\n",
       "      <th>2014-03</th>\n",
       "      <td>748</td>\n",
       "      <td>122</td>\n",
       "    </tr>\n",
       "    <tr>\n",
       "      <th>2014-04</th>\n",
       "      <td>712</td>\n",
       "      <td>123</td>\n",
       "    </tr>\n",
       "    <tr>\n",
       "      <th>2014-05</th>\n",
       "      <td>941</td>\n",
       "      <td>124</td>\n",
       "    </tr>\n",
       "  </tbody>\n",
       "</table>\n",
       "</div>"
      ],
      "text/plain": [
       "         priceMod  timeIndex\n",
       "2014-01      1094        120\n",
       "2014-02       797        121\n",
       "2014-03       748        122\n",
       "2014-04       712        123\n",
       "2014-05       941        124"
      ]
     },
     "execution_count": 68,
     "metadata": {},
     "output_type": "execute_result"
    }
   ],
   "source": [
    "test = dfBang.iloc[120:,[6,10]]\n",
    "test.head()"
   ]
  },
  {
   "cell_type": "markdown",
   "metadata": {},
   "source": [
    "Let us fit a linear model to the data set"
   ]
  },
  {
   "cell_type": "code",
   "execution_count": 70,
   "metadata": {
    "collapsed": false
   },
   "outputs": [],
   "source": [
    "lm = smf.ols('priceMod ~ timeIndex', data = test).fit()"
   ]
  },
  {
   "cell_type": "code",
   "execution_count": 71,
   "metadata": {
    "collapsed": false
   },
   "outputs": [
    {
     "data": {
      "text/html": [
       "<table class=\"simpletable\">\n",
       "<caption>OLS Regression Results</caption>\n",
       "<tr>\n",
       "  <th>Dep. Variable:</th>        <td>priceMod</td>     <th>  R-squared:         </th> <td>   0.176</td>\n",
       "</tr>\n",
       "<tr>\n",
       "  <th>Model:</th>                   <td>OLS</td>       <th>  Adj. R-squared:    </th> <td>   0.141</td>\n",
       "</tr>\n",
       "<tr>\n",
       "  <th>Method:</th>             <td>Least Squares</td>  <th>  F-statistic:       </th> <td>   5.116</td>\n",
       "</tr>\n",
       "<tr>\n",
       "  <th>Date:</th>             <td>Sat, 19 Mar 2016</td> <th>  Prob (F-statistic):</th>  <td>0.0330</td> \n",
       "</tr>\n",
       "<tr>\n",
       "  <th>Time:</th>                 <td>15:18:03</td>     <th>  Log-Likelihood:    </th> <td> -201.22</td>\n",
       "</tr>\n",
       "<tr>\n",
       "  <th>No. Observations:</th>      <td>    26</td>      <th>  AIC:               </th> <td>   406.4</td>\n",
       "</tr>\n",
       "<tr>\n",
       "  <th>Df Residuals:</th>          <td>    24</td>      <th>  BIC:               </th> <td>   409.0</td>\n",
       "</tr>\n",
       "<tr>\n",
       "  <th>Df Model:</th>              <td>     1</td>      <th>                     </th>     <td> </td>   \n",
       "</tr>\n",
       "<tr>\n",
       "  <th>Covariance Type:</th>      <td>nonrobust</td>    <th>                     </th>     <td> </td>   \n",
       "</tr>\n",
       "</table>\n",
       "<table class=\"simpletable\">\n",
       "<tr>\n",
       "      <td></td>         <th>coef</th>     <th>std err</th>      <th>t</th>      <th>P>|t|</th> <th>[95.0% Conf. Int.]</th> \n",
       "</tr>\n",
       "<tr>\n",
       "  <th>Intercept</th> <td>-2893.4120</td> <td> 2007.593</td> <td>   -1.441</td> <td> 0.162</td> <td>-7036.881  1250.057</td>\n",
       "</tr>\n",
       "<tr>\n",
       "  <th>timeIndex</th> <td>   34.2168</td> <td>   15.127</td> <td>    2.262</td> <td> 0.033</td> <td>    2.995    65.438</td>\n",
       "</tr>\n",
       "</table>\n",
       "<table class=\"simpletable\">\n",
       "<tr>\n",
       "  <th>Omnibus:</th>       <td> 2.177</td> <th>  Durbin-Watson:     </th> <td>   0.477</td>\n",
       "</tr>\n",
       "<tr>\n",
       "  <th>Prob(Omnibus):</th> <td> 0.337</td> <th>  Jarque-Bera (JB):  </th> <td>   1.801</td>\n",
       "</tr>\n",
       "<tr>\n",
       "  <th>Skew:</th>          <td> 0.621</td> <th>  Prob(JB):          </th> <td>   0.406</td>\n",
       "</tr>\n",
       "<tr>\n",
       "  <th>Kurtosis:</th>      <td> 2.656</td> <th>  Cond. No.          </th> <td>2.35e+03</td>\n",
       "</tr>\n",
       "</table>"
      ],
      "text/plain": [
       "<class 'statsmodels.iolib.summary.Summary'>\n",
       "\"\"\"\n",
       "                            OLS Regression Results                            \n",
       "==============================================================================\n",
       "Dep. Variable:               priceMod   R-squared:                       0.176\n",
       "Model:                            OLS   Adj. R-squared:                  0.141\n",
       "Method:                 Least Squares   F-statistic:                     5.116\n",
       "Date:                Sat, 19 Mar 2016   Prob (F-statistic):             0.0330\n",
       "Time:                        15:18:03   Log-Likelihood:                -201.22\n",
       "No. Observations:                  26   AIC:                             406.4\n",
       "Df Residuals:                      24   BIC:                             409.0\n",
       "Df Model:                           1                                         \n",
       "Covariance Type:            nonrobust                                         \n",
       "==============================================================================\n",
       "                 coef    std err          t      P>|t|      [95.0% Conf. Int.]\n",
       "------------------------------------------------------------------------------\n",
       "Intercept  -2893.4120   2007.593     -1.441      0.162     -7036.881  1250.057\n",
       "timeIndex     34.2168     15.127      2.262      0.033         2.995    65.438\n",
       "==============================================================================\n",
       "Omnibus:                        2.177   Durbin-Watson:                   0.477\n",
       "Prob(Omnibus):                  0.337   Jarque-Bera (JB):                1.801\n",
       "Skew:                           0.621   Prob(JB):                        0.406\n",
       "Kurtosis:                       2.656   Cond. No.                     2.35e+03\n",
       "==============================================================================\n",
       "\n",
       "Warnings:\n",
       "[1] Standard Errors assume that the covariance matrix of the errors is correctly specified.\n",
       "[2] The condition number is large, 2.35e+03. This might indicate that there are\n",
       "strong multicollinearity or other numerical problems.\n",
       "\"\"\""
      ]
     },
     "execution_count": 71,
     "metadata": {},
     "output_type": "execute_result"
    }
   ],
   "source": [
    "lm.summary()"
   ]
  },
  {
   "cell_type": "code",
   "execution_count": 77,
   "metadata": {
    "collapsed": false
   },
   "outputs": [
    {
     "data": {
      "text/plain": [
       "Intercept   -2893.41\n",
       "timeIndex      34.22\n",
       "dtype: float64"
      ]
     },
     "execution_count": 77,
     "metadata": {},
     "output_type": "execute_result"
    }
   ],
   "source": [
    "## Parameters for y = mx + c equation\n",
    "lm.params"
   ]
  },
  {
   "cell_type": "raw",
   "metadata": {},
   "source": [
    "lm2"
   ]
  },
  {
   "cell_type": "code",
   "execution_count": null,
   "metadata": {
    "collapsed": true
   },
   "outputs": [],
   "source": []
  },
  {
   "cell_type": "code",
   "execution_count": null,
   "metadata": {
    "collapsed": true
   },
   "outputs": [],
   "source": []
  },
  {
   "cell_type": "code",
   "execution_count": null,
   "metadata": {
    "collapsed": false
   },
   "outputs": [],
   "source": [
    "dfBang.priceMod.plot(kind = \"hist\", bins = 30)"
   ]
  },
  {
   "cell_type": "code",
   "execution_count": null,
   "metadata": {
    "collapsed": true
   },
   "outputs": [],
   "source": [
    "# We take the log transform to reduce the impact of high values\n",
    "dfBang.loc[:,'priceModLog'] = np.log(dfBang.priceMod)"
   ]
  },
  {
   "cell_type": "code",
   "execution_count": null,
   "metadata": {
    "collapsed": false
   },
   "outputs": [],
   "source": [
    "dfBang.head()"
   ]
  },
  {
   "cell_type": "code",
   "execution_count": null,
   "metadata": {
    "collapsed": false
   },
   "outputs": [],
   "source": [
    "dfBang.priceModLog.plot(kind = \"hist\", bins = 30)"
   ]
  },
  {
   "cell_type": "code",
   "execution_count": null,
   "metadata": {
    "collapsed": false
   },
   "outputs": [],
   "source": [
    "dfBang.priceModLog.plot()"
   ]
  },
  {
   "cell_type": "markdown",
   "metadata": {},
   "source": [
    "### Lets start with a linear regression model"
   ]
  },
  {
   "cell_type": "code",
   "execution_count": null,
   "metadata": {
    "collapsed": false
   },
   "outputs": [],
   "source": [
    "dfBang.head()"
   ]
  },
  {
   "cell_type": "code",
   "execution_count": null,
   "metadata": {
    "collapsed": false
   },
   "outputs": [],
   "source": [
    "# Lets find the minimum date in the time series \n",
    "datemin = dfBang.date.min()\n",
    "datemin"
   ]
  },
  {
   "cell_type": "code",
   "execution_count": null,
   "metadata": {
    "collapsed": false
   },
   "outputs": [],
   "source": [
    "# Lets find an index of date by subtracting the minimum time from the date\n",
    "dfBang.loc[:,'time'] = dfBang.loc[:,'date'] - datemin"
   ]
  },
  {
   "cell_type": "code",
   "execution_count": null,
   "metadata": {
    "collapsed": false
   },
   "outputs": [],
   "source": [
    "# We get a new pandas object called timedelta64\n",
    "dfBang.dtypes"
   ]
  },
  {
   "cell_type": "code",
   "execution_count": null,
   "metadata": {
    "collapsed": false
   },
   "outputs": [],
   "source": [
    "dfBang.head()"
   ]
  },
  {
   "cell_type": "code",
   "execution_count": null,
   "metadata": {
    "collapsed": false
   },
   "outputs": [],
   "source": [
    "# Convert to months (these are constant months)\n",
    "dfBang.loc[:, 'timeindex'] = dfBang.loc[:,'time'] / np.timedelta64(1, 'M')"
   ]
  },
  {
   "cell_type": "code",
   "execution_count": null,
   "metadata": {
    "collapsed": false
   },
   "outputs": [],
   "source": [
    "dfBang.loc[:, 'timeindex'].head()"
   ]
  },
  {
   "cell_type": "code",
   "execution_count": null,
   "metadata": {
    "collapsed": false
   },
   "outputs": [],
   "source": [
    "dfBang.timeindex.shape"
   ]
  },
  {
   "cell_type": "code",
   "execution_count": null,
   "metadata": {
    "collapsed": false
   },
   "outputs": [],
   "source": [
    "dfBang.loc[:, 'timeindex'] = dfBang.loc[:, 'timeindex'].round(0).astype(int)"
   ]
  },
  {
   "cell_type": "code",
   "execution_count": null,
   "metadata": {
    "collapsed": false
   },
   "outputs": [],
   "source": [
    "dfBang.head()"
   ]
  },
  {
   "cell_type": "code",
   "execution_count": null,
   "metadata": {
    "collapsed": false
   },
   "outputs": [],
   "source": [
    "dfBang.plot(kind = \"scatter\", x = \"timeindex\", y = \"priceModLog\", s = 100)"
   ]
  },
  {
   "cell_type": "code",
   "execution_count": null,
   "metadata": {
    "collapsed": false
   },
   "outputs": [],
   "source": [
    "x = dfBang.timeindex\n",
    "y = dfBang.priceModLog\n",
    "lm = sm.OLS(y, x).fit()"
   ]
  },
  {
   "cell_type": "code",
   "execution_count": null,
   "metadata": {
    "collapsed": false
   },
   "outputs": [],
   "source": [
    "lm.summary()"
   ]
  },
  {
   "cell_type": "code",
   "execution_count": null,
   "metadata": {
    "collapsed": true
   },
   "outputs": [],
   "source": []
  },
  {
   "cell_type": "code",
   "execution_count": null,
   "metadata": {
    "collapsed": true
   },
   "outputs": [],
   "source": [
    "# One approach to remove the trend and seasonality impact is to take the difference between each observation\n",
    "ts_log_diff = ts_log - ts_log.shift()"
   ]
  },
  {
   "cell_type": "code",
   "execution_count": null,
   "metadata": {
    "collapsed": false
   },
   "outputs": [],
   "source": [
    "ts_log_diff.plot()\n",
    "ts_log.plot()"
   ]
  },
  {
   "cell_type": "code",
   "execution_count": null,
   "metadata": {
    "collapsed": true
   },
   "outputs": [],
   "source": [
    "# For smoothing the values we can use\n",
    "# 12 month Moving Averages \n",
    "ts_log_diff_ma = pd.rolling_mean(ts_log_diff, window = 12)"
   ]
  },
  {
   "cell_type": "code",
   "execution_count": null,
   "metadata": {
    "collapsed": true
   },
   "outputs": [],
   "source": [
    "# Simple Exponential Smoothing\n",
    "ts_log_diff_exp = pd.ewma(ts_log_diff, halflife=24)"
   ]
  },
  {
   "cell_type": "code",
   "execution_count": null,
   "metadata": {
    "collapsed": false
   },
   "outputs": [],
   "source": [
    "ts_log_diff_ma.plot()\n",
    "ts_log_diff_exp.plot()\n",
    "ts_log_diff.plot()"
   ]
  },
  {
   "cell_type": "markdown",
   "metadata": {},
   "source": [
    "Now we can fit an ARIMA model on this (Explaining ARIMA is out of scope of this workshop)"
   ]
  },
  {
   "cell_type": "code",
   "execution_count": null,
   "metadata": {
    "collapsed": true
   },
   "outputs": [],
   "source": [
    "from statsmodels.tsa.arima_model import ARIMA"
   ]
  },
  {
   "cell_type": "code",
   "execution_count": null,
   "metadata": {
    "collapsed": true
   },
   "outputs": [],
   "source": [
    "model = ARIMA(ts_log, order=(0, 1, 2))"
   ]
  },
  {
   "cell_type": "code",
   "execution_count": null,
   "metadata": {
    "collapsed": false
   },
   "outputs": [],
   "source": [
    "results_MA = model.fit(disp=-1)  \n",
    "plt.plot(ts_log_diff)\n",
    "plt.plot(results_MA.fittedvalues, color='blue')"
   ]
  },
  {
   "cell_type": "markdown",
   "metadata": {
    "collapsed": true
   },
   "source": [
    "### TIme Series Modelling\n",
    "\n",
    "However, we have our data at constant time intervals of every month. Therefore we can analyze this data  to determine the long term trend so as to forecast the future or perform some other form of analysis. \n",
    "\n",
    "- Instead of using linear regression model where observations are independent, our observations are really time-dependent and we should use that.\n",
    "- Second, we need to account for both a trend component and seasonality component in the time series data to better improve our forecast"
   ]
  },
  {
   "cell_type": "code",
   "execution_count": null,
   "metadata": {
    "collapsed": true
   },
   "outputs": [],
   "source": []
  }
 ],
 "metadata": {
  "kernelspec": {
   "display_name": "Python 3",
   "language": "python",
   "name": "python3"
  },
  "language_info": {
   "codemirror_mode": {
    "name": "ipython",
    "version": 3
   },
   "file_extension": ".py",
   "mimetype": "text/x-python",
   "name": "python",
   "nbconvert_exporter": "python",
   "pygments_lexer": "ipython3",
   "version": "3.5.1"
  }
 },
 "nbformat": 4,
 "nbformat_minor": 0
}
