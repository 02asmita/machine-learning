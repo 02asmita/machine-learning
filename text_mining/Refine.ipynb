{
 "cells": [
  {
   "cell_type": "markdown",
   "metadata": {},
   "source": [
    "# Refine the Data"
   ]
  },
  {
   "cell_type": "code",
   "execution_count": 66,
   "metadata": {
    "collapsed": true
   },
   "outputs": [],
   "source": [
    "import pandas as pd"
   ]
  },
  {
   "cell_type": "code",
   "execution_count": 67,
   "metadata": {
    "collapsed": true
   },
   "outputs": [],
   "source": [
    "df = pd.read_csv('data_tau.csv')"
   ]
  },
  {
   "cell_type": "code",
   "execution_count": 68,
   "metadata": {
    "collapsed": false
   },
   "outputs": [
    {
     "data": {
      "text/html": [
       "<div>\n",
       "<table border=\"1\" class=\"dataframe\">\n",
       "  <thead>\n",
       "    <tr style=\"text-align: right;\">\n",
       "      <th></th>\n",
       "      <th>title</th>\n",
       "      <th>date</th>\n",
       "    </tr>\n",
       "  </thead>\n",
       "  <tbody>\n",
       "    <tr>\n",
       "      <th>0</th>\n",
       "      <td>Deep Advances in Generative Modeling</td>\n",
       "      <td>6 points by gwulfs 5 hours ago  | discuss</td>\n",
       "    </tr>\n",
       "    <tr>\n",
       "      <th>1</th>\n",
       "      <td>A Neural Network in 11 lines of Python</td>\n",
       "      <td>2 points by dekhtiar 5 hours ago  | discuss</td>\n",
       "    </tr>\n",
       "    <tr>\n",
       "      <th>2</th>\n",
       "      <td>Python, Machine Learning, and Language Wars</td>\n",
       "      <td>3 points by pmigdal 7 hours ago  | discuss</td>\n",
       "    </tr>\n",
       "    <tr>\n",
       "      <th>3</th>\n",
       "      <td>Markov Chains Explained Visually</td>\n",
       "      <td>11 points by zeroviscosity 1 day ago  | 1 comment</td>\n",
       "    </tr>\n",
       "    <tr>\n",
       "      <th>4</th>\n",
       "      <td>Dplython: Dplyr for Python</td>\n",
       "      <td>10 points by thenaturalist 1 day ago  | 3 comm...</td>\n",
       "    </tr>\n",
       "  </tbody>\n",
       "</table>\n",
       "</div>"
      ],
      "text/plain": [
       "                                         title  \\\n",
       "0         Deep Advances in Generative Modeling   \n",
       "1      A Neural Network in 11 lines of Python    \n",
       "2  Python, Machine Learning, and Language Wars   \n",
       "3             Markov Chains Explained Visually   \n",
       "4                   Dplython: Dplyr for Python   \n",
       "\n",
       "                                                date  \n",
       "0          6 points by gwulfs 5 hours ago  | discuss  \n",
       "1        2 points by dekhtiar 5 hours ago  | discuss  \n",
       "2         3 points by pmigdal 7 hours ago  | discuss  \n",
       "3  11 points by zeroviscosity 1 day ago  | 1 comment  \n",
       "4  10 points by thenaturalist 1 day ago  | 3 comm...  "
      ]
     },
     "execution_count": 68,
     "metadata": {},
     "output_type": "execute_result"
    }
   ],
   "source": [
    "df.head()"
   ]
  },
  {
   "cell_type": "markdown",
   "metadata": {},
   "source": [
    "To get the date of the title - we will need the following algorithm\n",
    "- If the string contains **hours** we can consider it **1 day**\n",
    "- And if the string has **day**, we pick the number preceding the **day**\n",
    "\n",
    "To apply this algorithm, we need to be able to pick these words and digits from a string. For that we will use Regular Expression."
   ]
  },
  {
   "cell_type": "markdown",
   "metadata": {},
   "source": [
    "## Introduction to Regular Expression (Regex)\n",
    "\n",
    "Regular expression is a way of selecting text using symbols in a string.\n",
    "\n",
    "Refer to the following links for an interactive playground\n",
    "- [http://regexr.com](http://regexr.com/)\n",
    "- [http://regex101.com/](http://regex101.com/)"
   ]
  },
  {
   "cell_type": "code",
   "execution_count": 1,
   "metadata": {
    "collapsed": true
   },
   "outputs": [],
   "source": [
    "import re"
   ]
  },
  {
   "cell_type": "code",
   "execution_count": 2,
   "metadata": {
    "collapsed": true
   },
   "outputs": [],
   "source": [
    "test_string = \"Hello world, welcome to 2016.\""
   ]
  },
  {
   "cell_type": "code",
   "execution_count": 112,
   "metadata": {
    "collapsed": false
   },
   "outputs": [
    {
     "data": {
      "text/plain": [
       "'Hello world, welcome to 2016'"
      ]
     },
     "execution_count": 112,
     "metadata": {},
     "output_type": "execute_result"
    }
   ],
   "source": [
    "# We can pass the whole string and re.search will give the first occurence of the value\n",
    "# re.search - This function searches for first occurrence of RE pattern within string.\n",
    "a = re.search('Hello world, welcome to 2016',test_string)\n",
    "a.group()"
   ]
  },
  {
   "cell_type": "code",
   "execution_count": 109,
   "metadata": {
    "collapsed": false
   },
   "outputs": [
    {
     "data": {
      "text/plain": [
       "'H'"
      ]
     },
     "execution_count": 109,
     "metadata": {},
     "output_type": "execute_result"
    }
   ],
   "source": [
    "# Match the first letters in the string\n",
    "a = re.search('.',test_string)\n",
    "a.group()"
   ]
  },
  {
   "cell_type": "code",
   "execution_count": 108,
   "metadata": {
    "collapsed": false
   },
   "outputs": [
    {
     "data": {
      "text/plain": [
       "'Hello world, welcome to 2016.'"
      ]
     },
     "execution_count": 108,
     "metadata": {},
     "output_type": "execute_result"
    }
   ],
   "source": [
    "# Match all the letters in the string\n",
    "a = re.search('.*',test_string)\n",
    "a.group()"
   ]
  },
  {
   "cell_type": "code",
   "execution_count": 11,
   "metadata": {
    "collapsed": false
   },
   "outputs": [
    {
     "name": "stdout",
     "output_type": "stream",
     "text": [
      "<_sre.SRE_Match object; span=(0, 5), match='Hello'>\n"
     ]
    }
   ],
   "source": [
    "a = re.search('Hello',test_string)\n",
    "print(a)"
   ]
  },
  {
   "cell_type": "markdown",
   "metadata": {},
   "source": [
    "** Some basic symbols**\n",
    "\n",
    "**`?`**   \n",
    "\n",
    "The question mark indicates zero or one occurrences of the preceding element. For example, colou?r matches both \"color\" and \"colour\".\n",
    "\n",
    "**`\\*`**\n",
    "\n",
    "The asterisk indicates zero or more occurrences of the preceding element. For example, ab*c matches \"ac\", \"abc\", \"abbc\", \"abbbc\", and so on.\n",
    "\n",
    "**`\\+`**\t\n",
    "The plus sign indicates one or more occurrences of the preceding element. For example, ab+c matches \"abc\", \"abbc\", \"abbbc\", and so on, but not \"ac\".\n"
   ]
  },
  {
   "cell_type": "code",
   "execution_count": 21,
   "metadata": {
    "collapsed": false
   },
   "outputs": [
    {
     "name": "stdout",
     "output_type": "stream",
     "text": [
      "<_sre.SRE_Match object; span=(0, 2), match='He'>\n"
     ]
    }
   ],
   "source": [
    "a = re.search('\\w.',test_string)\n",
    "print(a)"
   ]
  },
  {
   "cell_type": "code",
   "execution_count": 22,
   "metadata": {
    "collapsed": false
   },
   "outputs": [
    {
     "name": "stdout",
     "output_type": "stream",
     "text": [
      "<_sre.SRE_Match object; span=(0, 5), match='Hello'>\n"
     ]
    }
   ],
   "source": [
    "a = re.search('\\w*',test_string)\n",
    "print(a)"
   ]
  },
  {
   "cell_type": "markdown",
   "metadata": {},
   "source": [
    "### Exercises"
   ]
  },
  {
   "cell_type": "code",
   "execution_count": 89,
   "metadata": {
    "collapsed": true
   },
   "outputs": [],
   "source": [
    "string = \"In 2016, we are learning Text Analytics in Data Science 101 by scraping http://datatau.com\""
   ]
  },
  {
   "cell_type": "markdown",
   "metadata": {},
   "source": [
    "Write a regex to pick the numbers 2016 from string above."
   ]
  },
  {
   "cell_type": "code",
   "execution_count": null,
   "metadata": {
    "collapsed": true
   },
   "outputs": [],
   "source": []
  },
  {
   "cell_type": "markdown",
   "metadata": {},
   "source": [
    "Write a regex to pick the url link from the string above "
   ]
  },
  {
   "cell_type": "code",
   "execution_count": null,
   "metadata": {
    "collapsed": true
   },
   "outputs": [],
   "source": []
  },
  {
   "cell_type": "markdown",
   "metadata": {},
   "source": [
    "## Lets get the date from our string"
   ]
  },
  {
   "cell_type": "code",
   "execution_count": 25,
   "metadata": {
    "collapsed": false
   },
   "outputs": [
    {
     "data": {
      "text/html": [
       "<div>\n",
       "<table border=\"1\" class=\"dataframe\">\n",
       "  <thead>\n",
       "    <tr style=\"text-align: right;\">\n",
       "      <th></th>\n",
       "      <th>title</th>\n",
       "      <th>date</th>\n",
       "    </tr>\n",
       "  </thead>\n",
       "  <tbody>\n",
       "    <tr>\n",
       "      <th>0</th>\n",
       "      <td>Deep Advances in Generative Modeling</td>\n",
       "      <td>6 points by gwulfs 5 hours ago  | discuss</td>\n",
       "    </tr>\n",
       "    <tr>\n",
       "      <th>1</th>\n",
       "      <td>A Neural Network in 11 lines of Python</td>\n",
       "      <td>2 points by dekhtiar 5 hours ago  | discuss</td>\n",
       "    </tr>\n",
       "    <tr>\n",
       "      <th>2</th>\n",
       "      <td>Python, Machine Learning, and Language Wars</td>\n",
       "      <td>3 points by pmigdal 7 hours ago  | discuss</td>\n",
       "    </tr>\n",
       "    <tr>\n",
       "      <th>3</th>\n",
       "      <td>Markov Chains Explained Visually</td>\n",
       "      <td>11 points by zeroviscosity 1 day ago  | 1 comment</td>\n",
       "    </tr>\n",
       "    <tr>\n",
       "      <th>4</th>\n",
       "      <td>Dplython: Dplyr for Python</td>\n",
       "      <td>10 points by thenaturalist 1 day ago  | 3 comm...</td>\n",
       "    </tr>\n",
       "  </tbody>\n",
       "</table>\n",
       "</div>"
      ],
      "text/plain": [
       "                                         title  \\\n",
       "0         Deep Advances in Generative Modeling   \n",
       "1      A Neural Network in 11 lines of Python    \n",
       "2  Python, Machine Learning, and Language Wars   \n",
       "3             Markov Chains Explained Visually   \n",
       "4                   Dplython: Dplyr for Python   \n",
       "\n",
       "                                                date  \n",
       "0          6 points by gwulfs 5 hours ago  | discuss  \n",
       "1        2 points by dekhtiar 5 hours ago  | discuss  \n",
       "2         3 points by pmigdal 7 hours ago  | discuss  \n",
       "3  11 points by zeroviscosity 1 day ago  | 1 comment  \n",
       "4  10 points by thenaturalist 1 day ago  | 3 comm...  "
      ]
     },
     "execution_count": 25,
     "metadata": {},
     "output_type": "execute_result"
    }
   ],
   "source": [
    "df.head()"
   ]
  },
  {
   "cell_type": "code",
   "execution_count": 20,
   "metadata": {
    "collapsed": false
   },
   "outputs": [
    {
     "data": {
      "text/html": [
       "<div>\n",
       "<table border=\"1\" class=\"dataframe\">\n",
       "  <thead>\n",
       "    <tr style=\"text-align: right;\">\n",
       "      <th></th>\n",
       "      <th>title</th>\n",
       "      <th>date</th>\n",
       "    </tr>\n",
       "  </thead>\n",
       "  <tbody>\n",
       "    <tr>\n",
       "      <th>175</th>\n",
       "      <td>Finding Nearest Neighbors in SQL</td>\n",
       "      <td>7 points by jonathanbishop 50 days ago  | 2 co...</td>\n",
       "    </tr>\n",
       "    <tr>\n",
       "      <th>176</th>\n",
       "      <td>Free Data Science Curriculum</td>\n",
       "      <td>8 points by Veerle 52 days ago  | discuss</td>\n",
       "    </tr>\n",
       "    <tr>\n",
       "      <th>177</th>\n",
       "      <td>Deep Learning is Easy - Learn Something Harder</td>\n",
       "      <td>5 points by ebellm 48 days ago  | discuss</td>\n",
       "    </tr>\n",
       "    <tr>\n",
       "      <th>178</th>\n",
       "      <td>FlyElephant as a tool for calculations in C++,...</td>\n",
       "      <td>6 points by m31 51 days ago  | discuss</td>\n",
       "    </tr>\n",
       "    <tr>\n",
       "      <th>179</th>\n",
       "      <td>Yahoo Releases the Largest-ever Machine Learni...</td>\n",
       "      <td>13 points by srinify 62 days ago  | 1 comment</td>\n",
       "    </tr>\n",
       "  </tbody>\n",
       "</table>\n",
       "</div>"
      ],
      "text/plain": [
       "                                                 title  \\\n",
       "175                   Finding Nearest Neighbors in SQL   \n",
       "176                       Free Data Science Curriculum   \n",
       "177     Deep Learning is Easy - Learn Something Harder   \n",
       "178  FlyElephant as a tool for calculations in C++,...   \n",
       "179  Yahoo Releases the Largest-ever Machine Learni...   \n",
       "\n",
       "                                                  date  \n",
       "175  7 points by jonathanbishop 50 days ago  | 2 co...  \n",
       "176          8 points by Veerle 52 days ago  | discuss  \n",
       "177          5 points by ebellm 48 days ago  | discuss  \n",
       "178             6 points by m31 51 days ago  | discuss  \n",
       "179      13 points by srinify 62 days ago  | 1 comment  "
      ]
     },
     "execution_count": 20,
     "metadata": {},
     "output_type": "execute_result"
    }
   ],
   "source": [
    "df.tail()"
   ]
  },
  {
   "cell_type": "code",
   "execution_count": 43,
   "metadata": {
    "collapsed": true
   },
   "outputs": [],
   "source": [
    "date_string = df['date'][0]"
   ]
  },
  {
   "cell_type": "code",
   "execution_count": 44,
   "metadata": {
    "collapsed": false
   },
   "outputs": [
    {
     "name": "stdout",
     "output_type": "stream",
     "text": [
      "6 points by gwulfs 5 hours ago  | discuss\n"
     ]
    }
   ],
   "source": [
    "print(date_string)"
   ]
  },
  {
   "cell_type": "code",
   "execution_count": 45,
   "metadata": {
    "collapsed": false
   },
   "outputs": [
    {
     "data": {
      "text/plain": [
       "<_sre.SRE_Match object; span=(21, 26), match='hours'>"
      ]
     },
     "execution_count": 45,
     "metadata": {},
     "output_type": "execute_result"
    }
   ],
   "source": [
    "re.search('hours',date_string)"
   ]
  },
  {
   "cell_type": "code",
   "execution_count": 46,
   "metadata": {
    "collapsed": true
   },
   "outputs": [],
   "source": [
    "date_string = df['date'][50]"
   ]
  },
  {
   "cell_type": "code",
   "execution_count": 47,
   "metadata": {
    "collapsed": false
   },
   "outputs": [
    {
     "name": "stdout",
     "output_type": "stream",
     "text": [
      "12 points by carlosgg 14 days ago  | discuss\n"
     ]
    }
   ],
   "source": [
    "print(date_string)"
   ]
  },
  {
   "cell_type": "code",
   "execution_count": 49,
   "metadata": {
    "collapsed": true
   },
   "outputs": [],
   "source": [
    "# If hours is not there, we don't get any match\n",
    "re.search('hours',date_string)"
   ]
  },
  {
   "cell_type": "code",
   "execution_count": 50,
   "metadata": {
    "collapsed": false
   },
   "outputs": [
    {
     "data": {
      "text/plain": [
       "<_sre.SRE_Match object; span=(22, 28), match='14 day'>"
      ]
     },
     "execution_count": 50,
     "metadata": {},
     "output_type": "execute_result"
    }
   ],
   "source": [
    "# Let us match the digit preceding the day text\n",
    "day_search = re.search('\\d+ day',date_string)\n",
    "day_search"
   ]
  },
  {
   "cell_type": "code",
   "execution_count": 59,
   "metadata": {
    "collapsed": false
   },
   "outputs": [
    {
     "data": {
      "text/plain": [
       "'14 day'"
      ]
     },
     "execution_count": 59,
     "metadata": {},
     "output_type": "execute_result"
    }
   ],
   "source": [
    "days_string = day_search.group(0)\n",
    "days_string"
   ]
  },
  {
   "cell_type": "code",
   "execution_count": 60,
   "metadata": {
    "collapsed": false
   },
   "outputs": [
    {
     "data": {
      "text/plain": [
       "'14'"
      ]
     },
     "execution_count": 60,
     "metadata": {},
     "output_type": "execute_result"
    }
   ],
   "source": [
    "days = days_string.split(' ')[0] \n",
    "days"
   ]
  },
  {
   "cell_type": "markdown",
   "metadata": {},
   "source": []
  },
  {
   "cell_type": "code",
   "execution_count": 61,
   "metadata": {
    "collapsed": true
   },
   "outputs": [],
   "source": [
    "def return_reg_ex_days(row):\n",
    "    days = ''\n",
    "    if re.search('hours',row['date']) is not None:\n",
    "        # print('hours',row['date'])\n",
    "        days = 1\n",
    "    else:\n",
    "        day_search = re.search('\\d+ day',row['date'])\n",
    "        # print('day',day_search.group(0))\n",
    "        days = day_search.group(0).split(' ')[0]    \n",
    "    \n",
    "    #print(row,days)\n",
    "    return days\n",
    "        "
   ]
  },
  {
   "cell_type": "code",
   "execution_count": 62,
   "metadata": {
    "collapsed": false
   },
   "outputs": [],
   "source": [
    "# Now we apply this function to each of the row in the dataframe\n",
    "df['days'] = df.apply(return_reg_ex_days,axis=1)"
   ]
  },
  {
   "cell_type": "code",
   "execution_count": 63,
   "metadata": {
    "collapsed": false
   },
   "outputs": [
    {
     "data": {
      "text/html": [
       "<div>\n",
       "<table border=\"1\" class=\"dataframe\">\n",
       "  <thead>\n",
       "    <tr style=\"text-align: right;\">\n",
       "      <th></th>\n",
       "      <th>title</th>\n",
       "      <th>date</th>\n",
       "      <th>days</th>\n",
       "    </tr>\n",
       "  </thead>\n",
       "  <tbody>\n",
       "    <tr>\n",
       "      <th>0</th>\n",
       "      <td>Deep Advances in Generative Modeling</td>\n",
       "      <td>6 points by gwulfs 5 hours ago  | discuss</td>\n",
       "      <td>1</td>\n",
       "    </tr>\n",
       "    <tr>\n",
       "      <th>1</th>\n",
       "      <td>A Neural Network in 11 lines of Python</td>\n",
       "      <td>2 points by dekhtiar 5 hours ago  | discuss</td>\n",
       "      <td>1</td>\n",
       "    </tr>\n",
       "    <tr>\n",
       "      <th>2</th>\n",
       "      <td>Python, Machine Learning, and Language Wars</td>\n",
       "      <td>3 points by pmigdal 7 hours ago  | discuss</td>\n",
       "      <td>1</td>\n",
       "    </tr>\n",
       "    <tr>\n",
       "      <th>3</th>\n",
       "      <td>Markov Chains Explained Visually</td>\n",
       "      <td>11 points by zeroviscosity 1 day ago  | 1 comment</td>\n",
       "      <td>1</td>\n",
       "    </tr>\n",
       "    <tr>\n",
       "      <th>4</th>\n",
       "      <td>Dplython: Dplyr for Python</td>\n",
       "      <td>10 points by thenaturalist 1 day ago  | 3 comm...</td>\n",
       "      <td>1</td>\n",
       "    </tr>\n",
       "  </tbody>\n",
       "</table>\n",
       "</div>"
      ],
      "text/plain": [
       "                                         title  \\\n",
       "0         Deep Advances in Generative Modeling   \n",
       "1      A Neural Network in 11 lines of Python    \n",
       "2  Python, Machine Learning, and Language Wars   \n",
       "3             Markov Chains Explained Visually   \n",
       "4                   Dplython: Dplyr for Python   \n",
       "\n",
       "                                                date days  \n",
       "0          6 points by gwulfs 5 hours ago  | discuss    1  \n",
       "1        2 points by dekhtiar 5 hours ago  | discuss    1  \n",
       "2         3 points by pmigdal 7 hours ago  | discuss    1  \n",
       "3  11 points by zeroviscosity 1 day ago  | 1 comment    1  \n",
       "4  10 points by thenaturalist 1 day ago  | 3 comm...    1  "
      ]
     },
     "execution_count": 63,
     "metadata": {},
     "output_type": "execute_result"
    }
   ],
   "source": [
    "df.head()"
   ]
  },
  {
   "cell_type": "code",
   "execution_count": 64,
   "metadata": {
    "collapsed": false
   },
   "outputs": [
    {
     "data": {
      "text/html": [
       "<div>\n",
       "<table border=\"1\" class=\"dataframe\">\n",
       "  <thead>\n",
       "    <tr style=\"text-align: right;\">\n",
       "      <th></th>\n",
       "      <th>title</th>\n",
       "      <th>date</th>\n",
       "      <th>days</th>\n",
       "    </tr>\n",
       "  </thead>\n",
       "  <tbody>\n",
       "    <tr>\n",
       "      <th>175</th>\n",
       "      <td>Parallel scikit-learn on YARN</td>\n",
       "      <td>5 points by stijntonk 39 days ago  | discuss</td>\n",
       "      <td>39</td>\n",
       "    </tr>\n",
       "    <tr>\n",
       "      <th>176</th>\n",
       "      <td>Meetup: Free Live Webinar on Prescriptive Anal...</td>\n",
       "      <td>2 points by ann928 32 days ago  | discuss</td>\n",
       "      <td>32</td>\n",
       "    </tr>\n",
       "    <tr>\n",
       "      <th>177</th>\n",
       "      <td>Access to VK.com (Vkontakte) API via R</td>\n",
       "      <td>2 points by dementiy 32 days ago  | discuss</td>\n",
       "      <td>32</td>\n",
       "    </tr>\n",
       "    <tr>\n",
       "      <th>178</th>\n",
       "      <td>\\tDeep Learning Tutorial by Y. LeCun and Y. B...</td>\n",
       "      <td>15 points by Anon84 50 days ago  | 1 comment</td>\n",
       "      <td>50</td>\n",
       "    </tr>\n",
       "    <tr>\n",
       "      <th>179</th>\n",
       "      <td>Machine Learning Meets Economics</td>\n",
       "      <td>20 points by nicolaskruchten 55 days ago  | di...</td>\n",
       "      <td>55</td>\n",
       "    </tr>\n",
       "  </tbody>\n",
       "</table>\n",
       "</div>"
      ],
      "text/plain": [
       "                                                 title  \\\n",
       "175                      Parallel scikit-learn on YARN   \n",
       "176  Meetup: Free Live Webinar on Prescriptive Anal...   \n",
       "177             Access to VK.com (Vkontakte) API via R   \n",
       "178   \\tDeep Learning Tutorial by Y. LeCun and Y. B...   \n",
       "179                   Machine Learning Meets Economics   \n",
       "\n",
       "                                                  date days  \n",
       "175       5 points by stijntonk 39 days ago  | discuss   39  \n",
       "176          2 points by ann928 32 days ago  | discuss   32  \n",
       "177        2 points by dementiy 32 days ago  | discuss   32  \n",
       "178       15 points by Anon84 50 days ago  | 1 comment   50  \n",
       "179  20 points by nicolaskruchten 55 days ago  | di...   55  "
      ]
     },
     "execution_count": 64,
     "metadata": {},
     "output_type": "execute_result"
    }
   ],
   "source": [
    "df.tail()"
   ]
  },
  {
   "cell_type": "code",
   "execution_count": 65,
   "metadata": {
    "collapsed": true
   },
   "outputs": [],
   "source": [
    "# Let us save to a dataframe\n",
    "df.to_csv('data_tau_days.csv', index=False)"
   ]
  }
 ],
 "metadata": {
  "kernelspec": {
   "display_name": "Python 3",
   "language": "python",
   "name": "python3"
  },
  "language_info": {
   "codemirror_mode": {
    "name": "ipython",
    "version": 3
   },
   "file_extension": ".py",
   "mimetype": "text/x-python",
   "name": "python",
   "nbconvert_exporter": "python",
   "pygments_lexer": "ipython3",
   "version": "3.5.1"
  }
 },
 "nbformat": 4,
 "nbformat_minor": 0
}
