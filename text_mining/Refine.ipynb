{
 "cells": [
  {
   "cell_type": "markdown",
   "metadata": {},
   "source": [
    "- Regular Expression (http://regexr.com/)\n",
    "\n",
    "Stopword Removal, Stemming"
   ]
  },
  {
   "cell_type": "markdown",
   "metadata": {},
   "source": [
    "Regex - Regular expression is a way of selecting text using symbols"
   ]
  },
  {
   "cell_type": "code",
   "execution_count": 126,
   "metadata": {
    "collapsed": true
   },
   "outputs": [],
   "source": [
    "import re"
   ]
  },
  {
   "cell_type": "code",
   "execution_count": null,
   "metadata": {
    "collapsed": true
   },
   "outputs": [],
   "source": [
    "test_string = \"Hello world, welcome to 2016.\""
   ]
  },
  {
   "cell_type": "code",
   "execution_count": null,
   "metadata": {
    "collapsed": true
   },
   "outputs": [],
   "source": [
    "a = re.search('Hello world,welcome to 2016',test_string)"
   ]
  },
  {
   "cell_type": "code",
   "execution_count": null,
   "metadata": {
    "collapsed": false
   },
   "outputs": [],
   "source": [
    "print(a)"
   ]
  },
  {
   "cell_type": "code",
   "execution_count": null,
   "metadata": {
    "collapsed": false
   },
   "outputs": [],
   "source": [
    "a = re.search('Hello world, welcome to 2016',test_string)"
   ]
  },
  {
   "cell_type": "code",
   "execution_count": null,
   "metadata": {
    "collapsed": false
   },
   "outputs": [],
   "source": [
    "print(a)"
   ]
  },
  {
   "cell_type": "code",
   "execution_count": null,
   "metadata": {
    "collapsed": true
   },
   "outputs": [],
   "source": [
    "a = re.search('.',test_string)"
   ]
  },
  {
   "cell_type": "code",
   "execution_count": null,
   "metadata": {
    "collapsed": false
   },
   "outputs": [],
   "source": [
    "print(a)"
   ]
  },
  {
   "cell_type": "code",
   "execution_count": null,
   "metadata": {
    "collapsed": true
   },
   "outputs": [],
   "source": [
    "a = re.search('.*',test_string)"
   ]
  },
  {
   "cell_type": "code",
   "execution_count": null,
   "metadata": {
    "collapsed": false
   },
   "outputs": [],
   "source": [
    "print(a)"
   ]
  },
  {
   "cell_type": "code",
   "execution_count": null,
   "metadata": {
    "collapsed": false
   },
   "outputs": [],
   "source": [
    "a = re.search('Hello',test_string)\n",
    "print(a)"
   ]
  },
  {
   "cell_type": "markdown",
   "metadata": {},
   "source": [
    "\n",
    "?\tThe question mark indicates zero or one occurrences of the preceding element. For example, colou?r matches both \"color\" and \"colour\".\n",
    "\n",
    "\\*\tThe asterisk indicates zero or more occurrences of the preceding element. For example, ab*c matches \"ac\", \"abc\", \"abbc\", \"abbbc\", and so on.\n",
    "\n",
    "\\+\tThe plus sign indicates one or more occurrences of the preceding element. For example, ab+c matches \"abc\", \"abbc\", \"abbbc\", and so on, but not \"ac\".\n"
   ]
  },
  {
   "cell_type": "code",
   "execution_count": null,
   "metadata": {
    "collapsed": false
   },
   "outputs": [],
   "source": [
    "a = re.search('\\w.',test_string)\n",
    "print(a)"
   ]
  },
  {
   "cell_type": "code",
   "execution_count": null,
   "metadata": {
    "collapsed": false
   },
   "outputs": [],
   "source": [
    "a = re.search('\\w*',test_string)\n",
    "print(a)"
   ]
  },
  {
   "cell_type": "code",
   "execution_count": null,
   "metadata": {
    "collapsed": true
   },
   "outputs": [],
   "source": []
  },
  {
   "cell_type": "code",
   "execution_count": null,
   "metadata": {
    "collapsed": true
   },
   "outputs": [],
   "source": []
  },
  {
   "cell_type": "markdown",
   "metadata": {},
   "source": [
    "# Using regex lets generate another column"
   ]
  },
  {
   "cell_type": "code",
   "execution_count": 118,
   "metadata": {
    "collapsed": true
   },
   "outputs": [],
   "source": [
    "import pandas as pd"
   ]
  },
  {
   "cell_type": "code",
   "execution_count": 119,
   "metadata": {
    "collapsed": true
   },
   "outputs": [],
   "source": [
    "df = pd.read_csv('data_tau.csv')"
   ]
  },
  {
   "cell_type": "code",
   "execution_count": 120,
   "metadata": {
    "collapsed": false
   },
   "outputs": [
    {
     "data": {
      "text/html": [
       "<div>\n",
       "<table border=\"1\" class=\"dataframe\">\n",
       "  <thead>\n",
       "    <tr style=\"text-align: right;\">\n",
       "      <th></th>\n",
       "      <th>Unnamed: 0</th>\n",
       "      <th>title</th>\n",
       "      <th>date</th>\n",
       "    </tr>\n",
       "  </thead>\n",
       "  <tbody>\n",
       "    <tr>\n",
       "      <th>0</th>\n",
       "      <td>0</td>\n",
       "      <td>10 Years of Open Source Machine Learning</td>\n",
       "      <td>7 points by tstonez 19 hours ago  | 1 comment</td>\n",
       "    </tr>\n",
       "    <tr>\n",
       "      <th>1</th>\n",
       "      <td>1</td>\n",
       "      <td>What machines can learn from Apple Watch: dete...</td>\n",
       "      <td>2 points by koukouhappy 7 hours ago  | discuss</td>\n",
       "    </tr>\n",
       "    <tr>\n",
       "      <th>2</th>\n",
       "      <td>2</td>\n",
       "      <td>The Deep Roots of Javascript Fatigue</td>\n",
       "      <td>3 points by nikkielizdemere 13 hours ago  | di...</td>\n",
       "    </tr>\n",
       "    <tr>\n",
       "      <th>3</th>\n",
       "      <td>3</td>\n",
       "      <td>Data science intro for math/phys background</td>\n",
       "      <td>9 points by pmigdal 1 day ago  | discuss</td>\n",
       "    </tr>\n",
       "    <tr>\n",
       "      <th>4</th>\n",
       "      <td>4</td>\n",
       "      <td>Data Science Pop-Up in Austin, TX</td>\n",
       "      <td>2 points by AnnaOnTheWeb 13 hours ago  | discuss</td>\n",
       "    </tr>\n",
       "  </tbody>\n",
       "</table>\n",
       "</div>"
      ],
      "text/plain": [
       "   Unnamed: 0                                              title  \\\n",
       "0           0           10 Years of Open Source Machine Learning   \n",
       "1           1  What machines can learn from Apple Watch: dete...   \n",
       "2           2               The Deep Roots of Javascript Fatigue   \n",
       "3           3        Data science intro for math/phys background   \n",
       "4           4                  Data Science Pop-Up in Austin, TX   \n",
       "\n",
       "                                                date  \n",
       "0      7 points by tstonez 19 hours ago  | 1 comment  \n",
       "1     2 points by koukouhappy 7 hours ago  | discuss  \n",
       "2  3 points by nikkielizdemere 13 hours ago  | di...  \n",
       "3           9 points by pmigdal 1 day ago  | discuss  \n",
       "4   2 points by AnnaOnTheWeb 13 hours ago  | discuss  "
      ]
     },
     "execution_count": 120,
     "metadata": {},
     "output_type": "execute_result"
    }
   ],
   "source": [
    "df.head()"
   ]
  },
  {
   "cell_type": "code",
   "execution_count": 121,
   "metadata": {
    "collapsed": false
   },
   "outputs": [
    {
     "data": {
      "text/plain": [
       "Index([u'Unnamed: 0', u'title', u'date'], dtype='object')"
      ]
     },
     "execution_count": 121,
     "metadata": {},
     "output_type": "execute_result"
    }
   ],
   "source": [
    "df.columns"
   ]
  },
  {
   "cell_type": "code",
   "execution_count": 122,
   "metadata": {
    "collapsed": false
   },
   "outputs": [],
   "source": [
    "df.drop('Unnamed: 0',inplace=True,axis=1)"
   ]
  },
  {
   "cell_type": "code",
   "execution_count": 128,
   "metadata": {
    "collapsed": false
   },
   "outputs": [
    {
     "data": {
      "text/html": [
       "<div>\n",
       "<table border=\"1\" class=\"dataframe\">\n",
       "  <thead>\n",
       "    <tr style=\"text-align: right;\">\n",
       "      <th></th>\n",
       "      <th>title</th>\n",
       "      <th>date</th>\n",
       "    </tr>\n",
       "  </thead>\n",
       "  <tbody>\n",
       "    <tr>\n",
       "      <th>0</th>\n",
       "      <td>10 Years of Open Source Machine Learning</td>\n",
       "      <td>7 points by tstonez 19 hours ago  | 1 comment</td>\n",
       "    </tr>\n",
       "    <tr>\n",
       "      <th>1</th>\n",
       "      <td>What machines can learn from Apple Watch: dete...</td>\n",
       "      <td>2 points by koukouhappy 7 hours ago  | discuss</td>\n",
       "    </tr>\n",
       "    <tr>\n",
       "      <th>2</th>\n",
       "      <td>The Deep Roots of Javascript Fatigue</td>\n",
       "      <td>3 points by nikkielizdemere 13 hours ago  | di...</td>\n",
       "    </tr>\n",
       "    <tr>\n",
       "      <th>3</th>\n",
       "      <td>Data science intro for math/phys background</td>\n",
       "      <td>9 points by pmigdal 1 day ago  | discuss</td>\n",
       "    </tr>\n",
       "    <tr>\n",
       "      <th>4</th>\n",
       "      <td>Data Science Pop-Up in Austin, TX</td>\n",
       "      <td>2 points by AnnaOnTheWeb 13 hours ago  | discuss</td>\n",
       "    </tr>\n",
       "  </tbody>\n",
       "</table>\n",
       "</div>"
      ],
      "text/plain": [
       "                                               title  \\\n",
       "0           10 Years of Open Source Machine Learning   \n",
       "1  What machines can learn from Apple Watch: dete...   \n",
       "2               The Deep Roots of Javascript Fatigue   \n",
       "3        Data science intro for math/phys background   \n",
       "4                  Data Science Pop-Up in Austin, TX   \n",
       "\n",
       "                                                date  \n",
       "0      7 points by tstonez 19 hours ago  | 1 comment  \n",
       "1     2 points by koukouhappy 7 hours ago  | discuss  \n",
       "2  3 points by nikkielizdemere 13 hours ago  | di...  \n",
       "3           9 points by pmigdal 1 day ago  | discuss  \n",
       "4   2 points by AnnaOnTheWeb 13 hours ago  | discuss  "
      ]
     },
     "execution_count": 128,
     "metadata": {},
     "output_type": "execute_result"
    }
   ],
   "source": [
    "df.head()"
   ]
  },
  {
   "cell_type": "code",
   "execution_count": 129,
   "metadata": {
    "collapsed": false
   },
   "outputs": [
    {
     "data": {
      "text/html": [
       "<div>\n",
       "<table border=\"1\" class=\"dataframe\">\n",
       "  <thead>\n",
       "    <tr style=\"text-align: right;\">\n",
       "      <th></th>\n",
       "      <th>title</th>\n",
       "      <th>date</th>\n",
       "    </tr>\n",
       "  </thead>\n",
       "  <tbody>\n",
       "    <tr>\n",
       "      <th>175</th>\n",
       "      <td>Finding Nearest Neighbors in SQL</td>\n",
       "      <td>7 points by jonathanbishop 50 days ago  | 2 co...</td>\n",
       "    </tr>\n",
       "    <tr>\n",
       "      <th>176</th>\n",
       "      <td>Free Data Science Curriculum</td>\n",
       "      <td>8 points by Veerle 52 days ago  | discuss</td>\n",
       "    </tr>\n",
       "    <tr>\n",
       "      <th>177</th>\n",
       "      <td>Deep Learning is Easy - Learn Something Harder</td>\n",
       "      <td>5 points by ebellm 48 days ago  | discuss</td>\n",
       "    </tr>\n",
       "    <tr>\n",
       "      <th>178</th>\n",
       "      <td>FlyElephant as a tool for calculations in C++,...</td>\n",
       "      <td>6 points by m31 51 days ago  | discuss</td>\n",
       "    </tr>\n",
       "    <tr>\n",
       "      <th>179</th>\n",
       "      <td>Yahoo Releases the Largest-ever Machine Learni...</td>\n",
       "      <td>13 points by srinify 62 days ago  | 1 comment</td>\n",
       "    </tr>\n",
       "  </tbody>\n",
       "</table>\n",
       "</div>"
      ],
      "text/plain": [
       "                                                 title  \\\n",
       "175                   Finding Nearest Neighbors in SQL   \n",
       "176                       Free Data Science Curriculum   \n",
       "177     Deep Learning is Easy - Learn Something Harder   \n",
       "178  FlyElephant as a tool for calculations in C++,...   \n",
       "179  Yahoo Releases the Largest-ever Machine Learni...   \n",
       "\n",
       "                                                  date  \n",
       "175  7 points by jonathanbishop 50 days ago  | 2 co...  \n",
       "176          8 points by Veerle 52 days ago  | discuss  \n",
       "177          5 points by ebellm 48 days ago  | discuss  \n",
       "178             6 points by m31 51 days ago  | discuss  \n",
       "179      13 points by srinify 62 days ago  | 1 comment  "
      ]
     },
     "execution_count": 129,
     "metadata": {},
     "output_type": "execute_result"
    }
   ],
   "source": [
    "df.tail()"
   ]
  },
  {
   "cell_type": "code",
   "execution_count": 124,
   "metadata": {
    "collapsed": true
   },
   "outputs": [],
   "source": [
    "date_string = df['date'][0]"
   ]
  },
  {
   "cell_type": "code",
   "execution_count": 125,
   "metadata": {
    "collapsed": false
   },
   "outputs": [
    {
     "data": {
      "text/plain": [
       "'7 points by tstonez 19 hours ago  | 1 comment'"
      ]
     },
     "execution_count": 125,
     "metadata": {},
     "output_type": "execute_result"
    }
   ],
   "source": [
    "date_string"
   ]
  },
  {
   "cell_type": "markdown",
   "metadata": {},
   "source": [
    "** if the string contains hours we can consider it 1 day and if it has days we can pick the days **"
   ]
  },
  {
   "cell_type": "code",
   "execution_count": 165,
   "metadata": {
    "collapsed": true
   },
   "outputs": [],
   "source": [
    "def return_reg_ex_days(row):\n",
    "    days = ''\n",
    "    if re.search('hours',row['date']) is not None:\n",
    "        print('hours',row['date'])\n",
    "        days = 1\n",
    "    else:\n",
    "        days_search = re.search('\\d+ days',row['date'])\n",
    "        day_search = re.search('\\d+ day',row['date'])\n",
    "        if  days_search is not None:\n",
    "            print('days',days_search.group(0))\n",
    "            days = days_search.group(0).split(' ')[0]\n",
    "        elif day_search is not None:\n",
    "            print('day',day_search.group(0))\n",
    "            days = day_search.group(0).split(' ')[0]    \n",
    "    \n",
    "    #print(row,days)\n",
    "    return days\n",
    "        "
   ]
  },
  {
   "cell_type": "code",
   "execution_count": 166,
   "metadata": {
    "collapsed": false
   },
   "outputs": [
    {
     "name": "stdout",
     "output_type": "stream",
     "text": [
      "('hours', '7 points by tstonez 19 hours ago  | 1 comment')\n",
      "('hours', '2 points by koukouhappy 7 hours ago  | discuss')\n",
      "('hours', '3 points by nikkielizdemere 13 hours ago  | discuss')\n",
      "('day', '1 day')\n",
      "('hours', '2 points by AnnaOnTheWeb 13 hours ago  | discuss')\n",
      "('day', '1 day')\n",
      "('hours', '3 points by yukiegosapporo 21 hours ago  | discuss')\n",
      "('day', '1 day')\n",
      "('days', '2 days')\n",
      "('days', '2 days')\n",
      "('day', '1 day')\n",
      "('days', '2 days')\n",
      "('day', '1 day')\n",
      "('day', '1 day')\n",
      "('days', '2 days')\n",
      "('days', '2 days')\n",
      "('days', '3 days')\n",
      "('day', '1 day')\n",
      "('days', '2 days')\n",
      "('days', '2 days')\n",
      "('days', '2 days')\n",
      "('days', '2 days')\n",
      "('day', '1 day')\n",
      "('days', '2 days')\n",
      "('days', '3 days')\n",
      "('days', '3 days')\n",
      "('days', '7 days')\n",
      "('days', '3 days')\n",
      "('days', '7 days')\n",
      "('days', '3 days')\n",
      "('days', '8 days')\n",
      "('days', '6 days')\n",
      "('days', '8 days')\n",
      "('days', '7 days')\n",
      "('days', '6 days')\n",
      "('days', '2 days')\n",
      "('days', '6 days')\n",
      "('days', '9 days')\n",
      "('days', '6 days')\n",
      "('days', '5 days')\n",
      "('days', '8 days')\n",
      "('days', '5 days')\n",
      "('days', '7 days')\n",
      "('days', '7 days')\n",
      "('days', '5 days')\n",
      "('days', '9 days')\n",
      "('days', '13 days')\n",
      "('days', '15 days')\n",
      "('days', '11 days')\n",
      "('days', '15 days')\n",
      "('days', '15 days')\n",
      "('days', '8 days')\n",
      "('days', '6 days')\n",
      "('days', '6 days')\n",
      "('days', '15 days')\n",
      "('days', '23 days')\n",
      "('days', '16 days')\n",
      "('days', '7 days')\n",
      "('days', '19 days')\n",
      "('days', '12 days')\n",
      "('days', '14 days')\n",
      "('days', '19 days')\n",
      "('days', '31 days')\n",
      "('days', '8 days')\n",
      "('days', '9 days')\n",
      "('days', '14 days')\n",
      "('days', '20 days')\n",
      "('days', '20 days')\n",
      "('days', '9 days')\n",
      "('days', '14 days')\n",
      "('days', '19 days')\n",
      "('days', '15 days')\n",
      "('days', '17 days')\n",
      "('days', '10 days')\n",
      "('days', '28 days')\n",
      "('days', '13 days')\n",
      "('days', '19 days')\n",
      "('days', '14 days')\n",
      "('days', '14 days')\n",
      "('days', '20 days')\n",
      "('days', '23 days')\n",
      "('days', '14 days')\n",
      "('days', '9 days')\n",
      "('days', '21 days')\n",
      "('days', '23 days')\n",
      "('days', '21 days')\n",
      "('days', '23 days')\n",
      "('days', '12 days')\n",
      "('days', '13 days')\n",
      "('days', '16 days')\n",
      "('days', '28 days')\n",
      "('days', '22 days')\n",
      "('days', '14 days')\n",
      "('days', '14 days')\n",
      "('days', '36 days')\n",
      "('days', '15 days')\n",
      "('days', '15 days')\n",
      "('days', '15 days')\n",
      "('days', '27 days')\n",
      "('days', '21 days')\n",
      "('days', '23 days')\n",
      "('days', '15 days')\n",
      "('days', '16 days')\n",
      "('days', '16 days')\n",
      "('days', '21 days')\n",
      "('days', '30 days')\n",
      "('days', '17 days')\n",
      "('days', '30 days')\n",
      "('days', '38 days')\n",
      "('days', '23 days')\n",
      "('days', '29 days')\n",
      "('days', '18 days')\n",
      "('days', '26 days')\n",
      "('days', '32 days')\n",
      "('days', '20 days')\n",
      "('days', '20 days')\n",
      "('days', '20 days')\n",
      "('days', '29 days')\n",
      "('days', '24 days')\n",
      "('days', '21 days')\n",
      "('days', '21 days')\n",
      "('days', '33 days')\n",
      "('days', '28 days')\n",
      "('days', '22 days')\n",
      "('days', '40 days')\n",
      "('days', '22 days')\n",
      "('days', '22 days')\n",
      "('days', '37 days')\n",
      "('days', '23 days')\n",
      "('days', '30 days')\n",
      "('days', '34 days')\n",
      "('days', '29 days')\n",
      "('days', '36 days')\n",
      "('days', '35 days')\n",
      "('days', '35 days')\n",
      "('days', '25 days')\n",
      "('days', '29 days')\n",
      "('days', '29 days')\n",
      "('days', '29 days')\n",
      "('days', '33 days')\n",
      "('days', '26 days')\n",
      "('days', '27 days')\n",
      "('days', '45 days')\n",
      "('days', '49 days')\n",
      "('days', '34 days')\n",
      "('days', '36 days')\n",
      "('days', '44 days')\n",
      "('days', '28 days')\n",
      "('days', '43 days')\n",
      "('days', '34 days')\n",
      "('days', '55 days')\n",
      "('days', '36 days')\n",
      "('days', '62 days')\n",
      "('days', '30 days')\n",
      "('days', '36 days')\n",
      "('days', '36 days')\n",
      "('days', '51 days')\n",
      "('days', '44 days')\n",
      "('days', '49 days')\n",
      "('days', '48 days')\n",
      "('days', '37 days')\n",
      "('days', '37 days')\n",
      "('days', '51 days')\n",
      "('days', '44 days')\n",
      "('days', '42 days')\n",
      "('days', '44 days')\n",
      "('days', '50 days')\n",
      "('days', '49 days')\n",
      "('days', '36 days')\n",
      "('days', '37 days')\n",
      "('days', '37 days')\n",
      "('days', '37 days')\n",
      "('days', '52 days')\n",
      "('days', '52 days')\n",
      "('days', '60 days')\n",
      "('days', '50 days')\n",
      "('days', '52 days')\n",
      "('days', '48 days')\n",
      "('days', '51 days')\n",
      "('days', '62 days')\n"
     ]
    }
   ],
   "source": [
    "df['days'] = df.apply(return_reg_ex_days,axis=1)"
   ]
  },
  {
   "cell_type": "code",
   "execution_count": 167,
   "metadata": {
    "collapsed": false
   },
   "outputs": [
    {
     "data": {
      "text/html": [
       "<div>\n",
       "<table border=\"1\" class=\"dataframe\">\n",
       "  <thead>\n",
       "    <tr style=\"text-align: right;\">\n",
       "      <th></th>\n",
       "      <th>title</th>\n",
       "      <th>date</th>\n",
       "      <th>days</th>\n",
       "    </tr>\n",
       "  </thead>\n",
       "  <tbody>\n",
       "    <tr>\n",
       "      <th>0</th>\n",
       "      <td>10 Years of Open Source Machine Learning</td>\n",
       "      <td>7 points by tstonez 19 hours ago  | 1 comment</td>\n",
       "      <td>1</td>\n",
       "    </tr>\n",
       "    <tr>\n",
       "      <th>1</th>\n",
       "      <td>What machines can learn from Apple Watch: dete...</td>\n",
       "      <td>2 points by koukouhappy 7 hours ago  | discuss</td>\n",
       "      <td>1</td>\n",
       "    </tr>\n",
       "    <tr>\n",
       "      <th>2</th>\n",
       "      <td>The Deep Roots of Javascript Fatigue</td>\n",
       "      <td>3 points by nikkielizdemere 13 hours ago  | di...</td>\n",
       "      <td>1</td>\n",
       "    </tr>\n",
       "    <tr>\n",
       "      <th>3</th>\n",
       "      <td>Data science intro for math/phys background</td>\n",
       "      <td>9 points by pmigdal 1 day ago  | discuss</td>\n",
       "      <td>1</td>\n",
       "    </tr>\n",
       "    <tr>\n",
       "      <th>4</th>\n",
       "      <td>Data Science Pop-Up in Austin, TX</td>\n",
       "      <td>2 points by AnnaOnTheWeb 13 hours ago  | discuss</td>\n",
       "      <td>1</td>\n",
       "    </tr>\n",
       "  </tbody>\n",
       "</table>\n",
       "</div>"
      ],
      "text/plain": [
       "                                               title  \\\n",
       "0           10 Years of Open Source Machine Learning   \n",
       "1  What machines can learn from Apple Watch: dete...   \n",
       "2               The Deep Roots of Javascript Fatigue   \n",
       "3        Data science intro for math/phys background   \n",
       "4                  Data Science Pop-Up in Austin, TX   \n",
       "\n",
       "                                                date days  \n",
       "0      7 points by tstonez 19 hours ago  | 1 comment    1  \n",
       "1     2 points by koukouhappy 7 hours ago  | discuss    1  \n",
       "2  3 points by nikkielizdemere 13 hours ago  | di...    1  \n",
       "3           9 points by pmigdal 1 day ago  | discuss    1  \n",
       "4   2 points by AnnaOnTheWeb 13 hours ago  | discuss    1  "
      ]
     },
     "execution_count": 167,
     "metadata": {},
     "output_type": "execute_result"
    }
   ],
   "source": [
    "df.head()"
   ]
  },
  {
   "cell_type": "code",
   "execution_count": 168,
   "metadata": {
    "collapsed": false
   },
   "outputs": [
    {
     "data": {
      "text/html": [
       "<div>\n",
       "<table border=\"1\" class=\"dataframe\">\n",
       "  <thead>\n",
       "    <tr style=\"text-align: right;\">\n",
       "      <th></th>\n",
       "      <th>title</th>\n",
       "      <th>date</th>\n",
       "      <th>days</th>\n",
       "    </tr>\n",
       "  </thead>\n",
       "  <tbody>\n",
       "    <tr>\n",
       "      <th>175</th>\n",
       "      <td>Finding Nearest Neighbors in SQL</td>\n",
       "      <td>7 points by jonathanbishop 50 days ago  | 2 co...</td>\n",
       "      <td>50</td>\n",
       "    </tr>\n",
       "    <tr>\n",
       "      <th>176</th>\n",
       "      <td>Free Data Science Curriculum</td>\n",
       "      <td>8 points by Veerle 52 days ago  | discuss</td>\n",
       "      <td>52</td>\n",
       "    </tr>\n",
       "    <tr>\n",
       "      <th>177</th>\n",
       "      <td>Deep Learning is Easy - Learn Something Harder</td>\n",
       "      <td>5 points by ebellm 48 days ago  | discuss</td>\n",
       "      <td>48</td>\n",
       "    </tr>\n",
       "    <tr>\n",
       "      <th>178</th>\n",
       "      <td>FlyElephant as a tool for calculations in C++,...</td>\n",
       "      <td>6 points by m31 51 days ago  | discuss</td>\n",
       "      <td>51</td>\n",
       "    </tr>\n",
       "    <tr>\n",
       "      <th>179</th>\n",
       "      <td>Yahoo Releases the Largest-ever Machine Learni...</td>\n",
       "      <td>13 points by srinify 62 days ago  | 1 comment</td>\n",
       "      <td>62</td>\n",
       "    </tr>\n",
       "  </tbody>\n",
       "</table>\n",
       "</div>"
      ],
      "text/plain": [
       "                                                 title  \\\n",
       "175                   Finding Nearest Neighbors in SQL   \n",
       "176                       Free Data Science Curriculum   \n",
       "177     Deep Learning is Easy - Learn Something Harder   \n",
       "178  FlyElephant as a tool for calculations in C++,...   \n",
       "179  Yahoo Releases the Largest-ever Machine Learni...   \n",
       "\n",
       "                                                  date days  \n",
       "175  7 points by jonathanbishop 50 days ago  | 2 co...   50  \n",
       "176          8 points by Veerle 52 days ago  | discuss   52  \n",
       "177          5 points by ebellm 48 days ago  | discuss   48  \n",
       "178             6 points by m31 51 days ago  | discuss   51  \n",
       "179      13 points by srinify 62 days ago  | 1 comment   62  "
      ]
     },
     "execution_count": 168,
     "metadata": {},
     "output_type": "execute_result"
    }
   ],
   "source": [
    "df.tail()"
   ]
  },
  {
   "cell_type": "code",
   "execution_count": null,
   "metadata": {
    "collapsed": true
   },
   "outputs": [],
   "source": [
    "df."
   ]
  }
 ],
 "metadata": {
  "kernelspec": {
   "display_name": "Python 2",
   "language": "python",
   "name": "python2"
  },
  "language_info": {
   "codemirror_mode": {
    "name": "ipython",
    "version": 2
   },
   "file_extension": ".py",
   "mimetype": "text/x-python",
   "name": "python",
   "nbconvert_exporter": "python",
   "pygments_lexer": "ipython2",
   "version": "2.7.6"
  }
 },
 "nbformat": 4,
 "nbformat_minor": 0
}
