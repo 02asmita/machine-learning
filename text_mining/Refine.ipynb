{
 "cells": [
  {
   "cell_type": "markdown",
   "metadata": {},
   "source": [
    "- Regular Expression (http://regexr.com/)\n",
    "\n",
    "Stopword Removal, Stemming"
   ]
  },
  {
   "cell_type": "markdown",
   "metadata": {},
   "source": [
    "Regex - Regular expression is a way of selecting text using symbols"
   ]
  },
  {
   "cell_type": "code",
   "execution_count": 2,
   "metadata": {
    "collapsed": true
   },
   "outputs": [],
   "source": [
    "import re"
   ]
  },
  {
   "cell_type": "code",
   "execution_count": 3,
   "metadata": {
    "collapsed": true
   },
   "outputs": [],
   "source": [
    "test_string = \"Hello world, welcome to 2016.\""
   ]
  },
  {
   "cell_type": "code",
   "execution_count": 4,
   "metadata": {
    "collapsed": true
   },
   "outputs": [],
   "source": [
    "a = re.search('Hello world,welcome to 2016',test_string)"
   ]
  },
  {
   "cell_type": "code",
   "execution_count": 5,
   "metadata": {
    "collapsed": false
   },
   "outputs": [
    {
     "name": "stdout",
     "output_type": "stream",
     "text": [
      "None\n"
     ]
    }
   ],
   "source": [
    "print(a)"
   ]
  },
  {
   "cell_type": "code",
   "execution_count": 6,
   "metadata": {
    "collapsed": false
   },
   "outputs": [],
   "source": [
    "a = re.search('Hello world, welcome to 2016',test_string)"
   ]
  },
  {
   "cell_type": "code",
   "execution_count": 7,
   "metadata": {
    "collapsed": false
   },
   "outputs": [
    {
     "name": "stdout",
     "output_type": "stream",
     "text": [
      "<_sre.SRE_Match object; span=(0, 28), match='Hello world, welcome to 2016'>\n"
     ]
    }
   ],
   "source": [
    "print(a)"
   ]
  },
  {
   "cell_type": "code",
   "execution_count": 8,
   "metadata": {
    "collapsed": true
   },
   "outputs": [],
   "source": [
    "a = re.search('.',test_string)"
   ]
  },
  {
   "cell_type": "code",
   "execution_count": 9,
   "metadata": {
    "collapsed": false
   },
   "outputs": [
    {
     "name": "stdout",
     "output_type": "stream",
     "text": [
      "<_sre.SRE_Match object; span=(0, 1), match='H'>\n"
     ]
    }
   ],
   "source": [
    "print(a)"
   ]
  },
  {
   "cell_type": "code",
   "execution_count": 10,
   "metadata": {
    "collapsed": true
   },
   "outputs": [],
   "source": [
    "a = re.search('.*',test_string)"
   ]
  },
  {
   "cell_type": "code",
   "execution_count": 11,
   "metadata": {
    "collapsed": false
   },
   "outputs": [
    {
     "name": "stdout",
     "output_type": "stream",
     "text": [
      "<_sre.SRE_Match object; span=(0, 29), match='Hello world, welcome to 2016.'>\n"
     ]
    }
   ],
   "source": [
    "print(a)"
   ]
  },
  {
   "cell_type": "code",
   "execution_count": 12,
   "metadata": {
    "collapsed": false
   },
   "outputs": [
    {
     "name": "stdout",
     "output_type": "stream",
     "text": [
      "<_sre.SRE_Match object; span=(0, 5), match='Hello'>\n"
     ]
    }
   ],
   "source": [
    "a = re.search('Hello',test_string)\n",
    "print(a)"
   ]
  },
  {
   "cell_type": "markdown",
   "metadata": {},
   "source": [
    "\n",
    "?\tThe question mark indicates zero or one occurrences of the preceding element. For example, colou?r matches both \"color\" and \"colour\".\n",
    "\n",
    "\\*\tThe asterisk indicates zero or more occurrences of the preceding element. For example, ab*c matches \"ac\", \"abc\", \"abbc\", \"abbbc\", and so on.\n",
    "\n",
    "\\+\tThe plus sign indicates one or more occurrences of the preceding element. For example, ab+c matches \"abc\", \"abbc\", \"abbbc\", and so on, but not \"ac\".\n"
   ]
  },
  {
   "cell_type": "code",
   "execution_count": 13,
   "metadata": {
    "collapsed": false
   },
   "outputs": [
    {
     "name": "stdout",
     "output_type": "stream",
     "text": [
      "<_sre.SRE_Match object; span=(0, 2), match='He'>\n"
     ]
    }
   ],
   "source": [
    "a = re.search('\\w.',test_string)\n",
    "print(a)"
   ]
  },
  {
   "cell_type": "code",
   "execution_count": 14,
   "metadata": {
    "collapsed": false
   },
   "outputs": [
    {
     "name": "stdout",
     "output_type": "stream",
     "text": [
      "<_sre.SRE_Match object; span=(0, 5), match='Hello'>\n"
     ]
    }
   ],
   "source": [
    "a = re.search('\\w*',test_string)\n",
    "print(a)"
   ]
  },
  {
   "cell_type": "code",
   "execution_count": null,
   "metadata": {
    "collapsed": true
   },
   "outputs": [],
   "source": []
  },
  {
   "cell_type": "code",
   "execution_count": null,
   "metadata": {
    "collapsed": true
   },
   "outputs": [],
   "source": []
  },
  {
   "cell_type": "markdown",
   "metadata": {},
   "source": [
    "# Using regex lets generate another column"
   ]
  },
  {
   "cell_type": "code",
   "execution_count": 15,
   "metadata": {
    "collapsed": true
   },
   "outputs": [],
   "source": [
    "import pandas as pd"
   ]
  },
  {
   "cell_type": "code",
   "execution_count": 16,
   "metadata": {
    "collapsed": true
   },
   "outputs": [],
   "source": [
    "df = pd.read_csv('data_tau.csv')"
   ]
  },
  {
   "cell_type": "code",
   "execution_count": 17,
   "metadata": {
    "collapsed": false
   },
   "outputs": [
    {
     "data": {
      "text/html": [
       "<div>\n",
       "<table border=\"1\" class=\"dataframe\">\n",
       "  <thead>\n",
       "    <tr style=\"text-align: right;\">\n",
       "      <th></th>\n",
       "      <th>Unnamed: 0</th>\n",
       "      <th>title</th>\n",
       "      <th>date</th>\n",
       "    </tr>\n",
       "  </thead>\n",
       "  <tbody>\n",
       "    <tr>\n",
       "      <th>0</th>\n",
       "      <td>0</td>\n",
       "      <td>10 Years of Open Source Machine Learning</td>\n",
       "      <td>7 points by tstonez 19 hours ago  | 1 comment</td>\n",
       "    </tr>\n",
       "    <tr>\n",
       "      <th>1</th>\n",
       "      <td>1</td>\n",
       "      <td>What machines can learn from Apple Watch: dete...</td>\n",
       "      <td>2 points by koukouhappy 7 hours ago  | discuss</td>\n",
       "    </tr>\n",
       "    <tr>\n",
       "      <th>2</th>\n",
       "      <td>2</td>\n",
       "      <td>The Deep Roots of Javascript Fatigue</td>\n",
       "      <td>3 points by nikkielizdemere 13 hours ago  | di...</td>\n",
       "    </tr>\n",
       "    <tr>\n",
       "      <th>3</th>\n",
       "      <td>3</td>\n",
       "      <td>Data science intro for math/phys background</td>\n",
       "      <td>9 points by pmigdal 1 day ago  | discuss</td>\n",
       "    </tr>\n",
       "    <tr>\n",
       "      <th>4</th>\n",
       "      <td>4</td>\n",
       "      <td>Data Science Pop-Up in Austin, TX</td>\n",
       "      <td>2 points by AnnaOnTheWeb 13 hours ago  | discuss</td>\n",
       "    </tr>\n",
       "  </tbody>\n",
       "</table>\n",
       "</div>"
      ],
      "text/plain": [
       "   Unnamed: 0                                              title  \\\n",
       "0           0           10 Years of Open Source Machine Learning   \n",
       "1           1  What machines can learn from Apple Watch: dete...   \n",
       "2           2               The Deep Roots of Javascript Fatigue   \n",
       "3           3        Data science intro for math/phys background   \n",
       "4           4                  Data Science Pop-Up in Austin, TX   \n",
       "\n",
       "                                                date  \n",
       "0      7 points by tstonez 19 hours ago  | 1 comment  \n",
       "1     2 points by koukouhappy 7 hours ago  | discuss  \n",
       "2  3 points by nikkielizdemere 13 hours ago  | di...  \n",
       "3           9 points by pmigdal 1 day ago  | discuss  \n",
       "4   2 points by AnnaOnTheWeb 13 hours ago  | discuss  "
      ]
     },
     "execution_count": 17,
     "metadata": {},
     "output_type": "execute_result"
    }
   ],
   "source": [
    "df.head()"
   ]
  },
  {
   "cell_type": "code",
   "execution_count": 18,
   "metadata": {
    "collapsed": false
   },
   "outputs": [
    {
     "data": {
      "text/plain": [
       "Index(['Unnamed: 0', 'title', 'date'], dtype='object')"
      ]
     },
     "execution_count": 18,
     "metadata": {},
     "output_type": "execute_result"
    }
   ],
   "source": [
    "df.columns"
   ]
  },
  {
   "cell_type": "code",
   "execution_count": 19,
   "metadata": {
    "collapsed": false
   },
   "outputs": [],
   "source": [
    "df.drop('Unnamed: 0',inplace=True,axis=1)"
   ]
  },
  {
   "cell_type": "code",
   "execution_count": 20,
   "metadata": {
    "collapsed": false
   },
   "outputs": [
    {
     "data": {
      "text/html": [
       "<div>\n",
       "<table border=\"1\" class=\"dataframe\">\n",
       "  <thead>\n",
       "    <tr style=\"text-align: right;\">\n",
       "      <th></th>\n",
       "      <th>title</th>\n",
       "      <th>date</th>\n",
       "    </tr>\n",
       "  </thead>\n",
       "  <tbody>\n",
       "    <tr>\n",
       "      <th>0</th>\n",
       "      <td>10 Years of Open Source Machine Learning</td>\n",
       "      <td>7 points by tstonez 19 hours ago  | 1 comment</td>\n",
       "    </tr>\n",
       "    <tr>\n",
       "      <th>1</th>\n",
       "      <td>What machines can learn from Apple Watch: dete...</td>\n",
       "      <td>2 points by koukouhappy 7 hours ago  | discuss</td>\n",
       "    </tr>\n",
       "    <tr>\n",
       "      <th>2</th>\n",
       "      <td>The Deep Roots of Javascript Fatigue</td>\n",
       "      <td>3 points by nikkielizdemere 13 hours ago  | di...</td>\n",
       "    </tr>\n",
       "    <tr>\n",
       "      <th>3</th>\n",
       "      <td>Data science intro for math/phys background</td>\n",
       "      <td>9 points by pmigdal 1 day ago  | discuss</td>\n",
       "    </tr>\n",
       "    <tr>\n",
       "      <th>4</th>\n",
       "      <td>Data Science Pop-Up in Austin, TX</td>\n",
       "      <td>2 points by AnnaOnTheWeb 13 hours ago  | discuss</td>\n",
       "    </tr>\n",
       "  </tbody>\n",
       "</table>\n",
       "</div>"
      ],
      "text/plain": [
       "                                               title  \\\n",
       "0           10 Years of Open Source Machine Learning   \n",
       "1  What machines can learn from Apple Watch: dete...   \n",
       "2               The Deep Roots of Javascript Fatigue   \n",
       "3        Data science intro for math/phys background   \n",
       "4                  Data Science Pop-Up in Austin, TX   \n",
       "\n",
       "                                                date  \n",
       "0      7 points by tstonez 19 hours ago  | 1 comment  \n",
       "1     2 points by koukouhappy 7 hours ago  | discuss  \n",
       "2  3 points by nikkielizdemere 13 hours ago  | di...  \n",
       "3           9 points by pmigdal 1 day ago  | discuss  \n",
       "4   2 points by AnnaOnTheWeb 13 hours ago  | discuss  "
      ]
     },
     "execution_count": 20,
     "metadata": {},
     "output_type": "execute_result"
    }
   ],
   "source": [
    "df.head()"
   ]
  },
  {
   "cell_type": "code",
   "execution_count": 21,
   "metadata": {
    "collapsed": false
   },
   "outputs": [
    {
     "data": {
      "text/html": [
       "<div>\n",
       "<table border=\"1\" class=\"dataframe\">\n",
       "  <thead>\n",
       "    <tr style=\"text-align: right;\">\n",
       "      <th></th>\n",
       "      <th>title</th>\n",
       "      <th>date</th>\n",
       "    </tr>\n",
       "  </thead>\n",
       "  <tbody>\n",
       "    <tr>\n",
       "      <th>175</th>\n",
       "      <td>Finding Nearest Neighbors in SQL</td>\n",
       "      <td>7 points by jonathanbishop 50 days ago  | 2 co...</td>\n",
       "    </tr>\n",
       "    <tr>\n",
       "      <th>176</th>\n",
       "      <td>Free Data Science Curriculum</td>\n",
       "      <td>8 points by Veerle 52 days ago  | discuss</td>\n",
       "    </tr>\n",
       "    <tr>\n",
       "      <th>177</th>\n",
       "      <td>Deep Learning is Easy - Learn Something Harder</td>\n",
       "      <td>5 points by ebellm 48 days ago  | discuss</td>\n",
       "    </tr>\n",
       "    <tr>\n",
       "      <th>178</th>\n",
       "      <td>FlyElephant as a tool for calculations in C++,...</td>\n",
       "      <td>6 points by m31 51 days ago  | discuss</td>\n",
       "    </tr>\n",
       "    <tr>\n",
       "      <th>179</th>\n",
       "      <td>Yahoo Releases the Largest-ever Machine Learni...</td>\n",
       "      <td>13 points by srinify 62 days ago  | 1 comment</td>\n",
       "    </tr>\n",
       "  </tbody>\n",
       "</table>\n",
       "</div>"
      ],
      "text/plain": [
       "                                                 title  \\\n",
       "175                   Finding Nearest Neighbors in SQL   \n",
       "176                       Free Data Science Curriculum   \n",
       "177     Deep Learning is Easy - Learn Something Harder   \n",
       "178  FlyElephant as a tool for calculations in C++,...   \n",
       "179  Yahoo Releases the Largest-ever Machine Learni...   \n",
       "\n",
       "                                                  date  \n",
       "175  7 points by jonathanbishop 50 days ago  | 2 co...  \n",
       "176          8 points by Veerle 52 days ago  | discuss  \n",
       "177          5 points by ebellm 48 days ago  | discuss  \n",
       "178             6 points by m31 51 days ago  | discuss  \n",
       "179      13 points by srinify 62 days ago  | 1 comment  "
      ]
     },
     "execution_count": 21,
     "metadata": {},
     "output_type": "execute_result"
    }
   ],
   "source": [
    "df.tail()"
   ]
  },
  {
   "cell_type": "code",
   "execution_count": 27,
   "metadata": {
    "collapsed": true
   },
   "outputs": [],
   "source": [
    "date_string = df['date'][0]"
   ]
  },
  {
   "cell_type": "code",
   "execution_count": 28,
   "metadata": {
    "collapsed": false
   },
   "outputs": [
    {
     "name": "stdout",
     "output_type": "stream",
     "text": [
      "7 points by tstonez 19 hours ago  | 1 comment\n"
     ]
    }
   ],
   "source": [
    "print(date_string)"
   ]
  },
  {
   "cell_type": "code",
   "execution_count": 29,
   "metadata": {
    "collapsed": false
   },
   "outputs": [
    {
     "data": {
      "text/plain": [
       "<_sre.SRE_Match object; span=(23, 28), match='hours'>"
      ]
     },
     "execution_count": 29,
     "metadata": {},
     "output_type": "execute_result"
    }
   ],
   "source": [
    "re.search('hours',date_string)"
   ]
  },
  {
   "cell_type": "code",
   "execution_count": 30,
   "metadata": {
    "collapsed": true
   },
   "outputs": [],
   "source": [
    "date_string = df['date'][50]"
   ]
  },
  {
   "cell_type": "code",
   "execution_count": 31,
   "metadata": {
    "collapsed": false
   },
   "outputs": [
    {
     "name": "stdout",
     "output_type": "stream",
     "text": [
      "9 points by brian_spiering 15 days ago  | discuss\n"
     ]
    }
   ],
   "source": [
    "print(date_string)"
   ]
  },
  {
   "cell_type": "code",
   "execution_count": 32,
   "metadata": {
    "collapsed": true
   },
   "outputs": [],
   "source": [
    "re.search('hours',date_string)"
   ]
  },
  {
   "cell_type": "code",
   "execution_count": 36,
   "metadata": {
    "collapsed": false
   },
   "outputs": [
    {
     "data": {
      "text/plain": [
       "<_sre.SRE_Match object; span=(27, 33), match='15 day'>"
      ]
     },
     "execution_count": 36,
     "metadata": {},
     "output_type": "execute_result"
    }
   ],
   "source": [
    "re.search('\\d+ day',date_string)"
   ]
  },
  {
   "cell_type": "markdown",
   "metadata": {},
   "source": [
    "** if the string contains hours we can consider it 1 day and if it has days we can pick the days **"
   ]
  },
  {
   "cell_type": "code",
   "execution_count": 37,
   "metadata": {
    "collapsed": true
   },
   "outputs": [],
   "source": [
    "def return_reg_ex_days(row):\n",
    "    days = ''\n",
    "    if re.search('hours',row['date']) is not None:\n",
    "        print('hours',row['date'])\n",
    "        days = 1\n",
    "    else:\n",
    "        day_search = re.search('\\d+ day',row['date'])\n",
    "        print('day',day_search.group(0))\n",
    "        days = day_search.group(0).split(' ')[0]    \n",
    "    \n",
    "    #print(row,days)\n",
    "    return days\n",
    "        "
   ]
  },
  {
   "cell_type": "code",
   "execution_count": 38,
   "metadata": {
    "collapsed": false
   },
   "outputs": [
    {
     "name": "stdout",
     "output_type": "stream",
     "text": [
      "hours 7 points by tstonez 19 hours ago  | 1 comment\n",
      "hours 2 points by koukouhappy 7 hours ago  | discuss\n",
      "hours 3 points by nikkielizdemere 13 hours ago  | discuss\n",
      "day 1 day\n",
      "hours 2 points by AnnaOnTheWeb 13 hours ago  | discuss\n",
      "day 1 day\n",
      "hours 3 points by yukiegosapporo 21 hours ago  | discuss\n",
      "day 1 day\n",
      "day 2 day\n",
      "day 2 day\n",
      "day 1 day\n",
      "day 2 day\n",
      "day 1 day\n",
      "day 1 day\n",
      "day 2 day\n",
      "day 2 day\n",
      "day 3 day\n",
      "day 1 day\n",
      "day 2 day\n",
      "day 2 day\n",
      "day 2 day\n",
      "day 2 day\n",
      "day 1 day\n",
      "day 2 day\n",
      "day 3 day\n",
      "day 3 day\n",
      "day 7 day\n",
      "day 3 day\n",
      "day 7 day\n",
      "day 3 day\n",
      "day 8 day\n",
      "day 6 day\n",
      "day 8 day\n",
      "day 7 day\n",
      "day 6 day\n",
      "day 2 day\n",
      "day 6 day\n",
      "day 9 day\n",
      "day 6 day\n",
      "day 5 day\n",
      "day 8 day\n",
      "day 5 day\n",
      "day 7 day\n",
      "day 7 day\n",
      "day 5 day\n",
      "day 9 day\n",
      "day 13 day\n",
      "day 15 day\n",
      "day 11 day\n",
      "day 15 day\n",
      "day 15 day\n",
      "day 8 day\n",
      "day 6 day\n",
      "day 6 day\n",
      "day 15 day\n",
      "day 23 day\n",
      "day 16 day\n",
      "day 7 day\n",
      "day 19 day\n",
      "day 12 day\n",
      "day 14 day\n",
      "day 19 day\n",
      "day 31 day\n",
      "day 8 day\n",
      "day 9 day\n",
      "day 14 day\n",
      "day 20 day\n",
      "day 20 day\n",
      "day 9 day\n",
      "day 14 day\n",
      "day 19 day\n",
      "day 15 day\n",
      "day 17 day\n",
      "day 10 day\n",
      "day 28 day\n",
      "day 13 day\n",
      "day 19 day\n",
      "day 14 day\n",
      "day 14 day\n",
      "day 20 day\n",
      "day 23 day\n",
      "day 14 day\n",
      "day 9 day\n",
      "day 21 day\n",
      "day 23 day\n",
      "day 21 day\n",
      "day 23 day\n",
      "day 12 day\n",
      "day 13 day\n",
      "day 16 day\n",
      "day 28 day\n",
      "day 22 day\n",
      "day 14 day\n",
      "day 14 day\n",
      "day 36 day\n",
      "day 15 day\n",
      "day 15 day\n",
      "day 15 day\n",
      "day 27 day\n",
      "day 21 day\n",
      "day 23 day\n",
      "day 15 day\n",
      "day 16 day\n",
      "day 16 day\n",
      "day 21 day\n",
      "day 30 day\n",
      "day 17 day\n",
      "day 30 day\n",
      "day 38 day\n",
      "day 23 day\n",
      "day 29 day\n",
      "day 18 day\n",
      "day 26 day\n",
      "day 32 day\n",
      "day 20 day\n",
      "day 20 day\n",
      "day 20 day\n",
      "day 29 day\n",
      "day 24 day\n",
      "day 21 day\n",
      "day 21 day\n",
      "day 33 day\n",
      "day 28 day\n",
      "day 22 day\n",
      "day 40 day\n",
      "day 22 day\n",
      "day 22 day\n",
      "day 37 day\n",
      "day 23 day\n",
      "day 30 day\n",
      "day 34 day\n",
      "day 29 day\n",
      "day 36 day\n",
      "day 35 day\n",
      "day 35 day\n",
      "day 25 day\n",
      "day 29 day\n",
      "day 29 day\n",
      "day 29 day\n",
      "day 33 day\n",
      "day 26 day\n",
      "day 27 day\n",
      "day 45 day\n",
      "day 49 day\n",
      "day 34 day\n",
      "day 36 day\n",
      "day 44 day\n",
      "day 28 day\n",
      "day 43 day\n",
      "day 34 day\n",
      "day 55 day\n",
      "day 36 day\n",
      "day 62 day\n",
      "day 30 day\n",
      "day 36 day\n",
      "day 36 day\n",
      "day 51 day\n",
      "day 44 day\n",
      "day 49 day\n",
      "day 48 day\n",
      "day 37 day\n",
      "day 37 day\n",
      "day 51 day\n",
      "day 44 day\n",
      "day 42 day\n",
      "day 44 day\n",
      "day 50 day\n",
      "day 49 day\n",
      "day 36 day\n",
      "day 37 day\n",
      "day 37 day\n",
      "day 37 day\n",
      "day 52 day\n",
      "day 52 day\n",
      "day 60 day\n",
      "day 50 day\n",
      "day 52 day\n",
      "day 48 day\n",
      "day 51 day\n",
      "day 62 day\n"
     ]
    }
   ],
   "source": [
    "df['days'] = df.apply(return_reg_ex_days,axis=1)"
   ]
  },
  {
   "cell_type": "code",
   "execution_count": 39,
   "metadata": {
    "collapsed": false
   },
   "outputs": [
    {
     "data": {
      "text/html": [
       "<div>\n",
       "<table border=\"1\" class=\"dataframe\">\n",
       "  <thead>\n",
       "    <tr style=\"text-align: right;\">\n",
       "      <th></th>\n",
       "      <th>title</th>\n",
       "      <th>date</th>\n",
       "      <th>days</th>\n",
       "    </tr>\n",
       "  </thead>\n",
       "  <tbody>\n",
       "    <tr>\n",
       "      <th>0</th>\n",
       "      <td>10 Years of Open Source Machine Learning</td>\n",
       "      <td>7 points by tstonez 19 hours ago  | 1 comment</td>\n",
       "      <td>1</td>\n",
       "    </tr>\n",
       "    <tr>\n",
       "      <th>1</th>\n",
       "      <td>What machines can learn from Apple Watch: dete...</td>\n",
       "      <td>2 points by koukouhappy 7 hours ago  | discuss</td>\n",
       "      <td>1</td>\n",
       "    </tr>\n",
       "    <tr>\n",
       "      <th>2</th>\n",
       "      <td>The Deep Roots of Javascript Fatigue</td>\n",
       "      <td>3 points by nikkielizdemere 13 hours ago  | di...</td>\n",
       "      <td>1</td>\n",
       "    </tr>\n",
       "    <tr>\n",
       "      <th>3</th>\n",
       "      <td>Data science intro for math/phys background</td>\n",
       "      <td>9 points by pmigdal 1 day ago  | discuss</td>\n",
       "      <td>1</td>\n",
       "    </tr>\n",
       "    <tr>\n",
       "      <th>4</th>\n",
       "      <td>Data Science Pop-Up in Austin, TX</td>\n",
       "      <td>2 points by AnnaOnTheWeb 13 hours ago  | discuss</td>\n",
       "      <td>1</td>\n",
       "    </tr>\n",
       "  </tbody>\n",
       "</table>\n",
       "</div>"
      ],
      "text/plain": [
       "                                               title  \\\n",
       "0           10 Years of Open Source Machine Learning   \n",
       "1  What machines can learn from Apple Watch: dete...   \n",
       "2               The Deep Roots of Javascript Fatigue   \n",
       "3        Data science intro for math/phys background   \n",
       "4                  Data Science Pop-Up in Austin, TX   \n",
       "\n",
       "                                                date days  \n",
       "0      7 points by tstonez 19 hours ago  | 1 comment    1  \n",
       "1     2 points by koukouhappy 7 hours ago  | discuss    1  \n",
       "2  3 points by nikkielizdemere 13 hours ago  | di...    1  \n",
       "3           9 points by pmigdal 1 day ago  | discuss    1  \n",
       "4   2 points by AnnaOnTheWeb 13 hours ago  | discuss    1  "
      ]
     },
     "execution_count": 39,
     "metadata": {},
     "output_type": "execute_result"
    }
   ],
   "source": [
    "df.head()"
   ]
  },
  {
   "cell_type": "code",
   "execution_count": 40,
   "metadata": {
    "collapsed": false
   },
   "outputs": [
    {
     "data": {
      "text/html": [
       "<div>\n",
       "<table border=\"1\" class=\"dataframe\">\n",
       "  <thead>\n",
       "    <tr style=\"text-align: right;\">\n",
       "      <th></th>\n",
       "      <th>title</th>\n",
       "      <th>date</th>\n",
       "      <th>days</th>\n",
       "    </tr>\n",
       "  </thead>\n",
       "  <tbody>\n",
       "    <tr>\n",
       "      <th>175</th>\n",
       "      <td>Finding Nearest Neighbors in SQL</td>\n",
       "      <td>7 points by jonathanbishop 50 days ago  | 2 co...</td>\n",
       "      <td>50</td>\n",
       "    </tr>\n",
       "    <tr>\n",
       "      <th>176</th>\n",
       "      <td>Free Data Science Curriculum</td>\n",
       "      <td>8 points by Veerle 52 days ago  | discuss</td>\n",
       "      <td>52</td>\n",
       "    </tr>\n",
       "    <tr>\n",
       "      <th>177</th>\n",
       "      <td>Deep Learning is Easy - Learn Something Harder</td>\n",
       "      <td>5 points by ebellm 48 days ago  | discuss</td>\n",
       "      <td>48</td>\n",
       "    </tr>\n",
       "    <tr>\n",
       "      <th>178</th>\n",
       "      <td>FlyElephant as a tool for calculations in C++,...</td>\n",
       "      <td>6 points by m31 51 days ago  | discuss</td>\n",
       "      <td>51</td>\n",
       "    </tr>\n",
       "    <tr>\n",
       "      <th>179</th>\n",
       "      <td>Yahoo Releases the Largest-ever Machine Learni...</td>\n",
       "      <td>13 points by srinify 62 days ago  | 1 comment</td>\n",
       "      <td>62</td>\n",
       "    </tr>\n",
       "  </tbody>\n",
       "</table>\n",
       "</div>"
      ],
      "text/plain": [
       "                                                 title  \\\n",
       "175                   Finding Nearest Neighbors in SQL   \n",
       "176                       Free Data Science Curriculum   \n",
       "177     Deep Learning is Easy - Learn Something Harder   \n",
       "178  FlyElephant as a tool for calculations in C++,...   \n",
       "179  Yahoo Releases the Largest-ever Machine Learni...   \n",
       "\n",
       "                                                  date days  \n",
       "175  7 points by jonathanbishop 50 days ago  | 2 co...   50  \n",
       "176          8 points by Veerle 52 days ago  | discuss   52  \n",
       "177          5 points by ebellm 48 days ago  | discuss   48  \n",
       "178             6 points by m31 51 days ago  | discuss   51  \n",
       "179      13 points by srinify 62 days ago  | 1 comment   62  "
      ]
     },
     "execution_count": 40,
     "metadata": {},
     "output_type": "execute_result"
    }
   ],
   "source": [
    "df.tail()"
   ]
  },
  {
   "cell_type": "code",
   "execution_count": 41,
   "metadata": {
    "collapsed": true
   },
   "outputs": [],
   "source": [
    "df.to_csv('data_tau_days.csv')"
   ]
  },
  {
   "cell_type": "code",
   "execution_count": null,
   "metadata": {
    "collapsed": true
   },
   "outputs": [],
   "source": []
  }
 ],
 "metadata": {
  "kernelspec": {
   "display_name": "Python 3",
   "language": "python",
   "name": "python3"
  },
  "language_info": {
   "codemirror_mode": {
    "name": "ipython",
    "version": 3
   },
   "file_extension": ".py",
   "mimetype": "text/x-python",
   "name": "python",
   "nbconvert_exporter": "python",
   "pygments_lexer": "ipython3",
   "version": "3.5.1"
  }
 },
 "nbformat": 4,
 "nbformat_minor": 0
}
