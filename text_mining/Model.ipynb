{
 "cells": [
  {
   "cell_type": "markdown",
   "metadata": {},
   "source": [
    "# Model the Problem"
   ]
  },
  {
   "cell_type": "markdown",
   "metadata": {},
   "source": [
    "## Preprocessing the data"
   ]
  },
  {
   "cell_type": "code",
   "execution_count": 17,
   "metadata": {
    "collapsed": true
   },
   "outputs": [],
   "source": [
    "import pandas as pd\n",
    "import re"
   ]
  },
  {
   "cell_type": "code",
   "execution_count": 2,
   "metadata": {
    "collapsed": true
   },
   "outputs": [],
   "source": [
    "df = pd.read_csv('data_tau_ta.csv')"
   ]
  },
  {
   "cell_type": "code",
   "execution_count": 3,
   "metadata": {
    "collapsed": false
   },
   "outputs": [
    {
     "data": {
      "text/html": [
       "<div>\n",
       "<table border=\"1\" class=\"dataframe\">\n",
       "  <thead>\n",
       "    <tr style=\"text-align: right;\">\n",
       "      <th></th>\n",
       "      <th>title</th>\n",
       "      <th>date</th>\n",
       "      <th>days</th>\n",
       "      <th>tokens</th>\n",
       "      <th>stem</th>\n",
       "      <th>lemma</th>\n",
       "      <th>pos_tags</th>\n",
       "      <th>named_entities</th>\n",
       "    </tr>\n",
       "  </thead>\n",
       "  <tbody>\n",
       "    <tr>\n",
       "      <th>0</th>\n",
       "      <td>10 Years of Open Source Machine Learning</td>\n",
       "      <td>7 points by tstonez 19 hours ago  | 1 comment</td>\n",
       "      <td>1</td>\n",
       "      <td>['10', 'years', 'open', 'source', 'machine', '...</td>\n",
       "      <td>10 Years of Open Source Machine Learn</td>\n",
       "      <td>10 Years of Open Source Machine Learning</td>\n",
       "      <td>[('10', 'CD'), ('Years', 'NNS'), ('of', 'IN'),...</td>\n",
       "      <td>['Open Source Machine']</td>\n",
       "    </tr>\n",
       "    <tr>\n",
       "      <th>1</th>\n",
       "      <td>What machines can learn from Apple Watch: dete...</td>\n",
       "      <td>2 points by koukouhappy 7 hours ago  | discuss</td>\n",
       "      <td>1</td>\n",
       "      <td>['machines', 'learn', 'apple', 'watch', 'detec...</td>\n",
       "      <td>What machines can learn from Apple Watch: dete...</td>\n",
       "      <td>What machines can learn from Apple Watch: dete...</td>\n",
       "      <td>[('What', 'WP'), ('machines', 'NNS'), ('can', ...</td>\n",
       "      <td>['Apple Watch']</td>\n",
       "    </tr>\n",
       "    <tr>\n",
       "      <th>2</th>\n",
       "      <td>The Deep Roots of Javascript Fatigue</td>\n",
       "      <td>3 points by nikkielizdemere 13 hours ago  | di...</td>\n",
       "      <td>1</td>\n",
       "      <td>['deep', 'roots', 'javascript', 'fatigue']</td>\n",
       "      <td>The Deep Roots of Javascript Fatigu</td>\n",
       "      <td>The Deep Roots of Javascript Fatigue</td>\n",
       "      <td>[('The', 'DT'), ('Deep', 'NNP'), ('Roots', 'NN...</td>\n",
       "      <td>['Deep Roots', 'Javascript Fatigue']</td>\n",
       "    </tr>\n",
       "    <tr>\n",
       "      <th>3</th>\n",
       "      <td>Data science intro for math/phys background</td>\n",
       "      <td>9 points by pmigdal 1 day ago  | discuss</td>\n",
       "      <td>1</td>\n",
       "      <td>['data', 'science', 'intro', 'math', 'phys', '...</td>\n",
       "      <td>Data science intro for math/phys background</td>\n",
       "      <td>Data science intro for math/phys background</td>\n",
       "      <td>[('Data', 'NNP'), ('science', 'NN'), ('intro',...</td>\n",
       "      <td>['Data']</td>\n",
       "    </tr>\n",
       "    <tr>\n",
       "      <th>4</th>\n",
       "      <td>Data Science Pop-Up in Austin, TX</td>\n",
       "      <td>2 points by AnnaOnTheWeb 13 hours ago  | discuss</td>\n",
       "      <td>1</td>\n",
       "      <td>['data', 'science', 'pop', 'austin', 'tx']</td>\n",
       "      <td>Data Science Pop-Up in Austin, TX</td>\n",
       "      <td>Data Science Pop-Up in Austin, TX</td>\n",
       "      <td>[('Data', 'NNP'), ('Science', 'NNP'), ('Pop', ...</td>\n",
       "      <td>['Data Science Pop', 'Austin']</td>\n",
       "    </tr>\n",
       "  </tbody>\n",
       "</table>\n",
       "</div>"
      ],
      "text/plain": [
       "                                               title  \\\n",
       "0           10 Years of Open Source Machine Learning   \n",
       "1  What machines can learn from Apple Watch: dete...   \n",
       "2               The Deep Roots of Javascript Fatigue   \n",
       "3        Data science intro for math/phys background   \n",
       "4                  Data Science Pop-Up in Austin, TX   \n",
       "\n",
       "                                                date  days  \\\n",
       "0      7 points by tstonez 19 hours ago  | 1 comment     1   \n",
       "1     2 points by koukouhappy 7 hours ago  | discuss     1   \n",
       "2  3 points by nikkielizdemere 13 hours ago  | di...     1   \n",
       "3           9 points by pmigdal 1 day ago  | discuss     1   \n",
       "4   2 points by AnnaOnTheWeb 13 hours ago  | discuss     1   \n",
       "\n",
       "                                              tokens  \\\n",
       "0  ['10', 'years', 'open', 'source', 'machine', '...   \n",
       "1  ['machines', 'learn', 'apple', 'watch', 'detec...   \n",
       "2         ['deep', 'roots', 'javascript', 'fatigue']   \n",
       "3  ['data', 'science', 'intro', 'math', 'phys', '...   \n",
       "4         ['data', 'science', 'pop', 'austin', 'tx']   \n",
       "\n",
       "                                                stem  \\\n",
       "0              10 Years of Open Source Machine Learn   \n",
       "1  What machines can learn from Apple Watch: dete...   \n",
       "2                The Deep Roots of Javascript Fatigu   \n",
       "3        Data science intro for math/phys background   \n",
       "4                  Data Science Pop-Up in Austin, TX   \n",
       "\n",
       "                                               lemma  \\\n",
       "0           10 Years of Open Source Machine Learning   \n",
       "1  What machines can learn from Apple Watch: dete...   \n",
       "2               The Deep Roots of Javascript Fatigue   \n",
       "3        Data science intro for math/phys background   \n",
       "4                  Data Science Pop-Up in Austin, TX   \n",
       "\n",
       "                                            pos_tags  \\\n",
       "0  [('10', 'CD'), ('Years', 'NNS'), ('of', 'IN'),...   \n",
       "1  [('What', 'WP'), ('machines', 'NNS'), ('can', ...   \n",
       "2  [('The', 'DT'), ('Deep', 'NNP'), ('Roots', 'NN...   \n",
       "3  [('Data', 'NNP'), ('science', 'NN'), ('intro',...   \n",
       "4  [('Data', 'NNP'), ('Science', 'NNP'), ('Pop', ...   \n",
       "\n",
       "                         named_entities  \n",
       "0               ['Open Source Machine']  \n",
       "1                       ['Apple Watch']  \n",
       "2  ['Deep Roots', 'Javascript Fatigue']  \n",
       "3                              ['Data']  \n",
       "4        ['Data Science Pop', 'Austin']  "
      ]
     },
     "execution_count": 3,
     "metadata": {},
     "output_type": "execute_result"
    }
   ],
   "source": [
    "df.head()"
   ]
  },
  {
   "cell_type": "code",
   "execution_count": 4,
   "metadata": {
    "collapsed": false
   },
   "outputs": [
    {
     "data": {
      "text/plain": [
       "(180, 8)"
      ]
     },
     "execution_count": 4,
     "metadata": {},
     "output_type": "execute_result"
    }
   ],
   "source": [
    "df.shape"
   ]
  },
  {
   "cell_type": "code",
   "execution_count": 5,
   "metadata": {
    "collapsed": true
   },
   "outputs": [],
   "source": [
    "import nltk"
   ]
  },
  {
   "cell_type": "code",
   "execution_count": 6,
   "metadata": {
    "collapsed": true
   },
   "outputs": [],
   "source": [
    "from nltk.corpus import stopwords"
   ]
  },
  {
   "cell_type": "code",
   "execution_count": 7,
   "metadata": {
    "collapsed": true
   },
   "outputs": [],
   "source": [
    "stop = stopwords.words('english')"
   ]
  },
  {
   "cell_type": "code",
   "execution_count": 8,
   "metadata": {
    "collapsed": false
   },
   "outputs": [],
   "source": [
    "stop.extend(('.', ',', '\"', \"'\", '?', '!', ':', ';', '(', ')', '[', ']', '{', '}','/','-'))"
   ]
  },
  {
   "cell_type": "code",
   "execution_count": 27,
   "metadata": {
    "collapsed": false
   },
   "outputs": [],
   "source": [
    "tokens_list = df['tokens'].tolist()"
   ]
  },
  {
   "cell_type": "code",
   "execution_count": 28,
   "metadata": {
    "collapsed": false
   },
   "outputs": [
    {
     "data": {
      "text/plain": [
       "[\"['10', 'years', 'open', 'source', 'machine', 'learning']\",\n",
       " \"['machines', 'learn', 'apple', 'watch', 'detecting', 'undiagnosed', 'heart', 'condition']\",\n",
       " \"['deep', 'roots', 'javascript', 'fatigue']\",\n",
       " \"['data', 'science', 'intro', 'math', 'phys', 'background']\",\n",
       " \"['data', 'science', 'pop', 'austin', 'tx']\",\n",
       " \"['data', 'science', 'tools', 'biggest', 'winners', 'losers']\",\n",
       " \"['analyzing', 'golden', 'state', 'warriors', 'passing', 'network', 'using', 'graphframes', 'spark']\",\n",
       " \"['making', 'transparent', 'variations', 'analytical', 'choices', 'affect', 'results']\",\n",
       " \"['neural', 'networks', 'demystified']\",\n",
       " \"['conversion', 'rate', 'changed', 'bayesian', 'timeseries', 'analysis', 'python']\",\n",
       " \"['descriptive', 'statistics', 'sql']\",\n",
       " \"['xgboost4j', 'portable', 'distributed', 'xgboost', 'spark', 'flink', 'dataflow']\",\n",
       " \"['introduction', 'scikit', 'flow', 'simplified', 'interface', 'tensorflow']\",\n",
       " \"['personality', 'space', 'cartoon', 'characters']\",\n",
       " \"['machine', 'learning', 'depth', 'non', 'technical', 'guide', '???', 'part', '4']\",\n",
       " \"['learn', 'machine', 'learning']\",\n",
       " \"['make', 'data', 'tau', 'work']\",\n",
       " \"['7', 'big', 'data', 'technologies', 'use', 'data', 'engineers', 'know']\",\n",
       " \"['data', 'science', 'slack', 'channel', 'click', 'invite']\",\n",
       " \"['minecraft', 'run', 'artificial', 'intelligence', 'experiments']\",\n",
       " \"['deep', 'q', 'learning', 'space', 'invaders']\",\n",
       " \"['megaman', 'manifold', 'learning', 'millions', 'points']\",\n",
       " \"['computing', 'classification', 'evaluation', 'metrics', 'r']\",\n",
       " \"['billion', 'taxi', 'rides', 'amazon', 'emr', 'running', 'presto']\",\n",
       " \"['scala', 'better', 'choice', 'python', 'apache', 'spark']\",\n",
       " \"['julia', 'fast', 'language', 'numerical', 'computing']\",\n",
       " \"['intellexer', 'natural', 'language', 'processing', 'text', 'mining', 'rest', 'api']\",\n",
       " \"['shiny', 'app', 'running', 'tensorflow', 'demo']\",\n",
       " \"['playing', 'moneyball', 'ea', 'fifa', '16']\",\n",
       " \"['file', 'details', 'owners', 'gitnoc', 'git', 'pandas']\",\n",
       " \"['ballr', 'interactive', 'nba', 'shot', 'charts', 'r', 'shiny']\",\n",
       " \"['bayesian', 'estimation', 'g', 'train', 'wait', 'times']\",\n",
       " \"['announcing', 'apache', 'flink', '1', '0', '0']\",\n",
       " \"['train', 'image', 'classifier', 'inception', 'tensorflow']\",\n",
       " \"['neural', 'doodles', 'workflows', 'next', 'generation', 'artists']\",\n",
       " \"['question', 'want', 'say', 'working', 'data']\",\n",
       " \"['graph', 'databases', '101']\",\n",
       " \"['statisticians', 'agree', '???', 'time', 'stop', 'misusing', 'p', 'value']\",\n",
       " \"['xgboost', 'scalable', 'tree', 'boosting', 'system', 'article']\",\n",
       " \"['top', '50', 'data', 'science', 'thought', 'leaders', 'twitter']\",\n",
       " \"['international', 'women', 'day', '#', 'pledgeforparity', 'means', 'us']\",\n",
       " \"['unsupervised', 'learning', 'even', 'less', 'supervision', 'using', 'bayesian', 'optimization']\",\n",
       " \"['announcing', 'r', 'tools', 'visual', 'studio']\",\n",
       " \"['genomic', 'ranges', 'introduction', 'working', 'genomic', 'data']\",\n",
       " \"['deriving', 'better', 'insights', 'time', 'series', 'data', 'cycle', 'plots']\",\n",
       " \"['drivendata', 'competition', 'model', 'visualize', 'fog', 'patterns', 'morocco']\",\n",
       " \"['introducing', 'graphframes']\",\n",
       " \"['ask', 'dt', 'hiring', 'march', '2016']\",\n",
       " \"['deep', 'learning', 'nine', 'lectures', 'coll', '??', 'ge', 'de', 'france', 'yan', 'lecun']\",\n",
       " \"['tensorflow', 'poets']\",\n",
       " \"['work', 'large', 'json', 'datasets', 'using', 'python', 'pandas']\",\n",
       " \"['sql', 'data', 'analysis']\",\n",
       " \"['stream', 'processing', 'messaging', 'systems', 'iot', 'age']\",\n",
       " \"['optimizing', 'facebook', 'campaigns', 'r']\",\n",
       " \"['trump', 'tweets', 'globe', 'aka', 'fun', 'd3', 'socket', 'io', 'twitter', 'api']\",\n",
       " \"['pandas', 'users', 'excited', 'apache', 'arrow']\",\n",
       " \"['histogram', 'intersection', 'change', 'detection']\",\n",
       " \"['simpler', 'way', 'merge', 'data', 'streams']\",\n",
       " \"['distributed', 'tensorflow', 'open', 'sourced']\",\n",
       " \"['d3', 'js', 'screencasts', '1', '3', 'free']\",\n",
       " \"['regression', 'classification', 'examples', 'r']\",\n",
       " \"['free', 'online', 'course', 'statistical', 'shape', 'modelling']\",\n",
       " \"['worry', 'deep', 'learning', 'deepen', 'understanding', 'causality', 'instead']\",\n",
       " \"['skizze', 'high', 'throughput', 'probabilistic', 'data', 'structure', 'service', 'storage']\",\n",
       " \"['work', 'private', 'repositories', 'updates', 'flyelephant', 'platform']\",\n",
       " \"['import', 'xml', 'almost', 'anywhere']\",\n",
       " \"['optimizing', 'notification', 'timing', 'one', 'signal']\",\n",
       " \"['survival', 'analysis', 'cricket', 'player', 'careers']\",\n",
       " \"['generate', 'image', 'analogies', 'using', 'neural', 'matching', 'blending']\",\n",
       " \"['analyzing', '1', '8m', 'tweets', 'super', 'bowl', '50', 'twython', 'twitter', 'api', 'aylien']\",\n",
       " \"['newly', 'released', 'sklearn', 'compatible', 'library', 'categorical', 'encoders']\",\n",
       " \"['watch', 'tiny', 'neural', 'nets', 'learn']\",\n",
       " \"['four', 'pitfalls', 'hill', 'climbing', 'animated', 'look']\",\n",
       " \"['decision', 'forests', 'convolutional', 'networks', 'models']\",\n",
       " \"['math', 'genius', 'hacked', 'okcupid', 'find', 'true', 'love']\",\n",
       " \"['developers', 'pylearn2']\",\n",
       " \"['density', 'estimation', 'dirichlet', 'process', 'mixtures', 'using', 'pymc3']\",\n",
       " \"['using', 'survival', 'analysis', 'git', 'pandas', 'estimate', 'code', 'quality']\",\n",
       " \"['analysis', 'flint', 'michigan', 'water', 'crisis', 'part', '1', 'initial', 'corrosivity']\",\n",
       " \"['analysis', 'republican', 'twitter', 'follower', 'interests']\",\n",
       " \"['introduction', 'ml', 'talk']\",\n",
       " \"['glove', 'vs', 'word2vec', 'revisited']\",\n",
       " \"['undergrad', 'data', 'analysis', 'science', 'internships', 'sf', 'bay']\",\n",
       " \"['role', 'statistical', 'significance', 'growth', 'hacking']\",\n",
       " \"['data', 'science', 'course', '@', 'harvard']\",\n",
       " \"['principal', 'component', 'projection', 'without', 'principal', 'component', 'analysis']\",\n",
       " \"['machine', 'learning', 'depth', 'non', 'technical', 'guide', 'part', '3']\",\n",
       " \"['stochastic', 'dummy', 'boosting']\",\n",
       " \"['interactive', 'map', 'hong', 'kong', 'lense', 'instagram']\",\n",
       " \"['data', 'science', 'monsanto']\",\n",
       " \"['data', 'science', 'instacart']\",\n",
       " \"['building', 'streaming', 'search', 'platform']\",\n",
       " \"['sneak', 'peak', 'cloud', '2', 'minute', 'intro', 'beginners']\",\n",
       " \"['win', 'vector', 'video', 'courses', 'price', 'status', 'changes']\",\n",
       " \"['50', '+', 'data', 'science', 'machine', 'learning', 'cheat', 'sheets']\",\n",
       " \"['one', 'reason', 'scared', 'deep', 'learning']\",\n",
       " \"['visual', 'logic', 'authoring', 'vs', 'code']\",\n",
       " \"['data', 'science', 'python', 'online', 'training', 'hands', 'experience']\",\n",
       " \"['viewing', 'us', 'presidential', 'primary', 'lens', 'twitter']\",\n",
       " \"['caffe', 'spark', 'open', 'sourced']\",\n",
       " \"['ethical', 'data', 'scientist']\",\n",
       " \"['answers', 'frequently', 'asked', 'questions', 'machine', 'learning']\",\n",
       " \"['intro', 'b', 'testing', 'p', 'values']\",\n",
       " \"['visualizing', 'state', 'level', 'data', 'r', 'statebins']\",\n",
       " \"['probabilistic', 'graphical', 'models', 'slides', '&', 'video', 'lectures', 'eric', 'xing', 'cmu']\",\n",
       " \"['sense2vec', 'spacy', 'gensim']\",\n",
       " \"['code', 'understand', 'deepmind', 'neural', 'stack', 'machine', 'python']\",\n",
       " \"['make', 'polished', 'jupyter', 'presentations', 'optional', 'code', 'visibility']\",\n",
       " \"['become', 'bayesian', 'eight', 'easy', 'steps']\",\n",
       " \"['optimizing', '.*:', 'details', 'vectorization', 'metaprogramming', 'julia']\",\n",
       " \"['ibm', 'certified', 'apache', 'spark', 'online', 'training']\",\n",
       " \"['geographic', 'data', 'science', 'course']\",\n",
       " \"['daily', 'mail', 'stole', 'visualization', 'twice']\",\n",
       " \"['ensemble', 'methods', 'improved', 'machine', 'learning', 'results']\",\n",
       " \"['apache', 'spark', 'unsupervised', 'learning', 'security']\",\n",
       " \"['machinejs', 'automated', 'machine', 'learning', 'give', 'data', 'file']\",\n",
       " \"['kafka', 'producer', 'latency', 'large', 'topic', 'counts']\",\n",
       " \"['nsa', '???', 'skynet', 'program', 'may', 'killing', 'thousands', 'innocent', 'people']\",\n",
       " \"['overoptimizing', 'story', 'kaggle']\",\n",
       " \"['big', 'dimensions']\",\n",
       " \"['automate', 'oscars', 'pool', 'r']\",\n",
       " \"['signal', 'processing', 'ligo', 'gw150914', 'data']\",\n",
       " \"['overview', 'dezyre', 'coursera', 'data', 'science', 'course']\",\n",
       " \"['upcoming', 'datathon', 'nyc']\",\n",
       " \"['summarizing', 'data', 'sql']\",\n",
       " \"['b', 'testing', 'scammers']\",\n",
       " \"['highly', 'interpretable', 'classifiers', 'scikit', 'learn', 'using', 'bayesian', 'decision', 'rules']\",\n",
       " \"['auto', 'scaling', 'scikit', 'learn', 'spark']\",\n",
       " \"['f', '***', 'park']\",\n",
       " \"['machine', 'learning', 'depth', 'non', 'technical', 'guide', 'part', '2']\",\n",
       " \"['webhose', 'io', 'offers', 'historical', 'data', 'archive']\",\n",
       " \"['meetup', 'introduction', 'machine', 'learning', 'algorithms', 'data', 'science']\",\n",
       " \"['exploring', 'limits', 'language', 'modeling']\",\n",
       " \"['text', 'mining', 'south', 'park']\",\n",
       " \"['finding', 'k', 'k', 'means', 'parametric', 'bootstrap']\",\n",
       " \"['billion', 'nyc', 'taxi', 'uber', 'rides', 'aws', 'redshift']\",\n",
       " \"['getting', 'started', 'statistics', 'data', 'science']\",\n",
       " \"['rodeo', '1', '3', 'tab', 'completion', 'docstrings']\",\n",
       " \"['teaching', 'd3', 'js', 'links']\",\n",
       " \"['parallel', 'scikit', 'learn', 'yarn']\",\n",
       " \"['meetup', 'free', 'live', 'webinar', 'prescriptive', 'analytics', 'fun', 'profit']\",\n",
       " \"['access', 'vk', 'com', 'vkontakte', 'api', 'via', 'r']\",\n",
       " \"['deep', 'learning', 'tutorial', 'lecun', 'bengio']\",\n",
       " \"['machine', 'learning', 'meets', 'economics']\",\n",
       " \"['culll', 'data', 'science', 'culled', 'best']\",\n",
       " \"['topic', 'modelling', 'parliamentary', 'debate', 'records']\",\n",
       " \"['ask', 'dt', 'hiring', 'february', '2016']\",\n",
       " \"['day', 'life', 'data', 'scientist', 'rutgers', 'online']\",\n",
       " \"['gpu', 'computing', 'data', 'science']\",\n",
       " \"['big', 'data', 'landscape', 'database', '675', '+', 'big', 'data', 'players']\",\n",
       " \"['deep', 'learning', 'udacity', 'course']\",\n",
       " \"['kaggle', 'learned', '2', 'million', 'machine', 'learning', 'models']\",\n",
       " \"['making', 'causal', 'impact', 'analysis', 'easy']\",\n",
       " \"['recommendation', 'system', 'blogs', 'content', 'based', 'similarity', 'part', '2']\",\n",
       " \"['turing', 'art', 'test']\",\n",
       " \"['happiness', 'paradox', 'friends', 'happier']\",\n",
       " \"['deep', 'learning', 'spark', 'tensorflow']\",\n",
       " \"['statistical', 'computing']\",\n",
       " \"['alphago', 'using', 'machine', 'learning', 'master', 'ancient', 'game', 'go']\",\n",
       " \"['census', 'analyzer', 'preview', 'technology', 'web', 'based', 'tool', 'data', 'analysis']\",\n",
       " \"['introduction', 'java', 'web', 'scraping']\",\n",
       " \"['market', 'basket', 'analysis', 'using', 'r']\",\n",
       " \"['marvin', 'minsky', 'pioneer', 'artificial', 'intelligence', 'dies', '88']\",\n",
       " \"['open', 'source', 'deep', 'learning', 'server']\",\n",
       " \"['spark', 'ts', 'new', 'library', 'analyzing', 'time', 'series', 'data', 'apache', 'spark']\",\n",
       " \"['exploration', 'convnet', 'filters', 'keras']\",\n",
       " \"['applied', 'spatial', 'data', 'science', 'r']\",\n",
       " \"['secrets', 'building', 'data', 'driven', 'organization']\",\n",
       " \"['philly', 'tweets']\",\n",
       " \"['neglected', 'data', 'science', 'optimization', 'topic', 'set', 'diversity']\",\n",
       " \"['machine', 'learning', 'depth', 'non', 'technical', 'guide', 'part', '2']\",\n",
       " \"['statistical', 'dependency', 'parsing', 'using', 'svm', 'python', '@', 'rj_here']\",\n",
       " \"['5', 'reasons', 'kaggle', 'projects', 'help', 'data', 'science', 'resume']\",\n",
       " \"['deep', 'learning', 'glossary']\",\n",
       " \"['teaching', 'semester', 'd3', 'js']\",\n",
       " \"['finding', 'nearest', 'neighbors', 'sql']\",\n",
       " \"['free', 'data', 'science', 'curriculum']\",\n",
       " \"['deep', 'learning', 'easy', 'learn', 'something', 'harder']\",\n",
       " \"['flyelephant', 'tool', 'calculations', 'c', '++,', 'r', 'python', 'octave']\",\n",
       " \"['yahoo', 'releases', 'largest', 'ever', 'machine', 'learning', 'dataset', 'researchers']\"]"
      ]
     },
     "execution_count": 28,
     "metadata": {},
     "output_type": "execute_result"
    }
   ],
   "source": [
    "tokens_list"
   ]
  },
  {
   "cell_type": "code",
   "execution_count": 38,
   "metadata": {
    "collapsed": false
   },
   "outputs": [
    {
     "name": "stdout",
     "output_type": "stream",
     "text": [
      "['10', ' years', ' open', ' source', ' machine', ' learning']\n",
      "['machines', ' learn', ' apple', ' watch', ' detecting', ' undiagnosed', ' heart', ' condition']\n",
      "['deep', ' roots', ' javascript', ' fatigue']\n",
      "['data', ' science', ' intro', ' math', ' phys', ' background']\n",
      "['data', ' science', ' pop', ' austin', ' tx']\n",
      "['data', ' science', ' tools', ' biggest', ' winners', ' losers']\n",
      "['analyzing', ' golden', ' state', ' warriors', ' passing', ' network', ' using', ' graphframes', ' spark']\n",
      "['making', ' transparent', ' variations', ' analytical', ' choices', ' affect', ' results']\n",
      "['neural', ' networks', ' demystified']\n",
      "['conversion', ' rate', ' changed', ' bayesian', ' timeseries', ' analysis', ' python']\n",
      "['descriptive', ' statistics', ' sql']\n",
      "['xgboost4j', ' portable', ' distributed', ' xgboost', ' spark', ' flink', ' dataflow']\n",
      "['introduction', ' scikit', ' flow', ' simplified', ' interface', ' tensorflow']\n",
      "['personality', ' space', ' cartoon', ' characters']\n",
      "['machine', ' learning', ' depth', ' non', ' technical', ' guide', ' ???', ' part', ' 4']\n",
      "['learn', ' machine', ' learning']\n",
      "['make', ' data', ' tau', ' work']\n",
      "['7', ' big', ' data', ' technologies', ' use', ' data', ' engineers', ' know']\n",
      "['data', ' science', ' slack', ' channel', ' click', ' invite']\n",
      "['minecraft', ' run', ' artificial', ' intelligence', ' experiments']\n",
      "['deep', ' q', ' learning', ' space', ' invaders']\n",
      "['megaman', ' manifold', ' learning', ' millions', ' points']\n",
      "['computing', ' classification', ' evaluation', ' metrics', ' r']\n",
      "['billion', ' taxi', ' rides', ' amazon', ' emr', ' running', ' presto']\n",
      "['scala', ' better', ' choice', ' python', ' apache', ' spark']\n",
      "['julia', ' fast', ' language', ' numerical', ' computing']\n",
      "['intellexer', ' natural', ' language', ' processing', ' text', ' mining', ' rest', ' api']\n",
      "['shiny', ' app', ' running', ' tensorflow', ' demo']\n",
      "['playing', ' moneyball', ' ea', ' fifa', ' 16']\n",
      "['file', ' details', ' owners', ' gitnoc', ' git', ' pandas']\n",
      "['ballr', ' interactive', ' nba', ' shot', ' charts', ' r', ' shiny']\n",
      "['bayesian', ' estimation', ' g', ' train', ' wait', ' times']\n",
      "['announcing', ' apache', ' flink', ' 1', ' 0', ' 0']\n",
      "['train', ' image', ' classifier', ' inception', ' tensorflow']\n",
      "['neural', ' doodles', ' workflows', ' next', ' generation', ' artists']\n",
      "['question', ' want', ' say', ' working', ' data']\n",
      "['graph', ' databases', ' 101']\n",
      "['statisticians', ' agree', ' ???', ' time', ' stop', ' misusing', ' p', ' value']\n",
      "['xgboost', ' scalable', ' tree', ' boosting', ' system', ' article']\n",
      "['top', ' 50', ' data', ' science', ' thought', ' leaders', ' twitter']\n",
      "['international', ' women', ' day', ' #', ' pledgeforparity', ' means', ' us']\n",
      "['unsupervised', ' learning', ' even', ' less', ' supervision', ' using', ' bayesian', ' optimization']\n",
      "['announcing', ' r', ' tools', ' visual', ' studio']\n",
      "['genomic', ' ranges', ' introduction', ' working', ' genomic', ' data']\n",
      "['deriving', ' better', ' insights', ' time', ' series', ' data', ' cycle', ' plots']\n",
      "['drivendata', ' competition', ' model', ' visualize', ' fog', ' patterns', ' morocco']\n",
      "['introducing', ' graphframes']\n",
      "['ask', ' dt', ' hiring', ' march', ' 2016']\n",
      "['deep', ' learning', ' nine', ' lectures', ' coll', ' ??', ' ge', ' de', ' france', ' yan', ' lecun']\n",
      "['tensorflow', ' poets']\n",
      "['work', ' large', ' json', ' datasets', ' using', ' python', ' pandas']\n",
      "['sql', ' data', ' analysis']\n",
      "['stream', ' processing', ' messaging', ' systems', ' iot', ' age']\n",
      "['optimizing', ' facebook', ' campaigns', ' r']\n",
      "['trump', ' tweets', ' globe', ' aka', ' fun', ' d3', ' socket', ' io', ' twitter', ' api']\n",
      "['pandas', ' users', ' excited', ' apache', ' arrow']\n",
      "['histogram', ' intersection', ' change', ' detection']\n",
      "['simpler', ' way', ' merge', ' data', ' streams']\n",
      "['distributed', ' tensorflow', ' open', ' sourced']\n",
      "['d3', ' js', ' screencasts', ' 1', ' 3', ' free']\n",
      "['regression', ' classification', ' examples', ' r']\n",
      "['free', ' online', ' course', ' statistical', ' shape', ' modelling']\n",
      "['worry', ' deep', ' learning', ' deepen', ' understanding', ' causality', ' instead']\n",
      "['skizze', ' high', ' throughput', ' probabilistic', ' data', ' structure', ' service', ' storage']\n",
      "['work', ' private', ' repositories', ' updates', ' flyelephant', ' platform']\n",
      "['import', ' xml', ' almost', ' anywhere']\n",
      "['optimizing', ' notification', ' timing', ' one', ' signal']\n",
      "['survival', ' analysis', ' cricket', ' player', ' careers']\n",
      "['generate', ' image', ' analogies', ' using', ' neural', ' matching', ' blending']\n",
      "['analyzing', ' 1', ' 8m', ' tweets', ' super', ' bowl', ' 50', ' twython', ' twitter', ' api', ' aylien']\n",
      "['newly', ' released', ' sklearn', ' compatible', ' library', ' categorical', ' encoders']\n",
      "['watch', ' tiny', ' neural', ' nets', ' learn']\n",
      "['four', ' pitfalls', ' hill', ' climbing', ' animated', ' look']\n",
      "['decision', ' forests', ' convolutional', ' networks', ' models']\n",
      "['math', ' genius', ' hacked', ' okcupid', ' find', ' true', ' love']\n",
      "['developers', ' pylearn2']\n",
      "['density', ' estimation', ' dirichlet', ' process', ' mixtures', ' using', ' pymc3']\n",
      "['using', ' survival', ' analysis', ' git', ' pandas', ' estimate', ' code', ' quality']\n",
      "['analysis', ' flint', ' michigan', ' water', ' crisis', ' part', ' 1', ' initial', ' corrosivity']\n",
      "['analysis', ' republican', ' twitter', ' follower', ' interests']\n",
      "['introduction', ' ml', ' talk']\n",
      "['glove', ' vs', ' word2vec', ' revisited']\n",
      "['undergrad', ' data', ' analysis', ' science', ' internships', ' sf', ' bay']\n",
      "['role', ' statistical', ' significance', ' growth', ' hacking']\n",
      "['data', ' science', ' course', ' @', ' harvard']\n",
      "['principal', ' component', ' projection', ' without', ' principal', ' component', ' analysis']\n",
      "['machine', ' learning', ' depth', ' non', ' technical', ' guide', ' part', ' 3']\n",
      "['stochastic', ' dummy', ' boosting']\n",
      "['interactive', ' map', ' hong', ' kong', ' lense', ' instagram']\n",
      "['data', ' science', ' monsanto']\n",
      "['data', ' science', ' instacart']\n",
      "['building', ' streaming', ' search', ' platform']\n",
      "['sneak', ' peak', ' cloud', ' 2', ' minute', ' intro', ' beginners']\n",
      "['win', ' vector', ' video', ' courses', ' price', ' status', ' changes']\n",
      "['50', ' +', ' data', ' science', ' machine', ' learning', ' cheat', ' sheets']\n",
      "['one', ' reason', ' scared', ' deep', ' learning']\n",
      "['visual', ' logic', ' authoring', ' vs', ' code']\n",
      "['data', ' science', ' python', ' online', ' training', ' hands', ' experience']\n",
      "['viewing', ' us', ' presidential', ' primary', ' lens', ' twitter']\n",
      "['caffe', ' spark', ' open', ' sourced']\n",
      "['ethical', ' data', ' scientist']\n",
      "['answers', ' frequently', ' asked', ' questions', ' machine', ' learning']\n",
      "['intro', ' b', ' testing', ' p', ' values']\n",
      "['visualizing', ' state', ' level', ' data', ' r', ' statebins']\n",
      "['probabilistic', ' graphical', ' models', ' slides', ' &', ' video', ' lectures', ' eric', ' xing', ' cmu']\n",
      "['sense2vec', ' spacy', ' gensim']\n",
      "['code', ' understand', ' deepmind', ' neural', ' stack', ' machine', ' python']\n",
      "['make', ' polished', ' jupyter', ' presentations', ' optional', ' code', ' visibility']\n",
      "['become', ' bayesian', ' eight', ' easy', ' steps']\n",
      "['optimizing', ' .*:', ' details', ' vectorization', ' metaprogramming', ' julia']\n",
      "['ibm', ' certified', ' apache', ' spark', ' online', ' training']\n",
      "['geographic', ' data', ' science', ' course']\n",
      "['daily', ' mail', ' stole', ' visualization', ' twice']\n",
      "['ensemble', ' methods', ' improved', ' machine', ' learning', ' results']\n",
      "['apache', ' spark', ' unsupervised', ' learning', ' security']\n",
      "['machinejs', ' automated', ' machine', ' learning', ' give', ' data', ' file']\n",
      "['kafka', ' producer', ' latency', ' large', ' topic', ' counts']\n",
      "['nsa', ' ???', ' skynet', ' program', ' may', ' killing', ' thousands', ' innocent', ' people']\n",
      "['overoptimizing', ' story', ' kaggle']\n",
      "['big', ' dimensions']\n",
      "['automate', ' oscars', ' pool', ' r']\n",
      "['signal', ' processing', ' ligo', ' gw150914', ' data']\n",
      "['overview', ' dezyre', ' coursera', ' data', ' science', ' course']\n",
      "['upcoming', ' datathon', ' nyc']\n",
      "['summarizing', ' data', ' sql']\n",
      "['b', ' testing', ' scammers']\n",
      "['highly', ' interpretable', ' classifiers', ' scikit', ' learn', ' using', ' bayesian', ' decision', ' rules']\n",
      "['auto', ' scaling', ' scikit', ' learn', ' spark']\n",
      "['f', ' ***', ' park']\n",
      "['machine', ' learning', ' depth', ' non', ' technical', ' guide', ' part', ' 2']\n",
      "['webhose', ' io', ' offers', ' historical', ' data', ' archive']\n",
      "['meetup', ' introduction', ' machine', ' learning', ' algorithms', ' data', ' science']\n",
      "['exploring', ' limits', ' language', ' modeling']\n",
      "['text', ' mining', ' south', ' park']\n",
      "['finding', ' k', ' k', ' means', ' parametric', ' bootstrap']\n",
      "['billion', ' nyc', ' taxi', ' uber', ' rides', ' aws', ' redshift']\n",
      "['getting', ' started', ' statistics', ' data', ' science']\n",
      "['rodeo', ' 1', ' 3', ' tab', ' completion', ' docstrings']\n",
      "['teaching', ' d3', ' js', ' links']\n",
      "['parallel', ' scikit', ' learn', ' yarn']\n",
      "['meetup', ' free', ' live', ' webinar', ' prescriptive', ' analytics', ' fun', ' profit']\n",
      "['access', ' vk', ' com', ' vkontakte', ' api', ' via', ' r']\n",
      "['deep', ' learning', ' tutorial', ' lecun', ' bengio']\n",
      "['machine', ' learning', ' meets', ' economics']\n",
      "['culll', ' data', ' science', ' culled', ' best']\n",
      "['topic', ' modelling', ' parliamentary', ' debate', ' records']\n",
      "['ask', ' dt', ' hiring', ' february', ' 2016']\n",
      "['day', ' life', ' data', ' scientist', ' rutgers', ' online']\n",
      "['gpu', ' computing', ' data', ' science']\n",
      "['big', ' data', ' landscape', ' database', ' 675', ' +', ' big', ' data', ' players']\n",
      "['deep', ' learning', ' udacity', ' course']\n",
      "['kaggle', ' learned', ' 2', ' million', ' machine', ' learning', ' models']\n",
      "['making', ' causal', ' impact', ' analysis', ' easy']\n",
      "['recommendation', ' system', ' blogs', ' content', ' based', ' similarity', ' part', ' 2']\n",
      "['turing', ' art', ' test']\n",
      "['happiness', ' paradox', ' friends', ' happier']\n",
      "['deep', ' learning', ' spark', ' tensorflow']\n",
      "['statistical', ' computing']\n",
      "['alphago', ' using', ' machine', ' learning', ' master', ' ancient', ' game', ' go']\n",
      "['census', ' analyzer', ' preview', ' technology', ' web', ' based', ' tool', ' data', ' analysis']\n",
      "['introduction', ' java', ' web', ' scraping']\n",
      "['market', ' basket', ' analysis', ' using', ' r']\n",
      "['marvin', ' minsky', ' pioneer', ' artificial', ' intelligence', ' dies', ' 88']\n",
      "['open', ' source', ' deep', ' learning', ' server']\n",
      "['spark', ' ts', ' new', ' library', ' analyzing', ' time', ' series', ' data', ' apache', ' spark']\n",
      "['exploration', ' convnet', ' filters', ' keras']\n",
      "['applied', ' spatial', ' data', ' science', ' r']\n",
      "['secrets', ' building', ' data', ' driven', ' organization']\n",
      "['philly', ' tweets']\n",
      "['neglected', ' data', ' science', ' optimization', ' topic', ' set', ' diversity']\n",
      "['machine', ' learning', ' depth', ' non', ' technical', ' guide', ' part', ' 2']\n",
      "['statistical', ' dependency', ' parsing', ' using', ' svm', ' python', ' @', ' rj_here']\n",
      "['5', ' reasons', ' kaggle', ' projects', ' help', ' data', ' science', ' resume']\n",
      "['deep', ' learning', ' glossary']\n",
      "['teaching', ' semester', ' d3', ' js']\n",
      "['finding', ' nearest', ' neighbors', ' sql']\n",
      "['free', ' data', ' science', ' curriculum']\n",
      "['deep', ' learning', ' easy', ' learn', ' something', ' harder']\n",
      "['flyelephant', ' tool', ' calculations', ' c', ' ++', '', ' r', ' python', ' octave']\n",
      "['yahoo', ' releases', ' largest', ' ever', ' machine', ' learning', ' dataset', ' researchers']\n"
     ]
    }
   ],
   "source": [
    "# Let us get the frequency count\n",
    "frequency_words = {}\n",
    "for data in tokens_list:\n",
    "    data = data.replace(\"[\",\"\")\n",
    "    data = data.replace(\"]\",\"\")\n",
    "    data = data.replace(\"'\",\"\")\n",
    "    data_list = data.split(',')\n",
    "    print(data_list)\n",
    "    for token in data_list:\n",
    "        token = token.rstrip()\n",
    "        token = token.lstrip()\n",
    "        if token not in stop:\n",
    "            if token in frequency_words:\n",
    "                count = frequency_words[token]\n",
    "                count = count + 1\n",
    "                frequency_words[token] = count\n",
    "            else:\n",
    "                frequency_words[token] = 1"
   ]
  },
  {
   "cell_type": "code",
   "execution_count": 42,
   "metadata": {
    "collapsed": false
   },
   "outputs": [
    {
     "data": {
      "text/plain": [
       "42"
      ]
     },
     "execution_count": 42,
     "metadata": {},
     "output_type": "execute_result"
    }
   ],
   "source": [
    "frequency_words['data']"
   ]
  },
  {
   "cell_type": "markdown",
   "metadata": {},
   "source": [
    "## Term Frequency and Inverse Document Frequency\n",
    "\n",
    "tf–idf, short for term frequency–inverse document frequency, is a numerical statistic that is intended to reflect how important a word is to a document in a collection or corpus.[1]:8 It is often used as a weighting factor in information retrieval and text mining. The tf-idf value increases proportionally to the number of times a word appears in the document, but is offset by the frequency of the word in the corpus, which helps to adjust for the fact that some words appear more frequently in general.\n",
    "\n",
    "Variations of the tf–idf weighting scheme are often used by search engines as a central tool in scoring and ranking a document's relevance given a user query. tf–idf can be successfully used for stop-words filtering in various subject fields including text summarization and classification.\n",
    "\n",
    "Let us start with the **\"Term Frequency\" - TF**"
   ]
  },
  {
   "cell_type": "code",
   "execution_count": 43,
   "metadata": {
    "collapsed": false
   },
   "outputs": [],
   "source": [
    "df_tfidf = pd.DataFrame(data=list(frequency_words.items()),columns=['word','tf'])"
   ]
  },
  {
   "cell_type": "code",
   "execution_count": 44,
   "metadata": {
    "collapsed": false
   },
   "outputs": [
    {
     "data": {
      "text/html": [
       "<div>\n",
       "<table border=\"1\" class=\"dataframe\">\n",
       "  <thead>\n",
       "    <tr style=\"text-align: right;\">\n",
       "      <th></th>\n",
       "      <th>word</th>\n",
       "      <th>tf</th>\n",
       "    </tr>\n",
       "  </thead>\n",
       "  <tbody>\n",
       "    <tr>\n",
       "      <th>0</th>\n",
       "      <td>neighbors</td>\n",
       "      <td>1</td>\n",
       "    </tr>\n",
       "    <tr>\n",
       "      <th>1</th>\n",
       "      <td></td>\n",
       "      <td>1</td>\n",
       "    </tr>\n",
       "    <tr>\n",
       "      <th>2</th>\n",
       "      <td>code</td>\n",
       "      <td>4</td>\n",
       "    </tr>\n",
       "    <tr>\n",
       "      <th>3</th>\n",
       "      <td>similarity</td>\n",
       "      <td>1</td>\n",
       "    </tr>\n",
       "    <tr>\n",
       "      <th>4</th>\n",
       "      <td>dezyre</td>\n",
       "      <td>1</td>\n",
       "    </tr>\n",
       "  </tbody>\n",
       "</table>\n",
       "</div>"
      ],
      "text/plain": [
       "         word  tf\n",
       "0   neighbors   1\n",
       "1               1\n",
       "2        code   4\n",
       "3  similarity   1\n",
       "4      dezyre   1"
      ]
     },
     "execution_count": 44,
     "metadata": {},
     "output_type": "execute_result"
    }
   ],
   "source": [
    "df_tfidf.head()"
   ]
  },
  {
   "cell_type": "code",
   "execution_count": 45,
   "metadata": {
    "collapsed": false
   },
   "outputs": [],
   "source": [
    "df_tfidf.sort_values(ascending=False, by = \"tf\", inplace=True)"
   ]
  },
  {
   "cell_type": "code",
   "execution_count": 46,
   "metadata": {
    "collapsed": false
   },
   "outputs": [
    {
     "data": {
      "text/html": [
       "<div>\n",
       "<table border=\"1\" class=\"dataframe\">\n",
       "  <thead>\n",
       "    <tr style=\"text-align: right;\">\n",
       "      <th></th>\n",
       "      <th>word</th>\n",
       "      <th>tf</th>\n",
       "    </tr>\n",
       "  </thead>\n",
       "  <tbody>\n",
       "    <tr>\n",
       "      <th>157</th>\n",
       "      <td>data</td>\n",
       "      <td>42</td>\n",
       "    </tr>\n",
       "    <tr>\n",
       "      <th>414</th>\n",
       "      <td>learning</td>\n",
       "      <td>28</td>\n",
       "    </tr>\n",
       "    <tr>\n",
       "      <th>125</th>\n",
       "      <td>science</td>\n",
       "      <td>21</td>\n",
       "    </tr>\n",
       "    <tr>\n",
       "      <th>183</th>\n",
       "      <td>machine</td>\n",
       "      <td>16</td>\n",
       "    </tr>\n",
       "    <tr>\n",
       "      <th>608</th>\n",
       "      <td>deep</td>\n",
       "      <td>11</td>\n",
       "    </tr>\n",
       "  </tbody>\n",
       "</table>\n",
       "</div>"
      ],
      "text/plain": [
       "         word  tf\n",
       "157      data  42\n",
       "414  learning  28\n",
       "125   science  21\n",
       "183   machine  16\n",
       "608      deep  11"
      ]
     },
     "execution_count": 46,
     "metadata": {},
     "output_type": "execute_result"
    }
   ],
   "source": [
    "df_tfidf.head()"
   ]
  },
  {
   "cell_type": "markdown",
   "metadata": {},
   "source": [
    "Let us get in how many documents (each title) does the word occur"
   ]
  },
  {
   "cell_type": "code",
   "execution_count": 58,
   "metadata": {
    "collapsed": false
   },
   "outputs": [],
   "source": [
    "def get_documents_count(row):\n",
    "    document_counter = 0\n",
    "    word = row['word']\n",
    "    for document in df.tokens:\n",
    "        document = document.replace(\"'\",'')\n",
    "        document = document.replace(\"[\",'')\n",
    "        document = document.replace(\"]\",'')\n",
    "        document = document.split(',')\n",
    "        document = map(str.strip,document)\n",
    "        if word in document:\n",
    "            document_counter = document_counter + 1\n",
    "        \n",
    "    return document_counter"
   ]
  },
  {
   "cell_type": "code",
   "execution_count": 59,
   "metadata": {
    "collapsed": false
   },
   "outputs": [],
   "source": [
    "df_tfidf['document_count'] = df_tfidf.apply(get_documents_count,axis=1)"
   ]
  },
  {
   "cell_type": "code",
   "execution_count": 60,
   "metadata": {
    "collapsed": false
   },
   "outputs": [
    {
     "data": {
      "text/html": [
       "<div>\n",
       "<table border=\"1\" class=\"dataframe\">\n",
       "  <thead>\n",
       "    <tr style=\"text-align: right;\">\n",
       "      <th></th>\n",
       "      <th>word</th>\n",
       "      <th>tf</th>\n",
       "      <th>document_count</th>\n",
       "    </tr>\n",
       "  </thead>\n",
       "  <tbody>\n",
       "    <tr>\n",
       "      <th>157</th>\n",
       "      <td>data</td>\n",
       "      <td>42</td>\n",
       "      <td>40</td>\n",
       "    </tr>\n",
       "    <tr>\n",
       "      <th>414</th>\n",
       "      <td>learning</td>\n",
       "      <td>28</td>\n",
       "      <td>28</td>\n",
       "    </tr>\n",
       "    <tr>\n",
       "      <th>125</th>\n",
       "      <td>science</td>\n",
       "      <td>21</td>\n",
       "      <td>21</td>\n",
       "    </tr>\n",
       "    <tr>\n",
       "      <th>183</th>\n",
       "      <td>machine</td>\n",
       "      <td>16</td>\n",
       "      <td>16</td>\n",
       "    </tr>\n",
       "    <tr>\n",
       "      <th>608</th>\n",
       "      <td>deep</td>\n",
       "      <td>11</td>\n",
       "      <td>11</td>\n",
       "    </tr>\n",
       "  </tbody>\n",
       "</table>\n",
       "</div>"
      ],
      "text/plain": [
       "         word  tf  document_count\n",
       "157      data  42              40\n",
       "414  learning  28              28\n",
       "125   science  21              21\n",
       "183   machine  16              16\n",
       "608      deep  11              11"
      ]
     },
     "execution_count": 60,
     "metadata": {},
     "output_type": "execute_result"
    }
   ],
   "source": [
    "df_tfidf.head()"
   ]
  },
  {
   "cell_type": "code",
   "execution_count": 61,
   "metadata": {
    "collapsed": false
   },
   "outputs": [
    {
     "data": {
      "text/html": [
       "<div>\n",
       "<table border=\"1\" class=\"dataframe\">\n",
       "  <thead>\n",
       "    <tr style=\"text-align: right;\">\n",
       "      <th></th>\n",
       "      <th>word</th>\n",
       "      <th>tf</th>\n",
       "      <th>document_count</th>\n",
       "    </tr>\n",
       "  </thead>\n",
       "  <tbody>\n",
       "    <tr>\n",
       "      <th>233</th>\n",
       "      <td>evaluation</td>\n",
       "      <td>1</td>\n",
       "      <td>1</td>\n",
       "    </tr>\n",
       "    <tr>\n",
       "      <th>232</th>\n",
       "      <td>millions</td>\n",
       "      <td>1</td>\n",
       "      <td>1</td>\n",
       "    </tr>\n",
       "    <tr>\n",
       "      <th>231</th>\n",
       "      <td>newly</td>\n",
       "      <td>1</td>\n",
       "      <td>1</td>\n",
       "    </tr>\n",
       "    <tr>\n",
       "      <th>230</th>\n",
       "      <td>turing</td>\n",
       "      <td>1</td>\n",
       "      <td>1</td>\n",
       "    </tr>\n",
       "    <tr>\n",
       "      <th>645</th>\n",
       "      <td>debate</td>\n",
       "      <td>1</td>\n",
       "      <td>1</td>\n",
       "    </tr>\n",
       "  </tbody>\n",
       "</table>\n",
       "</div>"
      ],
      "text/plain": [
       "           word  tf  document_count\n",
       "233  evaluation   1               1\n",
       "232    millions   1               1\n",
       "231       newly   1               1\n",
       "230      turing   1               1\n",
       "645      debate   1               1"
      ]
     },
     "execution_count": 61,
     "metadata": {},
     "output_type": "execute_result"
    }
   ],
   "source": [
    "df_tfidf.tail()"
   ]
  },
  {
   "cell_type": "code",
   "execution_count": 62,
   "metadata": {
    "collapsed": true
   },
   "outputs": [],
   "source": [
    "# we already have the count of all the documents\n",
    "total_docs = df.shape[0]"
   ]
  },
  {
   "cell_type": "code",
   "execution_count": 63,
   "metadata": {
    "collapsed": false
   },
   "outputs": [
    {
     "data": {
      "text/plain": [
       "180"
      ]
     },
     "execution_count": 63,
     "metadata": {},
     "output_type": "execute_result"
    }
   ],
   "source": [
    "total_docs"
   ]
  },
  {
   "cell_type": "markdown",
   "metadata": {},
   "source": [
    "** let us compute the tfidf ** \n",
    "\n",
    "**tfidf = tf . idf**\n",
    "\n",
    "**idf = log(total_docs/number of documents that contain the word)**"
   ]
  },
  {
   "cell_type": "code",
   "execution_count": 64,
   "metadata": {
    "collapsed": true
   },
   "outputs": [],
   "source": [
    "import math\n",
    "from wordcloud import WordCloud\n",
    "import matplotlib.pyplot as plt\n",
    "%matplotlib inline"
   ]
  },
  {
   "cell_type": "code",
   "execution_count": 65,
   "metadata": {
    "collapsed": false
   },
   "outputs": [],
   "source": [
    "def compute_tfidf(row):\n",
    "    idf = math.log10(total_docs/row['document_count'])\n",
    "    return row['tf'] * idf"
   ]
  },
  {
   "cell_type": "code",
   "execution_count": 66,
   "metadata": {
    "collapsed": false
   },
   "outputs": [],
   "source": [
    "df_tfidf['tfidf'] = df_tfidf.apply(compute_tfidf,axis=1)"
   ]
  },
  {
   "cell_type": "code",
   "execution_count": 67,
   "metadata": {
    "collapsed": false
   },
   "outputs": [
    {
     "data": {
      "text/html": [
       "<div>\n",
       "<table border=\"1\" class=\"dataframe\">\n",
       "  <thead>\n",
       "    <tr style=\"text-align: right;\">\n",
       "      <th></th>\n",
       "      <th>word</th>\n",
       "      <th>tf</th>\n",
       "      <th>document_count</th>\n",
       "      <th>tfidf</th>\n",
       "    </tr>\n",
       "  </thead>\n",
       "  <tbody>\n",
       "    <tr>\n",
       "      <th>157</th>\n",
       "      <td>data</td>\n",
       "      <td>42</td>\n",
       "      <td>40</td>\n",
       "      <td>25.286520</td>\n",
       "    </tr>\n",
       "    <tr>\n",
       "      <th>414</th>\n",
       "      <td>learning</td>\n",
       "      <td>28</td>\n",
       "      <td>28</td>\n",
       "      <td>21.788235</td>\n",
       "    </tr>\n",
       "    <tr>\n",
       "      <th>125</th>\n",
       "      <td>science</td>\n",
       "      <td>21</td>\n",
       "      <td>21</td>\n",
       "      <td>18.964890</td>\n",
       "    </tr>\n",
       "    <tr>\n",
       "      <th>183</th>\n",
       "      <td>machine</td>\n",
       "      <td>16</td>\n",
       "      <td>16</td>\n",
       "      <td>16.662283</td>\n",
       "    </tr>\n",
       "    <tr>\n",
       "      <th>608</th>\n",
       "      <td>deep</td>\n",
       "      <td>11</td>\n",
       "      <td>11</td>\n",
       "      <td>13.245320</td>\n",
       "    </tr>\n",
       "  </tbody>\n",
       "</table>\n",
       "</div>"
      ],
      "text/plain": [
       "         word  tf  document_count      tfidf\n",
       "157      data  42              40  25.286520\n",
       "414  learning  28              28  21.788235\n",
       "125   science  21              21  18.964890\n",
       "183   machine  16              16  16.662283\n",
       "608      deep  11              11  13.245320"
      ]
     },
     "execution_count": 67,
     "metadata": {},
     "output_type": "execute_result"
    }
   ],
   "source": [
    "df_tfidf.head()"
   ]
  },
  {
   "cell_type": "code",
   "execution_count": 68,
   "metadata": {
    "collapsed": false
   },
   "outputs": [
    {
     "data": {
      "text/html": [
       "<div>\n",
       "<table border=\"1\" class=\"dataframe\">\n",
       "  <thead>\n",
       "    <tr style=\"text-align: right;\">\n",
       "      <th></th>\n",
       "      <th>word</th>\n",
       "      <th>tf</th>\n",
       "      <th>document_count</th>\n",
       "      <th>tfidf</th>\n",
       "    </tr>\n",
       "  </thead>\n",
       "  <tbody>\n",
       "    <tr>\n",
       "      <th>233</th>\n",
       "      <td>evaluation</td>\n",
       "      <td>1</td>\n",
       "      <td>1</td>\n",
       "      <td>2.255273</td>\n",
       "    </tr>\n",
       "    <tr>\n",
       "      <th>232</th>\n",
       "      <td>millions</td>\n",
       "      <td>1</td>\n",
       "      <td>1</td>\n",
       "      <td>2.255273</td>\n",
       "    </tr>\n",
       "    <tr>\n",
       "      <th>231</th>\n",
       "      <td>newly</td>\n",
       "      <td>1</td>\n",
       "      <td>1</td>\n",
       "      <td>2.255273</td>\n",
       "    </tr>\n",
       "    <tr>\n",
       "      <th>230</th>\n",
       "      <td>turing</td>\n",
       "      <td>1</td>\n",
       "      <td>1</td>\n",
       "      <td>2.255273</td>\n",
       "    </tr>\n",
       "    <tr>\n",
       "      <th>645</th>\n",
       "      <td>debate</td>\n",
       "      <td>1</td>\n",
       "      <td>1</td>\n",
       "      <td>2.255273</td>\n",
       "    </tr>\n",
       "  </tbody>\n",
       "</table>\n",
       "</div>"
      ],
      "text/plain": [
       "           word  tf  document_count     tfidf\n",
       "233  evaluation   1               1  2.255273\n",
       "232    millions   1               1  2.255273\n",
       "231       newly   1               1  2.255273\n",
       "230      turing   1               1  2.255273\n",
       "645      debate   1               1  2.255273"
      ]
     },
     "execution_count": 68,
     "metadata": {},
     "output_type": "execute_result"
    }
   ],
   "source": [
    "df_tfidf.tail()"
   ]
  },
  {
   "cell_type": "code",
   "execution_count": 69,
   "metadata": {
    "collapsed": false
   },
   "outputs": [
    {
     "name": "stderr",
     "output_type": "stream",
     "text": [
      "/usr/local/lib/python2.7/dist-packages/ipykernel/__main__.py:1: FutureWarning: sort(columns=....) is deprecated, use sort_values(by=.....)\n",
      "  if __name__ == '__main__':\n"
     ]
    }
   ],
   "source": [
    "df_tfidf.sort(columns='tfidf',ascending=True,inplace=True)"
   ]
  },
  {
   "cell_type": "code",
   "execution_count": 70,
   "metadata": {
    "collapsed": false
   },
   "outputs": [
    {
     "data": {
      "text/html": [
       "<div>\n",
       "<table border=\"1\" class=\"dataframe\">\n",
       "  <thead>\n",
       "    <tr style=\"text-align: right;\">\n",
       "      <th></th>\n",
       "      <th>word</th>\n",
       "      <th>tf</th>\n",
       "      <th>document_count</th>\n",
       "      <th>tfidf</th>\n",
       "    </tr>\n",
       "  </thead>\n",
       "  <tbody>\n",
       "    <tr>\n",
       "      <th>493</th>\n",
       "      <td>shape</td>\n",
       "      <td>1</td>\n",
       "      <td>1</td>\n",
       "      <td>2.255273</td>\n",
       "    </tr>\n",
       "    <tr>\n",
       "      <th>150</th>\n",
       "      <td>??</td>\n",
       "      <td>1</td>\n",
       "      <td>1</td>\n",
       "      <td>2.255273</td>\n",
       "    </tr>\n",
       "    <tr>\n",
       "      <th>149</th>\n",
       "      <td>ensemble</td>\n",
       "      <td>1</td>\n",
       "      <td>1</td>\n",
       "      <td>2.255273</td>\n",
       "    </tr>\n",
       "    <tr>\n",
       "      <th>148</th>\n",
       "      <td>instead</td>\n",
       "      <td>1</td>\n",
       "      <td>1</td>\n",
       "      <td>2.255273</td>\n",
       "    </tr>\n",
       "    <tr>\n",
       "      <th>147</th>\n",
       "      <td>significance</td>\n",
       "      <td>1</td>\n",
       "      <td>1</td>\n",
       "      <td>2.255273</td>\n",
       "    </tr>\n",
       "  </tbody>\n",
       "</table>\n",
       "</div>"
      ],
      "text/plain": [
       "             word  tf  document_count     tfidf\n",
       "493         shape   1               1  2.255273\n",
       "150            ??   1               1  2.255273\n",
       "149      ensemble   1               1  2.255273\n",
       "148       instead   1               1  2.255273\n",
       "147  significance   1               1  2.255273"
      ]
     },
     "execution_count": 70,
     "metadata": {},
     "output_type": "execute_result"
    }
   ],
   "source": [
    "df_tfidf.head()"
   ]
  },
  {
   "cell_type": "code",
   "execution_count": 71,
   "metadata": {
    "collapsed": false
   },
   "outputs": [],
   "source": [
    "df_tfidf.replace(to_replace=0.0,value=0.1,inplace=True)"
   ]
  },
  {
   "cell_type": "code",
   "execution_count": 78,
   "metadata": {
    "collapsed": false
   },
   "outputs": [
    {
     "data": {
      "text/html": [
       "<div>\n",
       "<table border=\"1\" class=\"dataframe\">\n",
       "  <thead>\n",
       "    <tr style=\"text-align: right;\">\n",
       "      <th></th>\n",
       "      <th>tf</th>\n",
       "      <th>document_count</th>\n",
       "      <th>tfidf</th>\n",
       "    </tr>\n",
       "    <tr>\n",
       "      <th>word</th>\n",
       "      <th></th>\n",
       "      <th></th>\n",
       "      <th></th>\n",
       "    </tr>\n",
       "  </thead>\n",
       "  <tbody>\n",
       "    <tr>\n",
       "      <th>analysis</th>\n",
       "      <td>11</td>\n",
       "      <td>11</td>\n",
       "      <td>13.245320</td>\n",
       "    </tr>\n",
       "    <tr>\n",
       "      <th>machine</th>\n",
       "      <td>16</td>\n",
       "      <td>16</td>\n",
       "      <td>16.662283</td>\n",
       "    </tr>\n",
       "    <tr>\n",
       "      <th>science</th>\n",
       "      <td>21</td>\n",
       "      <td>21</td>\n",
       "      <td>18.964890</td>\n",
       "    </tr>\n",
       "    <tr>\n",
       "      <th>learning</th>\n",
       "      <td>28</td>\n",
       "      <td>28</td>\n",
       "      <td>21.788235</td>\n",
       "    </tr>\n",
       "    <tr>\n",
       "      <th>data</th>\n",
       "      <td>42</td>\n",
       "      <td>40</td>\n",
       "      <td>25.286520</td>\n",
       "    </tr>\n",
       "  </tbody>\n",
       "</table>\n",
       "</div>"
      ],
      "text/plain": [
       "          tf  document_count      tfidf\n",
       "word                                   \n",
       "analysis  11              11  13.245320\n",
       "machine   16              16  16.662283\n",
       "science   21              21  18.964890\n",
       "learning  28              28  21.788235\n",
       "data      42              40  25.286520"
      ]
     },
     "execution_count": 78,
     "metadata": {},
     "output_type": "execute_result"
    }
   ],
   "source": [
    "df_tfidf.tail()"
   ]
  },
  {
   "cell_type": "code",
   "execution_count": 73,
   "metadata": {
    "collapsed": true
   },
   "outputs": [],
   "source": [
    "df_tfidf.set_index('word', inplace=True)"
   ]
  },
  {
   "cell_type": "code",
   "execution_count": 74,
   "metadata": {
    "collapsed": false
   },
   "outputs": [
    {
     "data": {
      "text/html": [
       "<div>\n",
       "<table border=\"1\" class=\"dataframe\">\n",
       "  <thead>\n",
       "    <tr style=\"text-align: right;\">\n",
       "      <th></th>\n",
       "      <th>tf</th>\n",
       "      <th>document_count</th>\n",
       "      <th>tfidf</th>\n",
       "    </tr>\n",
       "    <tr>\n",
       "      <th>word</th>\n",
       "      <th></th>\n",
       "      <th></th>\n",
       "      <th></th>\n",
       "    </tr>\n",
       "  </thead>\n",
       "  <tbody>\n",
       "    <tr>\n",
       "      <th>shape</th>\n",
       "      <td>1</td>\n",
       "      <td>1</td>\n",
       "      <td>2.255273</td>\n",
       "    </tr>\n",
       "    <tr>\n",
       "      <th>??</th>\n",
       "      <td>1</td>\n",
       "      <td>1</td>\n",
       "      <td>2.255273</td>\n",
       "    </tr>\n",
       "    <tr>\n",
       "      <th>ensemble</th>\n",
       "      <td>1</td>\n",
       "      <td>1</td>\n",
       "      <td>2.255273</td>\n",
       "    </tr>\n",
       "    <tr>\n",
       "      <th>instead</th>\n",
       "      <td>1</td>\n",
       "      <td>1</td>\n",
       "      <td>2.255273</td>\n",
       "    </tr>\n",
       "    <tr>\n",
       "      <th>significance</th>\n",
       "      <td>1</td>\n",
       "      <td>1</td>\n",
       "      <td>2.255273</td>\n",
       "    </tr>\n",
       "  </tbody>\n",
       "</table>\n",
       "</div>"
      ],
      "text/plain": [
       "              tf  document_count     tfidf\n",
       "word                                      \n",
       "shape          1               1  2.255273\n",
       "??             1               1  2.255273\n",
       "ensemble       1               1  2.255273\n",
       "instead        1               1  2.255273\n",
       "significance   1               1  2.255273"
      ]
     },
     "execution_count": 74,
     "metadata": {},
     "output_type": "execute_result"
    }
   ],
   "source": [
    "df_tfidf.head()"
   ]
  },
  {
   "cell_type": "markdown",
   "metadata": {},
   "source": [
    "** now let us plot a word cloud to see the prominence of the word **"
   ]
  },
  {
   "cell_type": "code",
   "execution_count": 75,
   "metadata": {
    "collapsed": false
   },
   "outputs": [],
   "source": [
    "wordcloud = WordCloud()"
   ]
  },
  {
   "cell_type": "code",
   "execution_count": 76,
   "metadata": {
    "collapsed": false
   },
   "outputs": [],
   "source": [
    "word_tfidf = df_tfidf['tfidf'].to_dict()"
   ]
  },
  {
   "cell_type": "code",
   "execution_count": 77,
   "metadata": {
    "collapsed": false
   },
   "outputs": [
    {
     "data": {
      "image/png": "[encoded data removed]",
      "text/plain": [
       "<matplotlib.figure.Figure at 0x7f051e4f9610>"
      ]
     },
     "metadata": {},
     "output_type": "display_data"
    }
   ],
   "source": [
    "wordcloud.generate_from_frequencies(word_tfidf.items())\n",
    "plt.figure(figsize=(14,10))\n",
    "plt.imshow(wordcloud)\n",
    "plt.axis(\"off\")\n",
    "plt.show()"
   ]
  },
  {
   "cell_type": "markdown",
   "metadata": {
    "collapsed": true
   },
   "source": [
    "# Topic modelling\n"
   ]
  },
  {
   "cell_type": "code",
   "execution_count": null,
   "metadata": {
    "collapsed": false
   },
   "outputs": [],
   "source": [
    "import lda\n",
    "import numpy as np\n",
    "import lda.datasets\n",
    "import sklearn.feature_extraction.text as text"
   ]
  },
  {
   "cell_type": "markdown",
   "metadata": {},
   "source": [
    "** we are using the pre built reuters data set **"
   ]
  },
  {
   "cell_type": "markdown",
   "metadata": {},
   "source": [
    "Generating the document term matrix"
   ]
  },
  {
   "cell_type": "code",
   "execution_count": null,
   "metadata": {
    "collapsed": true
   },
   "outputs": [],
   "source": [
    "vectorizer = text.CountVectorizer(input='content', stop_words='english', min_df=1)"
   ]
  },
  {
   "cell_type": "code",
   "execution_count": null,
   "metadata": {
    "collapsed": false
   },
   "outputs": [],
   "source": [
    "dtm = vectorizer.fit_transform(df.title).toarray()"
   ]
  },
  {
   "cell_type": "code",
   "execution_count": null,
   "metadata": {
    "collapsed": false
   },
   "outputs": [],
   "source": [
    "dtm"
   ]
  },
  {
   "cell_type": "markdown",
   "metadata": {},
   "source": [
    "Loading the vocabulary"
   ]
  },
  {
   "cell_type": "code",
   "execution_count": null,
   "metadata": {
    "collapsed": true
   },
   "outputs": [],
   "source": [
    "vocab = np.array(vectorizer.get_feature_names())"
   ]
  },
  {
   "cell_type": "code",
   "execution_count": null,
   "metadata": {
    "collapsed": false
   },
   "outputs": [],
   "source": [
    "vocab"
   ]
  },
  {
   "cell_type": "code",
   "execution_count": null,
   "metadata": {
    "collapsed": true
   },
   "outputs": [],
   "source": [
    "titles = df.title\n"
   ]
  },
  {
   "cell_type": "code",
   "execution_count": null,
   "metadata": {
    "collapsed": true
   },
   "outputs": [],
   "source": [
    "model = lda.LDA(n_topics=5, n_iter=500, random_state=1)"
   ]
  },
  {
   "cell_type": "code",
   "execution_count": null,
   "metadata": {
    "collapsed": false
   },
   "outputs": [],
   "source": [
    "model.fit(dtm)"
   ]
  },
  {
   "cell_type": "code",
   "execution_count": null,
   "metadata": {
    "collapsed": true
   },
   "outputs": [],
   "source": [
    "model.topic_word_"
   ]
  },
  {
   "cell_type": "code",
   "execution_count": null,
   "metadata": {
    "collapsed": true
   },
   "outputs": [],
   "source": [
    "topic_word = model.topic_word_ "
   ]
  },
  {
   "cell_type": "code",
   "execution_count": null,
   "metadata": {
    "collapsed": false
   },
   "outputs": [],
   "source": [
    "topic_word"
   ]
  },
  {
   "cell_type": "code",
   "execution_count": null,
   "metadata": {
    "collapsed": true
   },
   "outputs": [],
   "source": [
    "n_top_words = 8"
   ]
  },
  {
   "cell_type": "code",
   "execution_count": null,
   "metadata": {
    "collapsed": false
   },
   "outputs": [],
   "source": [
    "for i, topic_dist in enumerate(topic_word):\n",
    "    topic_words = np.array(vocab)[np.argsort(topic_dist)][:-n_top_words:-1]\n",
    "    print('Topic {}: {}'.format(i, ' '.join(topic_words)))"
   ]
  },
  {
   "cell_type": "code",
   "execution_count": null,
   "metadata": {
    "collapsed": false
   },
   "outputs": [],
   "source": [
    "doc_topic = model.doc_topic_"
   ]
  },
  {
   "cell_type": "code",
   "execution_count": null,
   "metadata": {
    "collapsed": false
   },
   "outputs": [],
   "source": [
    "for n in range(10):\n",
    "    topic_most_pr = doc_topic[n].argmax()\n",
    "    print(\"topic: {} , {}\".format(topic_most_pr,titles[n]))"
   ]
  },
  {
   "cell_type": "markdown",
   "metadata": {},
   "source": [
    "# Sentiment Analysis\n"
   ]
  },
  {
   "cell_type": "code",
   "execution_count": null,
   "metadata": {
    "collapsed": true
   },
   "outputs": [],
   "source": [
    "from nltk.classify import NaiveBayesClassifier\n",
    "import math\n",
    "import collections"
   ]
  },
  {
   "cell_type": "code",
   "execution_count": null,
   "metadata": {
    "collapsed": true
   },
   "outputs": [],
   "source": [
    "pos_features = []\n",
    "neg_features = []"
   ]
  },
  {
   "cell_type": "code",
   "execution_count": null,
   "metadata": {
    "collapsed": true
   },
   "outputs": [],
   "source": [
    "def make_full_dict(word):\n",
    "    return dict([(word, True)])"
   ]
  },
  {
   "cell_type": "code",
   "execution_count": null,
   "metadata": {
    "collapsed": false
   },
   "outputs": [],
   "source": [
    "with open('postive_words.txt','r') as posFile:\n",
    "    lines = posFile.readlines()\n",
    "    for line in lines:\n",
    "        pos_features.append([make_full_dict(line.rstrip()),'pos'])\n",
    "        "
   ]
  },
  {
   "cell_type": "code",
   "execution_count": null,
   "metadata": {
    "collapsed": false
   },
   "outputs": [],
   "source": [
    "pos_features"
   ]
  },
  {
   "cell_type": "code",
   "execution_count": null,
   "metadata": {
    "collapsed": false
   },
   "outputs": [],
   "source": [
    "with open('negative_words.txt','r',encoding='utf-8') as negFile:\n",
    "    lines = negFile.readlines()\n",
    "    for line in lines:\n",
    "        neg_features.append([make_full_dict(line.rstrip()),'neg'])"
   ]
  },
  {
   "cell_type": "code",
   "execution_count": null,
   "metadata": {
    "collapsed": false
   },
   "outputs": [],
   "source": [
    "neg_features"
   ]
  },
  {
   "cell_type": "code",
   "execution_count": null,
   "metadata": {
    "collapsed": false
   },
   "outputs": [],
   "source": [
    "len(pos_features),len(neg_features)"
   ]
  },
  {
   "cell_type": "code",
   "execution_count": null,
   "metadata": {
    "collapsed": false
   },
   "outputs": [],
   "source": [
    "trainFeatures = pos_features + neg_features"
   ]
  },
  {
   "cell_type": "code",
   "execution_count": null,
   "metadata": {
    "collapsed": false
   },
   "outputs": [],
   "source": [
    "trainFeatures"
   ]
  },
  {
   "cell_type": "code",
   "execution_count": null,
   "metadata": {
    "collapsed": false
   },
   "outputs": [],
   "source": [
    "classifier = NaiveBayesClassifier.train(trainFeatures)"
   ]
  },
  {
   "cell_type": "code",
   "execution_count": null,
   "metadata": {
    "collapsed": false
   },
   "outputs": [],
   "source": [
    "referenceSets = collections.defaultdict(set)\n",
    "testSets = collections.defaultdict(set)"
   ]
  },
  {
   "cell_type": "code",
   "execution_count": null,
   "metadata": {
    "collapsed": true
   },
   "outputs": [],
   "source": [
    "def make_full_dict_sent(words):\n",
    "    return dict([(word, True) for word in words])"
   ]
  },
  {
   "cell_type": "code",
   "execution_count": null,
   "metadata": {
    "collapsed": true
   },
   "outputs": [],
   "source": [
    "import re"
   ]
  },
  {
   "cell_type": "code",
   "execution_count": null,
   "metadata": {
    "collapsed": true
   },
   "outputs": [],
   "source": [
    "neg_test = 'I hate data science'"
   ]
  },
  {
   "cell_type": "code",
   "execution_count": null,
   "metadata": {
    "collapsed": false
   },
   "outputs": [],
   "source": [
    "title_words = re.findall(r\"[\\w']+|[.,!?;]\", 'I have a love and hate relationship with data science')"
   ]
  },
  {
   "cell_type": "code",
   "execution_count": null,
   "metadata": {
    "collapsed": false
   },
   "outputs": [],
   "source": [
    "title_words"
   ]
  },
  {
   "cell_type": "code",
   "execution_count": null,
   "metadata": {
    "collapsed": true
   },
   "outputs": [],
   "source": [
    "test=[]"
   ]
  },
  {
   "cell_type": "code",
   "execution_count": null,
   "metadata": {
    "collapsed": true
   },
   "outputs": [],
   "source": [
    "test.append([make_full_dict_sent(title_words),''])"
   ]
  },
  {
   "cell_type": "code",
   "execution_count": null,
   "metadata": {
    "collapsed": false
   },
   "outputs": [],
   "source": [
    "test"
   ]
  },
  {
   "cell_type": "code",
   "execution_count": null,
   "metadata": {
    "collapsed": false
   },
   "outputs": [],
   "source": [
    "for i, (features, label) in enumerate(test):\n",
    "    predicted = classifier.classify(features)\n",
    "    print(predicted)"
   ]
  },
  {
   "cell_type": "code",
   "execution_count": null,
   "metadata": {
    "collapsed": false
   },
   "outputs": [],
   "source": [
    "for doc in df.title:\n",
    "    title_words = re.findall(r\"[\\w']+|[.,!?;]\", doc)\n",
    "    test = []\n",
    "    test.append([make_full_dict_sent(title_words),''])\n",
    "    for i, (features, label) in enumerate(test):\n",
    "        predicted = classifier.classify(features)\n",
    "        print(predicted,doc)\n",
    "    "
   ]
  },
  {
   "cell_type": "code",
   "execution_count": null,
   "metadata": {
    "collapsed": true
   },
   "outputs": [],
   "source": []
  },
  {
   "cell_type": "code",
   "execution_count": null,
   "metadata": {
    "collapsed": true
   },
   "outputs": [],
   "source": []
  }
 ],
 "metadata": {
  "kernelspec": {
   "display_name": "Python 2",
   "language": "python",
   "name": "python2"
  },
  "language_info": {
   "codemirror_mode": {
    "name": "ipython",
    "version": 2
   },
   "file_extension": ".py",
   "mimetype": "text/x-python",
   "name": "python",
   "nbconvert_exporter": "python",
   "pygments_lexer": "ipython2",
   "version": "2.7.6"
  }
 },
 "nbformat": 4,
 "nbformat_minor": 0
}
