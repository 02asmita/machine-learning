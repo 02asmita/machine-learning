{
 "cells": [
  {
   "cell_type": "markdown",
   "metadata": {},
   "source": [
    "# Installation"
   ]
  },
  {
   "cell_type": "markdown",
   "metadata": {},
   "source": [
    "** python -m spacy.en.download --force **\n",
    "\n",
    "The above command ensures we download all the data that is required for spacy "
   ]
  },
  {
   "cell_type": "code",
   "execution_count": 1,
   "metadata": {
    "collapsed": false
   },
   "outputs": [],
   "source": [
    "from spacy.en import English\n",
    "from spacy import attrs"
   ]
  },
  {
   "cell_type": "code",
   "execution_count": 3,
   "metadata": {
    "collapsed": false
   },
   "outputs": [],
   "source": [
    "parser = English()"
   ]
  },
  {
   "cell_type": "code",
   "execution_count": 9,
   "metadata": {
    "collapsed": true
   },
   "outputs": [],
   "source": [
    "text = unicode(\"A quick brown fox jumped over the lazy dog.Who let the dogs out, who who who?\",encoding=\"utf-8\")"
   ]
  },
  {
   "cell_type": "code",
   "execution_count": 10,
   "metadata": {
    "collapsed": false
   },
   "outputs": [],
   "source": [
    "parsedData = parser(text)"
   ]
  },
  {
   "cell_type": "code",
   "execution_count": 11,
   "metadata": {
    "collapsed": false
   },
   "outputs": [
    {
     "name": "stdout",
     "output_type": "stream",
     "text": [
      "A quick brown fox jumped over the lazy dog.\n",
      "Who let the dogs out, who who who?\n"
     ]
    }
   ],
   "source": [
    "for sent in parsedData.sents:\n",
    "    print(sent)"
   ]
  },
  {
   "cell_type": "code",
   "execution_count": 12,
   "metadata": {
    "collapsed": false
   },
   "outputs": [
    {
     "name": "stdout",
     "output_type": "stream",
     "text": [
      "[A , quick , brown , fox , jumped , over , the , lazy , dog, ., Who , let , the , dogs , out, , , who , who , who, ?]\n"
     ]
    }
   ],
   "source": [
    "# reading a paragraph as multi sentence and pushing all the words into a list\n",
    "\n",
    "tokens= []\n",
    "\n",
    "for span in parsedData.sents:\n",
    "    # trying to extract a word sentence wise\n",
    "    for i in range(span.start,span.end):\n",
    "        tokens.append(parsedData[i])\n",
    "\n",
    "    \n",
    "print(tokens)    "
   ]
  },
  {
   "cell_type": "code",
   "execution_count": 13,
   "metadata": {
    "collapsed": false
   },
   "outputs": [
    {
     "name": "stdout",
     "output_type": "stream",
     "text": [
      "(u'A', u'DET')\n",
      "(u'quick', u'ADJ')\n",
      "(u'brown', u'ADJ')\n",
      "(u'fox', u'NOUN')\n",
      "(u'jumped', u'VERB')\n",
      "(u'over', u'ADP')\n",
      "(u'the', u'DET')\n",
      "(u'lazy', u'ADJ')\n",
      "(u'dog', u'NOUN')\n",
      "(u'.', u'PUNCT')\n",
      "(u'Who', u'NOUN')\n",
      "(u'let', u'VERB')\n",
      "(u'the', u'DET')\n",
      "(u'dogs', u'NOUN')\n",
      "(u'out', u'ADV')\n",
      "(u',', u'PUNCT')\n",
      "(u'who', u'NOUN')\n",
      "(u'who', u'NOUN')\n",
      "(u'who', u'NOUN')\n",
      "(u'?', u'PUNCT')\n"
     ]
    }
   ],
   "source": [
    "# here we are identfying the pos tags\n",
    "for token in tokens:\n",
    "    print(token.orth_,token.pos_)"
   ]
  },
  {
   "cell_type": "markdown",
   "metadata": {},
   "source": [
    "**pip install requests**\n",
    "\n",
    "**pip install beautifulsoup4**"
   ]
  },
  {
   "cell_type": "code",
   "execution_count": 15,
   "metadata": {
    "collapsed": false
   },
   "outputs": [],
   "source": [
    "import requests\n",
    "from bs4 import BeautifulSoup \n",
    "import re\n",
    "import pandas as pd"
   ]
  },
  {
   "cell_type": "code",
   "execution_count": 16,
   "metadata": {
    "collapsed": true
   },
   "outputs": [],
   "source": [
    "base_url = 'http://www.datatau.com'"
   ]
  },
  {
   "cell_type": "code",
   "execution_count": 17,
   "metadata": {
    "collapsed": false
   },
   "outputs": [],
   "source": [
    "df = pd.DataFrame(columns=['title','date'])"
   ]
  },
  {
   "cell_type": "code",
   "execution_count": 18,
   "metadata": {
    "collapsed": false
   },
   "outputs": [
    {
     "data": {
      "text/plain": [
       "title    0\n",
       "date     0\n",
       "dtype: int64"
      ]
     },
     "execution_count": 18,
     "metadata": {},
     "output_type": "execute_result"
    }
   ],
   "source": [
    "df.count()"
   ]
  },
  {
   "cell_type": "code",
   "execution_count": 19,
   "metadata": {
    "collapsed": false
   },
   "outputs": [],
   "source": [
    "def get_data_from_tau(url):\n",
    "    print(url)\n",
    "    dataTau = requests.get(url)\n",
    "    soup = BeautifulSoup(dataTau.content,'html.parser')\n",
    "    title_class = soup.select('td .title > a:nth-of-type(1)')\n",
    "    date_class = soup.select('.subtext')\n",
    "    print(len(title_class),len(date_class))\n",
    "    for i in range(len(title_class)-1):\n",
    "        df.loc[df.shape[0]] = [title_class[i].get_text(),date_class[i].get_text()]\n",
    "    print('updated df with data')\n",
    "    return title_class[len(title_class) - 1]"
   ]
  },
  {
   "cell_type": "code",
   "execution_count": 20,
   "metadata": {
    "collapsed": false
   },
   "outputs": [
    {
     "name": "stdout",
     "output_type": "stream",
     "text": [
      "http://www.datatau.com\n",
      "(31, 30)\n",
      "updated df with data\n",
      "http://www.datatau.com/x?fnid=ElmYSnEOtI\n",
      "(31, 30)\n",
      "updated df with data\n",
      "http://www.datatau.com/x?fnid=x6g7OqJVMY\n",
      "(31, 30)\n",
      "updated df with data\n",
      "http://www.datatau.com/x?fnid=wqEqyPdndC\n",
      "(31, 30)\n",
      "updated df with data\n",
      "http://www.datatau.com/x?fnid=YaP0ynBtMB\n",
      "(31, 30)\n",
      "updated df with data\n",
      "http://www.datatau.com/x?fnid=umDGUuciLS\n",
      "(31, 30)\n",
      "updated df with data\n"
     ]
    }
   ],
   "source": [
    "url = base_url\n",
    "for i in range(0,6):\n",
    "    more_url = get_data_from_tau(url)\n",
    "    url = base_url+more_url['href']"
   ]
  },
  {
   "cell_type": "code",
   "execution_count": 21,
   "metadata": {
    "collapsed": false
   },
   "outputs": [
    {
     "data": {
      "text/plain": [
       "(180, 2)"
      ]
     },
     "execution_count": 21,
     "metadata": {},
     "output_type": "execute_result"
    }
   ],
   "source": [
    "df.shape"
   ]
  },
  {
   "cell_type": "code",
   "execution_count": 22,
   "metadata": {
    "collapsed": false
   },
   "outputs": [
    {
     "data": {
      "text/html": [
       "<div>\n",
       "<table border=\"1\" class=\"dataframe\">\n",
       "  <thead>\n",
       "    <tr style=\"text-align: right;\">\n",
       "      <th></th>\n",
       "      <th>title</th>\n",
       "      <th>date</th>\n",
       "    </tr>\n",
       "  </thead>\n",
       "  <tbody>\n",
       "    <tr>\n",
       "      <th>0</th>\n",
       "      <td>10 Years of Open Source Machine Learning</td>\n",
       "      <td>7 points by tstonez 19 hours ago  | 1 comment</td>\n",
       "    </tr>\n",
       "    <tr>\n",
       "      <th>1</th>\n",
       "      <td>What machines can learn from Apple Watch: dete...</td>\n",
       "      <td>2 points by koukouhappy 7 hours ago  | discuss</td>\n",
       "    </tr>\n",
       "    <tr>\n",
       "      <th>2</th>\n",
       "      <td>The Deep Roots of Javascript Fatigue</td>\n",
       "      <td>3 points by nikkielizdemere 13 hours ago  | di...</td>\n",
       "    </tr>\n",
       "    <tr>\n",
       "      <th>3</th>\n",
       "      <td>Data science intro for math/phys background</td>\n",
       "      <td>9 points by pmigdal 1 day ago  | discuss</td>\n",
       "    </tr>\n",
       "    <tr>\n",
       "      <th>4</th>\n",
       "      <td>Data Science Pop-Up in Austin, TX</td>\n",
       "      <td>2 points by AnnaOnTheWeb 13 hours ago  | discuss</td>\n",
       "    </tr>\n",
       "  </tbody>\n",
       "</table>\n",
       "</div>"
      ],
      "text/plain": [
       "                                               title  \\\n",
       "0           10 Years of Open Source Machine Learning   \n",
       "1  What machines can learn from Apple Watch: dete...   \n",
       "2               The Deep Roots of Javascript Fatigue   \n",
       "3        Data science intro for math/phys background   \n",
       "4                  Data Science Pop-Up in Austin, TX   \n",
       "\n",
       "                                                date  \n",
       "0      7 points by tstonez 19 hours ago  | 1 comment  \n",
       "1     2 points by koukouhappy 7 hours ago  | discuss  \n",
       "2  3 points by nikkielizdemere 13 hours ago  | di...  \n",
       "3           9 points by pmigdal 1 day ago  | discuss  \n",
       "4   2 points by AnnaOnTheWeb 13 hours ago  | discuss  "
      ]
     },
     "execution_count": 22,
     "metadata": {},
     "output_type": "execute_result"
    }
   ],
   "source": [
    "df.head()"
   ]
  },
  {
   "cell_type": "code",
   "execution_count": 24,
   "metadata": {
    "collapsed": false
   },
   "outputs": [],
   "source": [
    "df.to_csv('data_tau.csv',encoding='utf-8')"
   ]
  },
  {
   "cell_type": "code",
   "execution_count": null,
   "metadata": {
    "collapsed": true
   },
   "outputs": [],
   "source": []
  }
 ],
 "metadata": {
  "kernelspec": {
   "display_name": "Python 2",
   "language": "python",
   "name": "python2"
  },
  "language_info": {
   "codemirror_mode": {
    "name": "ipython",
    "version": 2
   },
   "file_extension": ".py",
   "mimetype": "text/x-python",
   "name": "python",
   "nbconvert_exporter": "python",
   "pygments_lexer": "ipython2",
   "version": "2.7.6"
  }
 },
 "nbformat": 4,
 "nbformat_minor": 0
}
