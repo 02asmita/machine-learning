{
 "cells": [
  {
   "cell_type": "markdown",
   "metadata": {},
   "source": [
    "# Installation"
   ]
  },
  {
   "cell_type": "markdown",
   "metadata": {},
   "source": [
    "** python -m spacy.en.download --force **\n",
    "\n",
    "The above command ensures we download all the data that is required for spacy "
   ]
  },
  {
   "cell_type": "code",
   "execution_count": null,
   "metadata": {
    "collapsed": false
   },
   "outputs": [],
   "source": [
    "from spacy.en import English\n",
    "from spacy import attrs"
   ]
  },
  {
   "cell_type": "code",
   "execution_count": null,
   "metadata": {
    "collapsed": false
   },
   "outputs": [],
   "source": [
    "parser = English()"
   ]
  },
  {
   "cell_type": "code",
   "execution_count": null,
   "metadata": {
    "collapsed": false
   },
   "outputs": [],
   "source": [
    "parsedData = parser('A quick brown fox jumped over the lazy dog. Who let the dogs out, who who who?')"
   ]
  },
  {
   "cell_type": "code",
   "execution_count": null,
   "metadata": {
    "collapsed": false
   },
   "outputs": [],
   "source": [
    "for sent in parsedData.sents:\n",
    "    print(sent)"
   ]
  },
  {
   "cell_type": "code",
   "execution_count": null,
   "metadata": {
    "collapsed": false
   },
   "outputs": [],
   "source": [
    "# reading a paragraph as multi sentence and pushing all the words into a list\n",
    "\n",
    "tokens= []\n",
    "\n",
    "for span in parsedData.sents:\n",
    "    # trying to extract a word sentence wise\n",
    "    for i in range(span.start,span.end):\n",
    "        tokens.append(parsedData[i])\n",
    "\n",
    "    \n",
    "print(tokens)    "
   ]
  },
  {
   "cell_type": "code",
   "execution_count": null,
   "metadata": {
    "collapsed": false
   },
   "outputs": [],
   "source": [
    "# here we are identfying the pos tags\n",
    "for token in tokens:\n",
    "    print(token.orth_,token.pos_)"
   ]
  },
  {
   "cell_type": "code",
   "execution_count": 108,
   "metadata": {
    "collapsed": true
   },
   "outputs": [],
   "source": [
    "import requests\n",
    "from bs4 import BeautifulSoup \n",
    "import re\n",
    "import pandas as pd"
   ]
  },
  {
   "cell_type": "code",
   "execution_count": 270,
   "metadata": {
    "collapsed": true
   },
   "outputs": [],
   "source": [
    "base_url = 'http://www.datatau.com'"
   ]
  },
  {
   "cell_type": "code",
   "execution_count": 271,
   "metadata": {
    "collapsed": false
   },
   "outputs": [],
   "source": [
    "df = pd.DataFrame(columns=['title','date'])"
   ]
  },
  {
   "cell_type": "code",
   "execution_count": 272,
   "metadata": {
    "collapsed": false
   },
   "outputs": [
    {
     "data": {
      "text/plain": [
       "title    0\n",
       "date     0\n",
       "dtype: int64"
      ]
     },
     "execution_count": 272,
     "metadata": {},
     "output_type": "execute_result"
    }
   ],
   "source": [
    "df.count()"
   ]
  },
  {
   "cell_type": "code",
   "execution_count": 273,
   "metadata": {
    "collapsed": false
   },
   "outputs": [],
   "source": [
    "def get_data_from_tau(url):\n",
    "    print(url)\n",
    "    dataTau = requests.get(url)\n",
    "    soup = BeautifulSoup(dataTau.content,'html.parser')\n",
    "    title_class = soup.select('td .title > a:nth-of-type(1)')\n",
    "    date_class = soup.select('.subtext')\n",
    "    print(len(title_class),len(date_class))\n",
    "    for i in range(len(title_class)-1):\n",
    "        df.loc[df.shape[0]] = [title_class[i].get_text(),date_class[i].get_text()]\n",
    "    print('updated df with data')\n",
    "    return title_class[len(title_class) - 1]"
   ]
  },
  {
   "cell_type": "code",
   "execution_count": 274,
   "metadata": {
    "collapsed": false
   },
   "outputs": [
    {
     "name": "stdout",
     "output_type": "stream",
     "text": [
      "http://www.datatau.com\n",
      "31 30\n",
      "updated df with data\n",
      "http://www.datatau.com/x?fnid=TuUjFmMXRM\n",
      "31 30\n",
      "updated df with data\n",
      "http://www.datatau.com/x?fnid=HIES6oUTEi\n",
      "31 30\n",
      "updated df with data\n",
      "http://www.datatau.com/x?fnid=jP4LLGjzzo\n",
      "31 30\n",
      "updated df with data\n",
      "http://www.datatau.com/x?fnid=H1ITzQerLc\n",
      "31 30\n",
      "updated df with data\n",
      "http://www.datatau.com/x?fnid=HESoCe6lCk\n",
      "31 30\n",
      "updated df with data\n"
     ]
    }
   ],
   "source": [
    "url = base_url\n",
    "for i in range(0,6):\n",
    "    more_url = get_data_from_tau(url)\n",
    "    url = base_url+more_url['href']"
   ]
  },
  {
   "cell_type": "code",
   "execution_count": 275,
   "metadata": {
    "collapsed": false
   },
   "outputs": [
    {
     "data": {
      "text/plain": [
       "(180, 2)"
      ]
     },
     "execution_count": 275,
     "metadata": {},
     "output_type": "execute_result"
    }
   ],
   "source": [
    "df.shape"
   ]
  },
  {
   "cell_type": "code",
   "execution_count": 276,
   "metadata": {
    "collapsed": false
   },
   "outputs": [
    {
     "data": {
      "text/html": [
       "<div>\n",
       "<table border=\"1\" class=\"dataframe\">\n",
       "  <thead>\n",
       "    <tr style=\"text-align: right;\">\n",
       "      <th></th>\n",
       "      <th>title</th>\n",
       "      <th>date</th>\n",
       "    </tr>\n",
       "  </thead>\n",
       "  <tbody>\n",
       "    <tr>\n",
       "      <th>0</th>\n",
       "      <td>10 Years of Open Source Machine Learning</td>\n",
       "      <td>2 points by tstonez 4 hours ago  | discuss</td>\n",
       "    </tr>\n",
       "    <tr>\n",
       "      <th>1</th>\n",
       "      <td>Data science intro for math/phys background</td>\n",
       "      <td>4 points by pmigdal 13 hours ago  | discuss</td>\n",
       "    </tr>\n",
       "    <tr>\n",
       "      <th>2</th>\n",
       "      <td>Data Science Tools: The Biggest Winners and Lo...</td>\n",
       "      <td>5 points by AnnaOnTheWeb 20 hours ago  | discuss</td>\n",
       "    </tr>\n",
       "    <tr>\n",
       "      <th>3</th>\n",
       "      <td>Making transparent how variations in analytica...</td>\n",
       "      <td>2 points by rahmaniacc 12 hours ago  | discuss</td>\n",
       "    </tr>\n",
       "    <tr>\n",
       "      <th>4</th>\n",
       "      <td>Neural Networks demystified</td>\n",
       "      <td>11 points by elyase 1 day ago  | discuss</td>\n",
       "    </tr>\n",
       "  </tbody>\n",
       "</table>\n",
       "</div>"
      ],
      "text/plain": [
       "                                               title  \\\n",
       "0           10 Years of Open Source Machine Learning   \n",
       "1        Data science intro for math/phys background   \n",
       "2  Data Science Tools: The Biggest Winners and Lo...   \n",
       "3  Making transparent how variations in analytica...   \n",
       "4                        Neural Networks demystified   \n",
       "\n",
       "                                               date  \n",
       "0        2 points by tstonez 4 hours ago  | discuss  \n",
       "1       4 points by pmigdal 13 hours ago  | discuss  \n",
       "2  5 points by AnnaOnTheWeb 20 hours ago  | discuss  \n",
       "3    2 points by rahmaniacc 12 hours ago  | discuss  \n",
       "4          11 points by elyase 1 day ago  | discuss  "
      ]
     },
     "execution_count": 276,
     "metadata": {},
     "output_type": "execute_result"
    }
   ],
   "source": [
    "df.head()"
   ]
  },
  {
   "cell_type": "code",
   "execution_count": null,
   "metadata": {
    "collapsed": true
   },
   "outputs": [],
   "source": []
  }
 ],
 "metadata": {
  "kernelspec": {
   "display_name": "Python 3",
   "language": "python",
   "name": "python3"
  },
  "language_info": {
   "codemirror_mode": {
    "name": "ipython",
    "version": 3
   },
   "file_extension": ".py",
   "mimetype": "text/x-python",
   "name": "python",
   "nbconvert_exporter": "python",
   "pygments_lexer": "ipython3",
   "version": "3.5.1"
  }
 },
 "nbformat": 4,
 "nbformat_minor": 0
}
